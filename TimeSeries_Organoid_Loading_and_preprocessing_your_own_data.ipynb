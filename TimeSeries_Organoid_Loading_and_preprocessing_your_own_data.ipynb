{
  "nbformat": 4,
  "nbformat_minor": 0,
  "metadata": {
    "kernelspec": {
      "display_name": "Python 3",
      "language": "python",
      "name": "python3"
    },
    "language_info": {
      "codemirror_mode": {
        "name": "ipython",
        "version": 3
      },
      "file_extension": ".py",
      "mimetype": "text/x-python",
      "name": "python",
      "nbconvert_exporter": "python",
      "pygments_lexer": "ipython3",
      "version": "3.8.1"
    },
    "colab": {
      "name": "TimeSeries_Organoid_Loading_and_preprocessing_your_own_data.ipynb",
      "provenance": [],
      "collapsed_sections": [
        "EB4WqfC7nAw6",
        "7-4emCXei756"
      ],
      "include_colab_link": true
    }
  },
  "cells": [
    {
      "cell_type": "markdown",
      "metadata": {
        "id": "view-in-github",
        "colab_type": "text"
      },
      "source": [
        "<a href=\"https://colab.research.google.com/github/preetida/TimeSeries_Organoid/blob/master/TimeSeries_Organoid_Loading_and_preprocessing_your_own_data.ipynb\" target=\"_parent\"><img src=\"https://colab.research.google.com/assets/colab-badge.svg\" alt=\"Open In Colab\"/></a>"
      ]
    },
    {
      "cell_type": "markdown",
      "metadata": {
        "colab_type": "text",
        "id": "ReoBzap1acVv"
      },
      "source": [
        "# Loading and preprocessing your own data\n",
        "\n",
        "In this tutorial, we demonstrate how to process your own dataset for later analysis on Google Colab.\n",
        "\n",
        "We review the following steps:\n",
        "\n",
        "1. Loading your own data  \n",
        "2. Filtering\n",
        "3. Normalization\n",
        "4. Transformation"
      ]
    },
    {
      "cell_type": "markdown",
      "metadata": {
        "colab_type": "text",
        "id": "cZZOws5li73K"
      },
      "source": [
        "## 0. Introducing `scprep`\n",
        "\n",
        "`scprep` is a lightweight scRNA-seq toolkit for Python Data Scientists.\n",
        "\n",
        "Most scRNA-seq toolkits are written in R (the most famous being [Seurat](https://satijalab.org/seurat/)), but we (and a majority of machine learning / data scientists) develop our tools in Python. Currently, [Scanpy](https://icb-scanpy.readthedocs-hosted.com/en/stable/) is the most popular toolkit for scRNA-seq analysis in Python. However, Scanpy has a highly structured framework for data representation that is incompatible with the bulk of the Python data science framework, e.g. [pandas](https://pandas.pydata.org/), [SciPy](https://www.scipy.org/), and [scikit-learn](https://scikit-learn.org/stable/).\n",
        "\n",
        "To accommodate users of the wider Python data analysis ecosystem, we developed `scprep` (<b>s</b>ingle <b>c</b>ell <b>prep</b>aration). `scprep` makes it easier to use the pandas / SciPy / scikit-learn ecosystem for scRNA-seq analysis. Most of `scprep` is composed of helper functions to perform tasks common to single cell data like loading counts matrices, filtering & normalizing cells by library size, and calculating common statistics. The key advantage of `scprep` is that data can be stored in Pandas DataFrames, NumPy arrays, Scipy sparse matrices, and no matter which tools you choose to interface with, _it just works_.\n",
        "\n",
        "To learn more about `scprep`, you can read the documentation at https://scprep.readthedocs.io/."
      ]
    },
    {
      "cell_type": "markdown",
      "metadata": {
        "colab_type": "text",
        "id": "oBJb_vVW1ONw"
      },
      "source": [
        "## 1. Install tools\n",
        "\n",
        "To run this notebook, you need to download a couple of packages. Unfortunately, due to restrictions of Google CoLab, these installations won't be saved. A workaround can be found at the following link if you're interested: https://stackoverflow.com/questions/52582858/saving-pip-installs-in-google-colab\n",
        "\n",
        "For now, simply run the following line of code by clicking on the code cell and hit `Shift` + `Enter`."
      ]
    },
    {
      "cell_type": "code",
      "metadata": {
        "colab_type": "code",
        "id": "RUZx-nc_1Mdr",
        "outputId": "49c9e5a3-4334-4a3a-98fa-b019f84e6f36",
        "colab": {
          "base_uri": "https://localhost:8080/",
          "height": 241
        }
      },
      "source": [
        "!pip install scprep tasklogger"
      ],
      "execution_count": 64,
      "outputs": [
        {
          "output_type": "stream",
          "text": [
            "Requirement already satisfied: scprep in /usr/local/lib/python3.6/dist-packages (1.0.5.post2)\n",
            "Requirement already satisfied: tasklogger in /usr/local/lib/python3.6/dist-packages (1.0.0)\n",
            "Requirement already satisfied: decorator>=4.3.0 in /usr/local/lib/python3.6/dist-packages (from scprep) (4.4.2)\n",
            "Requirement already satisfied: scipy>=0.18.1 in /usr/local/lib/python3.6/dist-packages (from scprep) (1.4.1)\n",
            "Requirement already satisfied: numpy>=1.12.0 in /usr/local/lib/python3.6/dist-packages (from scprep) (1.18.4)\n",
            "Requirement already satisfied: pandas>=0.25 in /usr/local/lib/python3.6/dist-packages (from scprep) (1.0.3)\n",
            "Requirement already satisfied: scikit-learn>=0.19.1 in /usr/local/lib/python3.6/dist-packages (from scprep) (0.22.2.post1)\n",
            "Requirement already satisfied: future in /usr/local/lib/python3.6/dist-packages (from tasklogger) (0.16.0)\n",
            "Requirement already satisfied: pytz>=2017.2 in /usr/local/lib/python3.6/dist-packages (from pandas>=0.25->scprep) (2018.9)\n",
            "Requirement already satisfied: python-dateutil>=2.6.1 in /usr/local/lib/python3.6/dist-packages (from pandas>=0.25->scprep) (2.8.1)\n",
            "Requirement already satisfied: joblib>=0.11 in /usr/local/lib/python3.6/dist-packages (from scikit-learn>=0.19.1->scprep) (0.15.1)\n",
            "Requirement already satisfied: six>=1.5 in /usr/local/lib/python3.6/dist-packages (from python-dateutil>=2.6.1->pandas>=0.25->scprep) (1.12.0)\n"
          ],
          "name": "stdout"
        }
      ]
    },
    {
      "cell_type": "markdown",
      "metadata": {
        "colab_type": "text",
        "id": "XUF17reyacVy"
      },
      "source": [
        "<a id='loading'></a>\n",
        "## 2. Loading your own data\n",
        "\n",
        "To run the tutorials with your own data, we will upload it to Google Colab and apply the preprocessing once. Then you can upload your processed data in each notebook instead of using the provided dataset.\n",
        "\n",
        "First, open the \"Files\" sidebar, which you can open by clicking on the folder icon in the top right of the notebook.\n",
        "\n",
        "![How to open the Files pane in Colab](https://github.com/KrishnaswamyLab/SingleCellWorkshop/raw/master/exercises/Preprocessing/img/files.png)"
      ]
    },
    {
      "cell_type": "markdown",
      "metadata": {
        "colab_type": "text",
        "id": "4Vt9YVxMk_ci"
      },
      "source": [
        "Next, click the \"Upload\" button and select all of the files you need--both data and metadata.\n",
        "\n",
        "![How to upload data in Colab](https://github.com/KrishnaswamyLab/SingleCellWorkshop/raw/master/exercises/Preprocessing/img/upload.png)"
      ]
    },
    {
      "cell_type": "markdown",
      "metadata": {
        "id": "lL-xuPO5k_cj",
        "colab_type": "text"
      },
      "source": [
        "Once the upload is complete, we can read and preprocess the data."
      ]
    },
    {
      "cell_type": "markdown",
      "metadata": {
        "colab_type": "text",
        "id": "AaPgko5lacWp"
      },
      "source": [
        "### Using `scprep` to import data into Pandas DataFrames\n",
        "\n",
        "\n",
        "We use a toolkit for loading and manipulating single-cell data called `scprep`. The functions in [`scprep.io`](https://scprep.readthedocs.io/en/stable/reference.html#module-scprep.io) will automatically load most single-cell datasets into a Pandas DataFrame. DataFrames are incredibly useful tools for data analysis in Python. To learn more about them, [check out the Pandas Documentation and Tutorials](https://pandas.pydata.org/pandas-docs/stable/).\n",
        "\n",
        "\n",
        "Let's load the data and create a single matrix that we can use for preprocessing, visualization, and analysis."
      ]
    },
    {
      "cell_type": "code",
      "metadata": {
        "colab_type": "code",
        "id": "rinT1SUmlj64",
        "colab": {}
      },
      "source": [
        "import scprep"
      ],
      "execution_count": 0,
      "outputs": []
    },
    {
      "cell_type": "markdown",
      "metadata": {
        "colab_type": "text",
        "id": "BTNNT3_zkOHw"
      },
      "source": [
        "#### Loading 10X data (zipped folder)\n",
        "\n",
        "Typically, 10X count matrices are stored in a folder containing `matrix.mtx.gz`, `features.tsv.gz` and `barcodes.tsv.gz`. To upload these to Google Colab, you will need to compress these three files (add them to a `.zip` archive) and upload the zipped folder. It does not need to be decompressed to load it with `scprep`.\n"
      ]
    },
    {
      "cell_type": "code",
      "metadata": {
        "colab_type": "code",
        "id": "OoeA3VklkT_9",
        "colab": {
          "base_uri": "https://localhost:8080/",
          "height": 181
        },
        "outputId": "ed5a7e61-6d3b-42fd-8424-54264f2f261b"
      },
      "source": [
        "data = scprep.io.load_10X_zip(filename)\n",
        "data.head()"
      ],
      "execution_count": 66,
      "outputs": [
        {
          "output_type": "error",
          "ename": "NameError",
          "evalue": "ignored",
          "traceback": [
            "\u001b[0;31m---------------------------------------------------------------------------\u001b[0m",
            "\u001b[0;31mNameError\u001b[0m                                 Traceback (most recent call last)",
            "\u001b[0;32m<ipython-input-66-f42fb19904ad>\u001b[0m in \u001b[0;36m<module>\u001b[0;34m()\u001b[0m\n\u001b[0;32m----> 1\u001b[0;31m \u001b[0mdata\u001b[0m \u001b[0;34m=\u001b[0m \u001b[0mscprep\u001b[0m\u001b[0;34m.\u001b[0m\u001b[0mio\u001b[0m\u001b[0;34m.\u001b[0m\u001b[0mload_10X_zip\u001b[0m\u001b[0;34m(\u001b[0m\u001b[0mfilename\u001b[0m\u001b[0;34m)\u001b[0m\u001b[0;34m\u001b[0m\u001b[0;34m\u001b[0m\u001b[0m\n\u001b[0m\u001b[1;32m      2\u001b[0m \u001b[0mdata\u001b[0m\u001b[0;34m.\u001b[0m\u001b[0mhead\u001b[0m\u001b[0;34m(\u001b[0m\u001b[0;34m)\u001b[0m\u001b[0;34m\u001b[0m\u001b[0;34m\u001b[0m\u001b[0m\n",
            "\u001b[0;31mNameError\u001b[0m: name 'filename' is not defined"
          ]
        }
      ]
    },
    {
      "cell_type": "markdown",
      "metadata": {
        "colab_type": "text",
        "id": "ORPK6b71kfsI"
      },
      "source": [
        "#### Loading 10X data (HDF5)\n",
        "\n",
        "Sometimes, 10X count matrices are stored in a HDF5 (or H5) file, a hierarchical file structure with native compression. You can upload and read this file directly."
      ]
    },
    {
      "cell_type": "code",
      "metadata": {
        "colab_type": "code",
        "id": "YCnh6RQHj7dL",
        "colab": {
          "base_uri": "https://localhost:8080/",
          "height": 372
        },
        "outputId": "aa39007c-cd76-448d-f2b0-4a8142d0ea1f"
      },
      "source": [
        "from google.colab import drive\n",
        "drive.mount('/content/gdrive')\n",
        "\n",
        "data1 = scprep.io.load_10X_HDF5('/content/gdrive/My Drive/AD1_filtered_feature_bc_matrix.h5')    \n",
        "data2 = scprep.io.load_10X_HDF5('/content/gdrive/My Drive/AD2_filtered_feature_bc_matrix.h5')\n",
        "data1.head()\n",
        "data2.head()"
      ],
      "execution_count": 2,
      "outputs": [
        {
          "output_type": "stream",
          "text": [
            "Drive already mounted at /content/gdrive; to attempt to forcibly remount, call drive.mount(\"/content/gdrive\", force_remount=True).\n"
          ],
          "name": "stdout"
        },
        {
          "output_type": "stream",
          "text": [
            "/usr/local/lib/python3.6/dist-packages/scprep/io/tenx.py:48: RuntimeWarning: Duplicate gene names detected! Forcing `gene_labels='both'`. Alternatively, try `gene_labels='id'`, `allow_duplicates=True`, or load the matrix with `sparse=False`\n",
            "  RuntimeWarning,\n",
            "/usr/local/lib/python3.6/dist-packages/scprep/io/tenx.py:48: RuntimeWarning: Duplicate gene names detected! Forcing `gene_labels='both'`. Alternatively, try `gene_labels='id'`, `allow_duplicates=True`, or load the matrix with `sparse=False`\n",
            "  RuntimeWarning,\n"
          ],
          "name": "stderr"
        },
        {
          "output_type": "execute_result",
          "data": {
            "text/html": [
              "<div>\n",
              "<style scoped>\n",
              "    .dataframe tbody tr th:only-of-type {\n",
              "        vertical-align: middle;\n",
              "    }\n",
              "\n",
              "    .dataframe tbody tr th {\n",
              "        vertical-align: top;\n",
              "    }\n",
              "\n",
              "    .dataframe thead th {\n",
              "        text-align: right;\n",
              "    }\n",
              "</style>\n",
              "<table border=\"1\" class=\"dataframe\">\n",
              "  <thead>\n",
              "    <tr style=\"text-align: right;\">\n",
              "      <th></th>\n",
              "      <th>Xkr4 (ENSMUSG00000051951)</th>\n",
              "      <th>Gm1992 (ENSMUSG00000089699)</th>\n",
              "      <th>Gm37381 (ENSMUSG00000102343)</th>\n",
              "      <th>Rp1 (ENSMUSG00000025900)</th>\n",
              "      <th>Rp1 (ENSMUSG00000109048)</th>\n",
              "      <th>Sox17 (ENSMUSG00000025902)</th>\n",
              "      <th>Gm37323 (ENSMUSG00000104328)</th>\n",
              "      <th>Mrpl15 (ENSMUSG00000033845)</th>\n",
              "      <th>Lypla1 (ENSMUSG00000025903)</th>\n",
              "      <th>Gm37988 (ENSMUSG00000104217)</th>\n",
              "      <th>Tcea1 (ENSMUSG00000033813)</th>\n",
              "      <th>Rgs20 (ENSMUSG00000002459)</th>\n",
              "      <th>Gm16041 (ENSMUSG00000085623)</th>\n",
              "      <th>Atp6v1h (ENSMUSG00000033793)</th>\n",
              "      <th>Oprk1 (ENSMUSG00000025905)</th>\n",
              "      <th>Npbwr1 (ENSMUSG00000033774)</th>\n",
              "      <th>Rb1cc1 (ENSMUSG00000025907)</th>\n",
              "      <th>4732440D04Rik (ENSMUSG00000090031)</th>\n",
              "      <th>Fam150a (ENSMUSG00000087247)</th>\n",
              "      <th>St18 (ENSMUSG00000033740)</th>\n",
              "      <th>Pcmtd1 (ENSMUSG00000051285)</th>\n",
              "      <th>Gm26901 (ENSMUSG00000097797)</th>\n",
              "      <th>Gm30414 (ENSMUSG00000103067)</th>\n",
              "      <th>Sntg1 (ENSMUSG00000025909)</th>\n",
              "      <th>Rrs1 (ENSMUSG00000061024)</th>\n",
              "      <th>Adhfe1 (ENSMUSG00000025911)</th>\n",
              "      <th>3110035E14Rik (ENSMUSG00000067879)</th>\n",
              "      <th>Gm29520 (ENSMUSG00000099827)</th>\n",
              "      <th>Mybl1 (ENSMUSG00000025912)</th>\n",
              "      <th>Vcpip1 (ENSMUSG00000045210)</th>\n",
              "      <th>1700034P13Rik (ENSMUSG00000097893)</th>\n",
              "      <th>Sgk3 (ENSMUSG00000025915)</th>\n",
              "      <th>Mcmdc2 (ENSMUSG00000046101)</th>\n",
              "      <th>Snhg6 (ENSMUSG00000098234)</th>\n",
              "      <th>Tcf24 (ENSMUSG00000099032)</th>\n",
              "      <th>Ppp1r42 (ENSMUSG00000025916)</th>\n",
              "      <th>Gm15818 (ENSMUSG00000087199)</th>\n",
              "      <th>Cops5 (ENSMUSG00000025917)</th>\n",
              "      <th>Cspp1 (ENSMUSG00000056763)</th>\n",
              "      <th>Arfgef1 (ENSMUSG00000067851)</th>\n",
              "      <th>...</th>\n",
              "      <th>AC132444.3 (ENSMUSG00000094874)</th>\n",
              "      <th>AC132444.5 (ENSMUSG00000095500)</th>\n",
              "      <th>AC132444.4 (ENSMUSG00000095450)</th>\n",
              "      <th>AC132444.2 (ENSMUSG00000094728)</th>\n",
              "      <th>Csprs (ENSMUSG00000062783)</th>\n",
              "      <th>AC132444.6 (ENSMUSG00000096808)</th>\n",
              "      <th>AC165294.1 (ENSMUSG00000094303)</th>\n",
              "      <th>AC165294.2 (ENSMUSG00000096236)</th>\n",
              "      <th>AC165294.3 (ENSMUSG00000096756)</th>\n",
              "      <th>AC164084.2 (ENSMUSG00000095666)</th>\n",
              "      <th>AC164084.3 (ENSMUSG00000096680)</th>\n",
              "      <th>AC164084.1 (ENSMUSG00000095505)</th>\n",
              "      <th>AC140325.2 (ENSMUSG00000094741)</th>\n",
              "      <th>AC140325.1 (ENSMUSG00000074720)</th>\n",
              "      <th>Gm3286 (ENSMUSG00000094337)</th>\n",
              "      <th>AC140325.3 (ENSMUSG00000095570)</th>\n",
              "      <th>AC140325.4 (ENSMUSG00000096728)</th>\n",
              "      <th>Ccl27a (ENSMUSG00000093828)</th>\n",
              "      <th>Il11ra2 (ENSMUSG00000095623)</th>\n",
              "      <th>Ccl19 (ENSMUSG00000094661)</th>\n",
              "      <th>Ccl21a (ENSMUSG00000095320)</th>\n",
              "      <th>Gm10931 (ENSMUSG00000094350)</th>\n",
              "      <th>CT868723.1 (ENSMUSG00000096237)</th>\n",
              "      <th>AC125178.1 (ENSMUSG00000094722)</th>\n",
              "      <th>AC125178.3 (ENSMUSG00000095728)</th>\n",
              "      <th>AC125178.2 (ENSMUSG00000095076)</th>\n",
              "      <th>Vmn1r186 (ENSMUSG00000096776)</th>\n",
              "      <th>AC102264.1 (ENSMUSG00000096244)</th>\n",
              "      <th>AC125149.3 (ENSMUSG00000079800)</th>\n",
              "      <th>AC125149.5 (ENSMUSG00000095092)</th>\n",
              "      <th>AC125149.1 (ENSMUSG00000079192)</th>\n",
              "      <th>AC125149.2 (ENSMUSG00000079794)</th>\n",
              "      <th>AC125149.4 (ENSMUSG00000094799)</th>\n",
              "      <th>AC234645.1 (ENSMUSG00000095019)</th>\n",
              "      <th>AC168977.2 (ENSMUSG00000094915)</th>\n",
              "      <th>AC168977.1 (ENSMUSG00000079808)</th>\n",
              "      <th>PISD (ENSMUSG00000095041)</th>\n",
              "      <th>DHRSX (ENSMUSG00000063897)</th>\n",
              "      <th>Vmn2r122 (ENSMUSG00000096730)</th>\n",
              "      <th>CAAA01147332.1 (ENSMUSG00000095742)</th>\n",
              "    </tr>\n",
              "  </thead>\n",
              "  <tbody>\n",
              "    <tr>\n",
              "      <th>AAACCCAAGCTAAATG-1</th>\n",
              "      <td>0.0</td>\n",
              "      <td>0.0</td>\n",
              "      <td>0.0</td>\n",
              "      <td>0.0</td>\n",
              "      <td>0.0</td>\n",
              "      <td>0.0</td>\n",
              "      <td>0.0</td>\n",
              "      <td>0.0</td>\n",
              "      <td>1.0</td>\n",
              "      <td>0.0</td>\n",
              "      <td>0.0</td>\n",
              "      <td>0.0</td>\n",
              "      <td>0.0</td>\n",
              "      <td>0.0</td>\n",
              "      <td>0.0</td>\n",
              "      <td>0.0</td>\n",
              "      <td>1.0</td>\n",
              "      <td>0.0</td>\n",
              "      <td>2.0</td>\n",
              "      <td>0.0</td>\n",
              "      <td>1.0</td>\n",
              "      <td>0.0</td>\n",
              "      <td>0.0</td>\n",
              "      <td>0.0</td>\n",
              "      <td>1.0</td>\n",
              "      <td>0.0</td>\n",
              "      <td>0.0</td>\n",
              "      <td>0.0</td>\n",
              "      <td>0.0</td>\n",
              "      <td>0.0</td>\n",
              "      <td>0.0</td>\n",
              "      <td>0.0</td>\n",
              "      <td>0.0</td>\n",
              "      <td>0.0</td>\n",
              "      <td>0.0</td>\n",
              "      <td>0.0</td>\n",
              "      <td>0.0</td>\n",
              "      <td>1.0</td>\n",
              "      <td>0.0</td>\n",
              "      <td>1.0</td>\n",
              "      <td>...</td>\n",
              "      <td>0.0</td>\n",
              "      <td>0.0</td>\n",
              "      <td>0.0</td>\n",
              "      <td>0.0</td>\n",
              "      <td>0.0</td>\n",
              "      <td>0.0</td>\n",
              "      <td>0.0</td>\n",
              "      <td>0.0</td>\n",
              "      <td>0.0</td>\n",
              "      <td>0.0</td>\n",
              "      <td>0.0</td>\n",
              "      <td>0.0</td>\n",
              "      <td>0.0</td>\n",
              "      <td>0.0</td>\n",
              "      <td>0.0</td>\n",
              "      <td>0.0</td>\n",
              "      <td>0.0</td>\n",
              "      <td>0.0</td>\n",
              "      <td>0.0</td>\n",
              "      <td>0.0</td>\n",
              "      <td>0.0</td>\n",
              "      <td>0.0</td>\n",
              "      <td>0.0</td>\n",
              "      <td>0.0</td>\n",
              "      <td>0.0</td>\n",
              "      <td>0.0</td>\n",
              "      <td>0.0</td>\n",
              "      <td>0.0</td>\n",
              "      <td>0.0</td>\n",
              "      <td>0.0</td>\n",
              "      <td>0.0</td>\n",
              "      <td>0.0</td>\n",
              "      <td>0.0</td>\n",
              "      <td>0.0</td>\n",
              "      <td>0.0</td>\n",
              "      <td>0.0</td>\n",
              "      <td>4.0</td>\n",
              "      <td>0.0</td>\n",
              "      <td>0.0</td>\n",
              "      <td>0.0</td>\n",
              "    </tr>\n",
              "    <tr>\n",
              "      <th>AAACCCATCTTCTTCC-1</th>\n",
              "      <td>0.0</td>\n",
              "      <td>0.0</td>\n",
              "      <td>0.0</td>\n",
              "      <td>0.0</td>\n",
              "      <td>0.0</td>\n",
              "      <td>0.0</td>\n",
              "      <td>0.0</td>\n",
              "      <td>0.0</td>\n",
              "      <td>0.0</td>\n",
              "      <td>0.0</td>\n",
              "      <td>0.0</td>\n",
              "      <td>0.0</td>\n",
              "      <td>0.0</td>\n",
              "      <td>1.0</td>\n",
              "      <td>0.0</td>\n",
              "      <td>0.0</td>\n",
              "      <td>0.0</td>\n",
              "      <td>0.0</td>\n",
              "      <td>0.0</td>\n",
              "      <td>0.0</td>\n",
              "      <td>0.0</td>\n",
              "      <td>0.0</td>\n",
              "      <td>0.0</td>\n",
              "      <td>0.0</td>\n",
              "      <td>0.0</td>\n",
              "      <td>0.0</td>\n",
              "      <td>0.0</td>\n",
              "      <td>0.0</td>\n",
              "      <td>0.0</td>\n",
              "      <td>0.0</td>\n",
              "      <td>0.0</td>\n",
              "      <td>0.0</td>\n",
              "      <td>0.0</td>\n",
              "      <td>2.0</td>\n",
              "      <td>0.0</td>\n",
              "      <td>0.0</td>\n",
              "      <td>0.0</td>\n",
              "      <td>0.0</td>\n",
              "      <td>0.0</td>\n",
              "      <td>1.0</td>\n",
              "      <td>...</td>\n",
              "      <td>0.0</td>\n",
              "      <td>0.0</td>\n",
              "      <td>0.0</td>\n",
              "      <td>0.0</td>\n",
              "      <td>0.0</td>\n",
              "      <td>0.0</td>\n",
              "      <td>0.0</td>\n",
              "      <td>0.0</td>\n",
              "      <td>0.0</td>\n",
              "      <td>0.0</td>\n",
              "      <td>0.0</td>\n",
              "      <td>0.0</td>\n",
              "      <td>0.0</td>\n",
              "      <td>0.0</td>\n",
              "      <td>0.0</td>\n",
              "      <td>0.0</td>\n",
              "      <td>0.0</td>\n",
              "      <td>0.0</td>\n",
              "      <td>0.0</td>\n",
              "      <td>0.0</td>\n",
              "      <td>0.0</td>\n",
              "      <td>0.0</td>\n",
              "      <td>0.0</td>\n",
              "      <td>0.0</td>\n",
              "      <td>0.0</td>\n",
              "      <td>0.0</td>\n",
              "      <td>0.0</td>\n",
              "      <td>0.0</td>\n",
              "      <td>0.0</td>\n",
              "      <td>0.0</td>\n",
              "      <td>0.0</td>\n",
              "      <td>0.0</td>\n",
              "      <td>0.0</td>\n",
              "      <td>0.0</td>\n",
              "      <td>0.0</td>\n",
              "      <td>0.0</td>\n",
              "      <td>1.0</td>\n",
              "      <td>0.0</td>\n",
              "      <td>0.0</td>\n",
              "      <td>0.0</td>\n",
              "    </tr>\n",
              "    <tr>\n",
              "      <th>AAACGAAAGGGAGGAC-1</th>\n",
              "      <td>0.0</td>\n",
              "      <td>0.0</td>\n",
              "      <td>0.0</td>\n",
              "      <td>0.0</td>\n",
              "      <td>0.0</td>\n",
              "      <td>0.0</td>\n",
              "      <td>0.0</td>\n",
              "      <td>1.0</td>\n",
              "      <td>1.0</td>\n",
              "      <td>0.0</td>\n",
              "      <td>1.0</td>\n",
              "      <td>0.0</td>\n",
              "      <td>0.0</td>\n",
              "      <td>0.0</td>\n",
              "      <td>0.0</td>\n",
              "      <td>0.0</td>\n",
              "      <td>1.0</td>\n",
              "      <td>1.0</td>\n",
              "      <td>0.0</td>\n",
              "      <td>0.0</td>\n",
              "      <td>1.0</td>\n",
              "      <td>0.0</td>\n",
              "      <td>0.0</td>\n",
              "      <td>0.0</td>\n",
              "      <td>0.0</td>\n",
              "      <td>0.0</td>\n",
              "      <td>0.0</td>\n",
              "      <td>0.0</td>\n",
              "      <td>0.0</td>\n",
              "      <td>0.0</td>\n",
              "      <td>0.0</td>\n",
              "      <td>0.0</td>\n",
              "      <td>0.0</td>\n",
              "      <td>2.0</td>\n",
              "      <td>0.0</td>\n",
              "      <td>0.0</td>\n",
              "      <td>0.0</td>\n",
              "      <td>0.0</td>\n",
              "      <td>0.0</td>\n",
              "      <td>2.0</td>\n",
              "      <td>...</td>\n",
              "      <td>0.0</td>\n",
              "      <td>0.0</td>\n",
              "      <td>0.0</td>\n",
              "      <td>0.0</td>\n",
              "      <td>0.0</td>\n",
              "      <td>0.0</td>\n",
              "      <td>0.0</td>\n",
              "      <td>0.0</td>\n",
              "      <td>0.0</td>\n",
              "      <td>0.0</td>\n",
              "      <td>0.0</td>\n",
              "      <td>0.0</td>\n",
              "      <td>0.0</td>\n",
              "      <td>0.0</td>\n",
              "      <td>0.0</td>\n",
              "      <td>0.0</td>\n",
              "      <td>0.0</td>\n",
              "      <td>0.0</td>\n",
              "      <td>0.0</td>\n",
              "      <td>0.0</td>\n",
              "      <td>0.0</td>\n",
              "      <td>0.0</td>\n",
              "      <td>0.0</td>\n",
              "      <td>0.0</td>\n",
              "      <td>0.0</td>\n",
              "      <td>0.0</td>\n",
              "      <td>0.0</td>\n",
              "      <td>0.0</td>\n",
              "      <td>0.0</td>\n",
              "      <td>0.0</td>\n",
              "      <td>0.0</td>\n",
              "      <td>0.0</td>\n",
              "      <td>0.0</td>\n",
              "      <td>0.0</td>\n",
              "      <td>0.0</td>\n",
              "      <td>0.0</td>\n",
              "      <td>3.0</td>\n",
              "      <td>0.0</td>\n",
              "      <td>0.0</td>\n",
              "      <td>0.0</td>\n",
              "    </tr>\n",
              "    <tr>\n",
              "      <th>AAACGAAAGTTCCTGA-1</th>\n",
              "      <td>0.0</td>\n",
              "      <td>0.0</td>\n",
              "      <td>0.0</td>\n",
              "      <td>0.0</td>\n",
              "      <td>0.0</td>\n",
              "      <td>0.0</td>\n",
              "      <td>0.0</td>\n",
              "      <td>1.0</td>\n",
              "      <td>0.0</td>\n",
              "      <td>0.0</td>\n",
              "      <td>0.0</td>\n",
              "      <td>0.0</td>\n",
              "      <td>0.0</td>\n",
              "      <td>1.0</td>\n",
              "      <td>0.0</td>\n",
              "      <td>0.0</td>\n",
              "      <td>0.0</td>\n",
              "      <td>0.0</td>\n",
              "      <td>1.0</td>\n",
              "      <td>0.0</td>\n",
              "      <td>0.0</td>\n",
              "      <td>0.0</td>\n",
              "      <td>0.0</td>\n",
              "      <td>0.0</td>\n",
              "      <td>0.0</td>\n",
              "      <td>0.0</td>\n",
              "      <td>0.0</td>\n",
              "      <td>0.0</td>\n",
              "      <td>0.0</td>\n",
              "      <td>0.0</td>\n",
              "      <td>0.0</td>\n",
              "      <td>0.0</td>\n",
              "      <td>0.0</td>\n",
              "      <td>0.0</td>\n",
              "      <td>0.0</td>\n",
              "      <td>0.0</td>\n",
              "      <td>0.0</td>\n",
              "      <td>0.0</td>\n",
              "      <td>0.0</td>\n",
              "      <td>0.0</td>\n",
              "      <td>...</td>\n",
              "      <td>0.0</td>\n",
              "      <td>0.0</td>\n",
              "      <td>0.0</td>\n",
              "      <td>0.0</td>\n",
              "      <td>0.0</td>\n",
              "      <td>0.0</td>\n",
              "      <td>0.0</td>\n",
              "      <td>0.0</td>\n",
              "      <td>0.0</td>\n",
              "      <td>0.0</td>\n",
              "      <td>0.0</td>\n",
              "      <td>0.0</td>\n",
              "      <td>0.0</td>\n",
              "      <td>0.0</td>\n",
              "      <td>0.0</td>\n",
              "      <td>0.0</td>\n",
              "      <td>0.0</td>\n",
              "      <td>0.0</td>\n",
              "      <td>0.0</td>\n",
              "      <td>0.0</td>\n",
              "      <td>0.0</td>\n",
              "      <td>0.0</td>\n",
              "      <td>0.0</td>\n",
              "      <td>0.0</td>\n",
              "      <td>0.0</td>\n",
              "      <td>0.0</td>\n",
              "      <td>0.0</td>\n",
              "      <td>0.0</td>\n",
              "      <td>0.0</td>\n",
              "      <td>0.0</td>\n",
              "      <td>0.0</td>\n",
              "      <td>0.0</td>\n",
              "      <td>0.0</td>\n",
              "      <td>0.0</td>\n",
              "      <td>0.0</td>\n",
              "      <td>0.0</td>\n",
              "      <td>3.0</td>\n",
              "      <td>1.0</td>\n",
              "      <td>0.0</td>\n",
              "      <td>0.0</td>\n",
              "    </tr>\n",
              "    <tr>\n",
              "      <th>AAACGAACAGTTGTTG-1</th>\n",
              "      <td>0.0</td>\n",
              "      <td>0.0</td>\n",
              "      <td>0.0</td>\n",
              "      <td>0.0</td>\n",
              "      <td>0.0</td>\n",
              "      <td>0.0</td>\n",
              "      <td>0.0</td>\n",
              "      <td>0.0</td>\n",
              "      <td>0.0</td>\n",
              "      <td>0.0</td>\n",
              "      <td>1.0</td>\n",
              "      <td>0.0</td>\n",
              "      <td>0.0</td>\n",
              "      <td>1.0</td>\n",
              "      <td>0.0</td>\n",
              "      <td>0.0</td>\n",
              "      <td>2.0</td>\n",
              "      <td>0.0</td>\n",
              "      <td>0.0</td>\n",
              "      <td>0.0</td>\n",
              "      <td>0.0</td>\n",
              "      <td>0.0</td>\n",
              "      <td>0.0</td>\n",
              "      <td>0.0</td>\n",
              "      <td>0.0</td>\n",
              "      <td>0.0</td>\n",
              "      <td>0.0</td>\n",
              "      <td>0.0</td>\n",
              "      <td>0.0</td>\n",
              "      <td>1.0</td>\n",
              "      <td>0.0</td>\n",
              "      <td>0.0</td>\n",
              "      <td>0.0</td>\n",
              "      <td>0.0</td>\n",
              "      <td>0.0</td>\n",
              "      <td>0.0</td>\n",
              "      <td>0.0</td>\n",
              "      <td>0.0</td>\n",
              "      <td>0.0</td>\n",
              "      <td>0.0</td>\n",
              "      <td>...</td>\n",
              "      <td>0.0</td>\n",
              "      <td>0.0</td>\n",
              "      <td>0.0</td>\n",
              "      <td>0.0</td>\n",
              "      <td>0.0</td>\n",
              "      <td>0.0</td>\n",
              "      <td>0.0</td>\n",
              "      <td>0.0</td>\n",
              "      <td>0.0</td>\n",
              "      <td>0.0</td>\n",
              "      <td>0.0</td>\n",
              "      <td>0.0</td>\n",
              "      <td>0.0</td>\n",
              "      <td>0.0</td>\n",
              "      <td>0.0</td>\n",
              "      <td>0.0</td>\n",
              "      <td>0.0</td>\n",
              "      <td>0.0</td>\n",
              "      <td>0.0</td>\n",
              "      <td>0.0</td>\n",
              "      <td>0.0</td>\n",
              "      <td>0.0</td>\n",
              "      <td>0.0</td>\n",
              "      <td>0.0</td>\n",
              "      <td>0.0</td>\n",
              "      <td>0.0</td>\n",
              "      <td>0.0</td>\n",
              "      <td>0.0</td>\n",
              "      <td>0.0</td>\n",
              "      <td>0.0</td>\n",
              "      <td>0.0</td>\n",
              "      <td>0.0</td>\n",
              "      <td>0.0</td>\n",
              "      <td>0.0</td>\n",
              "      <td>0.0</td>\n",
              "      <td>0.0</td>\n",
              "      <td>8.0</td>\n",
              "      <td>0.0</td>\n",
              "      <td>0.0</td>\n",
              "      <td>0.0</td>\n",
              "    </tr>\n",
              "  </tbody>\n",
              "</table>\n",
              "<p>5 rows × 27998 columns</p>\n",
              "</div>"
            ],
            "text/plain": [
              "                    Xkr4 (ENSMUSG00000051951)  ...  CAAA01147332.1 (ENSMUSG00000095742)\n",
              "AAACCCAAGCTAAATG-1                        0.0  ...                                  0.0\n",
              "AAACCCATCTTCTTCC-1                        0.0  ...                                  0.0\n",
              "AAACGAAAGGGAGGAC-1                        0.0  ...                                  0.0\n",
              "AAACGAAAGTTCCTGA-1                        0.0  ...                                  0.0\n",
              "AAACGAACAGTTGTTG-1                        0.0  ...                                  0.0\n",
              "\n",
              "[5 rows x 27998 columns]"
            ]
          },
          "metadata": {
            "tags": []
          },
          "execution_count": 2
        }
      ]
    },
    {
      "cell_type": "code",
      "metadata": {
        "id": "FMKw75_kotAX",
        "colab_type": "code",
        "colab": {
          "base_uri": "https://localhost:8080/",
          "height": 287
        },
        "outputId": "e52e0b6f-2c03-4499-d2c0-c889448a16bd"
      },
      "source": [
        "data2.head()"
      ],
      "execution_count": 68,
      "outputs": [
        {
          "output_type": "execute_result",
          "data": {
            "text/html": [
              "<div>\n",
              "<style scoped>\n",
              "    .dataframe tbody tr th:only-of-type {\n",
              "        vertical-align: middle;\n",
              "    }\n",
              "\n",
              "    .dataframe tbody tr th {\n",
              "        vertical-align: top;\n",
              "    }\n",
              "\n",
              "    .dataframe thead th {\n",
              "        text-align: right;\n",
              "    }\n",
              "</style>\n",
              "<table border=\"1\" class=\"dataframe\">\n",
              "  <thead>\n",
              "    <tr style=\"text-align: right;\">\n",
              "      <th></th>\n",
              "      <th>Xkr4 (ENSMUSG00000051951)</th>\n",
              "      <th>Gm1992 (ENSMUSG00000089699)</th>\n",
              "      <th>Gm37381 (ENSMUSG00000102343)</th>\n",
              "      <th>Rp1 (ENSMUSG00000025900)</th>\n",
              "      <th>Rp1 (ENSMUSG00000109048)</th>\n",
              "      <th>Sox17 (ENSMUSG00000025902)</th>\n",
              "      <th>Gm37323 (ENSMUSG00000104328)</th>\n",
              "      <th>Mrpl15 (ENSMUSG00000033845)</th>\n",
              "      <th>Lypla1 (ENSMUSG00000025903)</th>\n",
              "      <th>Gm37988 (ENSMUSG00000104217)</th>\n",
              "      <th>Tcea1 (ENSMUSG00000033813)</th>\n",
              "      <th>Rgs20 (ENSMUSG00000002459)</th>\n",
              "      <th>Gm16041 (ENSMUSG00000085623)</th>\n",
              "      <th>Atp6v1h (ENSMUSG00000033793)</th>\n",
              "      <th>Oprk1 (ENSMUSG00000025905)</th>\n",
              "      <th>Npbwr1 (ENSMUSG00000033774)</th>\n",
              "      <th>Rb1cc1 (ENSMUSG00000025907)</th>\n",
              "      <th>4732440D04Rik (ENSMUSG00000090031)</th>\n",
              "      <th>Fam150a (ENSMUSG00000087247)</th>\n",
              "      <th>St18 (ENSMUSG00000033740)</th>\n",
              "      <th>Pcmtd1 (ENSMUSG00000051285)</th>\n",
              "      <th>Gm26901 (ENSMUSG00000097797)</th>\n",
              "      <th>Gm30414 (ENSMUSG00000103067)</th>\n",
              "      <th>Sntg1 (ENSMUSG00000025909)</th>\n",
              "      <th>Rrs1 (ENSMUSG00000061024)</th>\n",
              "      <th>Adhfe1 (ENSMUSG00000025911)</th>\n",
              "      <th>3110035E14Rik (ENSMUSG00000067879)</th>\n",
              "      <th>Gm29520 (ENSMUSG00000099827)</th>\n",
              "      <th>Mybl1 (ENSMUSG00000025912)</th>\n",
              "      <th>Vcpip1 (ENSMUSG00000045210)</th>\n",
              "      <th>1700034P13Rik (ENSMUSG00000097893)</th>\n",
              "      <th>Sgk3 (ENSMUSG00000025915)</th>\n",
              "      <th>Mcmdc2 (ENSMUSG00000046101)</th>\n",
              "      <th>Snhg6 (ENSMUSG00000098234)</th>\n",
              "      <th>Tcf24 (ENSMUSG00000099032)</th>\n",
              "      <th>Ppp1r42 (ENSMUSG00000025916)</th>\n",
              "      <th>Gm15818 (ENSMUSG00000087199)</th>\n",
              "      <th>Cops5 (ENSMUSG00000025917)</th>\n",
              "      <th>Cspp1 (ENSMUSG00000056763)</th>\n",
              "      <th>Arfgef1 (ENSMUSG00000067851)</th>\n",
              "      <th>...</th>\n",
              "      <th>AC132444.3 (ENSMUSG00000094874)</th>\n",
              "      <th>AC132444.5 (ENSMUSG00000095500)</th>\n",
              "      <th>AC132444.4 (ENSMUSG00000095450)</th>\n",
              "      <th>AC132444.2 (ENSMUSG00000094728)</th>\n",
              "      <th>Csprs (ENSMUSG00000062783)</th>\n",
              "      <th>AC132444.6 (ENSMUSG00000096808)</th>\n",
              "      <th>AC165294.1 (ENSMUSG00000094303)</th>\n",
              "      <th>AC165294.2 (ENSMUSG00000096236)</th>\n",
              "      <th>AC165294.3 (ENSMUSG00000096756)</th>\n",
              "      <th>AC164084.2 (ENSMUSG00000095666)</th>\n",
              "      <th>AC164084.3 (ENSMUSG00000096680)</th>\n",
              "      <th>AC164084.1 (ENSMUSG00000095505)</th>\n",
              "      <th>AC140325.2 (ENSMUSG00000094741)</th>\n",
              "      <th>AC140325.1 (ENSMUSG00000074720)</th>\n",
              "      <th>Gm3286 (ENSMUSG00000094337)</th>\n",
              "      <th>AC140325.3 (ENSMUSG00000095570)</th>\n",
              "      <th>AC140325.4 (ENSMUSG00000096728)</th>\n",
              "      <th>Ccl27a (ENSMUSG00000093828)</th>\n",
              "      <th>Il11ra2 (ENSMUSG00000095623)</th>\n",
              "      <th>Ccl19 (ENSMUSG00000094661)</th>\n",
              "      <th>Ccl21a (ENSMUSG00000095320)</th>\n",
              "      <th>Gm10931 (ENSMUSG00000094350)</th>\n",
              "      <th>CT868723.1 (ENSMUSG00000096237)</th>\n",
              "      <th>AC125178.1 (ENSMUSG00000094722)</th>\n",
              "      <th>AC125178.3 (ENSMUSG00000095728)</th>\n",
              "      <th>AC125178.2 (ENSMUSG00000095076)</th>\n",
              "      <th>Vmn1r186 (ENSMUSG00000096776)</th>\n",
              "      <th>AC102264.1 (ENSMUSG00000096244)</th>\n",
              "      <th>AC125149.3 (ENSMUSG00000079800)</th>\n",
              "      <th>AC125149.5 (ENSMUSG00000095092)</th>\n",
              "      <th>AC125149.1 (ENSMUSG00000079192)</th>\n",
              "      <th>AC125149.2 (ENSMUSG00000079794)</th>\n",
              "      <th>AC125149.4 (ENSMUSG00000094799)</th>\n",
              "      <th>AC234645.1 (ENSMUSG00000095019)</th>\n",
              "      <th>AC168977.2 (ENSMUSG00000094915)</th>\n",
              "      <th>AC168977.1 (ENSMUSG00000079808)</th>\n",
              "      <th>PISD (ENSMUSG00000095041)</th>\n",
              "      <th>DHRSX (ENSMUSG00000063897)</th>\n",
              "      <th>Vmn2r122 (ENSMUSG00000096730)</th>\n",
              "      <th>CAAA01147332.1 (ENSMUSG00000095742)</th>\n",
              "    </tr>\n",
              "  </thead>\n",
              "  <tbody>\n",
              "    <tr>\n",
              "      <th>AAACCCAAGCTAAATG-1</th>\n",
              "      <td>0.0</td>\n",
              "      <td>0.0</td>\n",
              "      <td>0.0</td>\n",
              "      <td>0.0</td>\n",
              "      <td>0.0</td>\n",
              "      <td>0.0</td>\n",
              "      <td>0.0</td>\n",
              "      <td>0.0</td>\n",
              "      <td>1.0</td>\n",
              "      <td>0.0</td>\n",
              "      <td>0.0</td>\n",
              "      <td>0.0</td>\n",
              "      <td>0.0</td>\n",
              "      <td>0.0</td>\n",
              "      <td>0.0</td>\n",
              "      <td>0.0</td>\n",
              "      <td>1.0</td>\n",
              "      <td>0.0</td>\n",
              "      <td>2.0</td>\n",
              "      <td>0.0</td>\n",
              "      <td>1.0</td>\n",
              "      <td>0.0</td>\n",
              "      <td>0.0</td>\n",
              "      <td>0.0</td>\n",
              "      <td>1.0</td>\n",
              "      <td>0.0</td>\n",
              "      <td>0.0</td>\n",
              "      <td>0.0</td>\n",
              "      <td>0.0</td>\n",
              "      <td>0.0</td>\n",
              "      <td>0.0</td>\n",
              "      <td>0.0</td>\n",
              "      <td>0.0</td>\n",
              "      <td>0.0</td>\n",
              "      <td>0.0</td>\n",
              "      <td>0.0</td>\n",
              "      <td>0.0</td>\n",
              "      <td>1.0</td>\n",
              "      <td>0.0</td>\n",
              "      <td>1.0</td>\n",
              "      <td>...</td>\n",
              "      <td>0.0</td>\n",
              "      <td>0.0</td>\n",
              "      <td>0.0</td>\n",
              "      <td>0.0</td>\n",
              "      <td>0.0</td>\n",
              "      <td>0.0</td>\n",
              "      <td>0.0</td>\n",
              "      <td>0.0</td>\n",
              "      <td>0.0</td>\n",
              "      <td>0.0</td>\n",
              "      <td>0.0</td>\n",
              "      <td>0.0</td>\n",
              "      <td>0.0</td>\n",
              "      <td>0.0</td>\n",
              "      <td>0.0</td>\n",
              "      <td>0.0</td>\n",
              "      <td>0.0</td>\n",
              "      <td>0.0</td>\n",
              "      <td>0.0</td>\n",
              "      <td>0.0</td>\n",
              "      <td>0.0</td>\n",
              "      <td>0.0</td>\n",
              "      <td>0.0</td>\n",
              "      <td>0.0</td>\n",
              "      <td>0.0</td>\n",
              "      <td>0.0</td>\n",
              "      <td>0.0</td>\n",
              "      <td>0.0</td>\n",
              "      <td>0.0</td>\n",
              "      <td>0.0</td>\n",
              "      <td>0.0</td>\n",
              "      <td>0.0</td>\n",
              "      <td>0.0</td>\n",
              "      <td>0.0</td>\n",
              "      <td>0.0</td>\n",
              "      <td>0.0</td>\n",
              "      <td>4.0</td>\n",
              "      <td>0.0</td>\n",
              "      <td>0.0</td>\n",
              "      <td>0.0</td>\n",
              "    </tr>\n",
              "    <tr>\n",
              "      <th>AAACCCATCTTCTTCC-1</th>\n",
              "      <td>0.0</td>\n",
              "      <td>0.0</td>\n",
              "      <td>0.0</td>\n",
              "      <td>0.0</td>\n",
              "      <td>0.0</td>\n",
              "      <td>0.0</td>\n",
              "      <td>0.0</td>\n",
              "      <td>0.0</td>\n",
              "      <td>0.0</td>\n",
              "      <td>0.0</td>\n",
              "      <td>0.0</td>\n",
              "      <td>0.0</td>\n",
              "      <td>0.0</td>\n",
              "      <td>1.0</td>\n",
              "      <td>0.0</td>\n",
              "      <td>0.0</td>\n",
              "      <td>0.0</td>\n",
              "      <td>0.0</td>\n",
              "      <td>0.0</td>\n",
              "      <td>0.0</td>\n",
              "      <td>0.0</td>\n",
              "      <td>0.0</td>\n",
              "      <td>0.0</td>\n",
              "      <td>0.0</td>\n",
              "      <td>0.0</td>\n",
              "      <td>0.0</td>\n",
              "      <td>0.0</td>\n",
              "      <td>0.0</td>\n",
              "      <td>0.0</td>\n",
              "      <td>0.0</td>\n",
              "      <td>0.0</td>\n",
              "      <td>0.0</td>\n",
              "      <td>0.0</td>\n",
              "      <td>2.0</td>\n",
              "      <td>0.0</td>\n",
              "      <td>0.0</td>\n",
              "      <td>0.0</td>\n",
              "      <td>0.0</td>\n",
              "      <td>0.0</td>\n",
              "      <td>1.0</td>\n",
              "      <td>...</td>\n",
              "      <td>0.0</td>\n",
              "      <td>0.0</td>\n",
              "      <td>0.0</td>\n",
              "      <td>0.0</td>\n",
              "      <td>0.0</td>\n",
              "      <td>0.0</td>\n",
              "      <td>0.0</td>\n",
              "      <td>0.0</td>\n",
              "      <td>0.0</td>\n",
              "      <td>0.0</td>\n",
              "      <td>0.0</td>\n",
              "      <td>0.0</td>\n",
              "      <td>0.0</td>\n",
              "      <td>0.0</td>\n",
              "      <td>0.0</td>\n",
              "      <td>0.0</td>\n",
              "      <td>0.0</td>\n",
              "      <td>0.0</td>\n",
              "      <td>0.0</td>\n",
              "      <td>0.0</td>\n",
              "      <td>0.0</td>\n",
              "      <td>0.0</td>\n",
              "      <td>0.0</td>\n",
              "      <td>0.0</td>\n",
              "      <td>0.0</td>\n",
              "      <td>0.0</td>\n",
              "      <td>0.0</td>\n",
              "      <td>0.0</td>\n",
              "      <td>0.0</td>\n",
              "      <td>0.0</td>\n",
              "      <td>0.0</td>\n",
              "      <td>0.0</td>\n",
              "      <td>0.0</td>\n",
              "      <td>0.0</td>\n",
              "      <td>0.0</td>\n",
              "      <td>0.0</td>\n",
              "      <td>1.0</td>\n",
              "      <td>0.0</td>\n",
              "      <td>0.0</td>\n",
              "      <td>0.0</td>\n",
              "    </tr>\n",
              "    <tr>\n",
              "      <th>AAACGAAAGGGAGGAC-1</th>\n",
              "      <td>0.0</td>\n",
              "      <td>0.0</td>\n",
              "      <td>0.0</td>\n",
              "      <td>0.0</td>\n",
              "      <td>0.0</td>\n",
              "      <td>0.0</td>\n",
              "      <td>0.0</td>\n",
              "      <td>1.0</td>\n",
              "      <td>1.0</td>\n",
              "      <td>0.0</td>\n",
              "      <td>1.0</td>\n",
              "      <td>0.0</td>\n",
              "      <td>0.0</td>\n",
              "      <td>0.0</td>\n",
              "      <td>0.0</td>\n",
              "      <td>0.0</td>\n",
              "      <td>1.0</td>\n",
              "      <td>1.0</td>\n",
              "      <td>0.0</td>\n",
              "      <td>0.0</td>\n",
              "      <td>1.0</td>\n",
              "      <td>0.0</td>\n",
              "      <td>0.0</td>\n",
              "      <td>0.0</td>\n",
              "      <td>0.0</td>\n",
              "      <td>0.0</td>\n",
              "      <td>0.0</td>\n",
              "      <td>0.0</td>\n",
              "      <td>0.0</td>\n",
              "      <td>0.0</td>\n",
              "      <td>0.0</td>\n",
              "      <td>0.0</td>\n",
              "      <td>0.0</td>\n",
              "      <td>2.0</td>\n",
              "      <td>0.0</td>\n",
              "      <td>0.0</td>\n",
              "      <td>0.0</td>\n",
              "      <td>0.0</td>\n",
              "      <td>0.0</td>\n",
              "      <td>2.0</td>\n",
              "      <td>...</td>\n",
              "      <td>0.0</td>\n",
              "      <td>0.0</td>\n",
              "      <td>0.0</td>\n",
              "      <td>0.0</td>\n",
              "      <td>0.0</td>\n",
              "      <td>0.0</td>\n",
              "      <td>0.0</td>\n",
              "      <td>0.0</td>\n",
              "      <td>0.0</td>\n",
              "      <td>0.0</td>\n",
              "      <td>0.0</td>\n",
              "      <td>0.0</td>\n",
              "      <td>0.0</td>\n",
              "      <td>0.0</td>\n",
              "      <td>0.0</td>\n",
              "      <td>0.0</td>\n",
              "      <td>0.0</td>\n",
              "      <td>0.0</td>\n",
              "      <td>0.0</td>\n",
              "      <td>0.0</td>\n",
              "      <td>0.0</td>\n",
              "      <td>0.0</td>\n",
              "      <td>0.0</td>\n",
              "      <td>0.0</td>\n",
              "      <td>0.0</td>\n",
              "      <td>0.0</td>\n",
              "      <td>0.0</td>\n",
              "      <td>0.0</td>\n",
              "      <td>0.0</td>\n",
              "      <td>0.0</td>\n",
              "      <td>0.0</td>\n",
              "      <td>0.0</td>\n",
              "      <td>0.0</td>\n",
              "      <td>0.0</td>\n",
              "      <td>0.0</td>\n",
              "      <td>0.0</td>\n",
              "      <td>3.0</td>\n",
              "      <td>0.0</td>\n",
              "      <td>0.0</td>\n",
              "      <td>0.0</td>\n",
              "    </tr>\n",
              "    <tr>\n",
              "      <th>AAACGAAAGTTCCTGA-1</th>\n",
              "      <td>0.0</td>\n",
              "      <td>0.0</td>\n",
              "      <td>0.0</td>\n",
              "      <td>0.0</td>\n",
              "      <td>0.0</td>\n",
              "      <td>0.0</td>\n",
              "      <td>0.0</td>\n",
              "      <td>1.0</td>\n",
              "      <td>0.0</td>\n",
              "      <td>0.0</td>\n",
              "      <td>0.0</td>\n",
              "      <td>0.0</td>\n",
              "      <td>0.0</td>\n",
              "      <td>1.0</td>\n",
              "      <td>0.0</td>\n",
              "      <td>0.0</td>\n",
              "      <td>0.0</td>\n",
              "      <td>0.0</td>\n",
              "      <td>1.0</td>\n",
              "      <td>0.0</td>\n",
              "      <td>0.0</td>\n",
              "      <td>0.0</td>\n",
              "      <td>0.0</td>\n",
              "      <td>0.0</td>\n",
              "      <td>0.0</td>\n",
              "      <td>0.0</td>\n",
              "      <td>0.0</td>\n",
              "      <td>0.0</td>\n",
              "      <td>0.0</td>\n",
              "      <td>0.0</td>\n",
              "      <td>0.0</td>\n",
              "      <td>0.0</td>\n",
              "      <td>0.0</td>\n",
              "      <td>0.0</td>\n",
              "      <td>0.0</td>\n",
              "      <td>0.0</td>\n",
              "      <td>0.0</td>\n",
              "      <td>0.0</td>\n",
              "      <td>0.0</td>\n",
              "      <td>0.0</td>\n",
              "      <td>...</td>\n",
              "      <td>0.0</td>\n",
              "      <td>0.0</td>\n",
              "      <td>0.0</td>\n",
              "      <td>0.0</td>\n",
              "      <td>0.0</td>\n",
              "      <td>0.0</td>\n",
              "      <td>0.0</td>\n",
              "      <td>0.0</td>\n",
              "      <td>0.0</td>\n",
              "      <td>0.0</td>\n",
              "      <td>0.0</td>\n",
              "      <td>0.0</td>\n",
              "      <td>0.0</td>\n",
              "      <td>0.0</td>\n",
              "      <td>0.0</td>\n",
              "      <td>0.0</td>\n",
              "      <td>0.0</td>\n",
              "      <td>0.0</td>\n",
              "      <td>0.0</td>\n",
              "      <td>0.0</td>\n",
              "      <td>0.0</td>\n",
              "      <td>0.0</td>\n",
              "      <td>0.0</td>\n",
              "      <td>0.0</td>\n",
              "      <td>0.0</td>\n",
              "      <td>0.0</td>\n",
              "      <td>0.0</td>\n",
              "      <td>0.0</td>\n",
              "      <td>0.0</td>\n",
              "      <td>0.0</td>\n",
              "      <td>0.0</td>\n",
              "      <td>0.0</td>\n",
              "      <td>0.0</td>\n",
              "      <td>0.0</td>\n",
              "      <td>0.0</td>\n",
              "      <td>0.0</td>\n",
              "      <td>3.0</td>\n",
              "      <td>1.0</td>\n",
              "      <td>0.0</td>\n",
              "      <td>0.0</td>\n",
              "    </tr>\n",
              "    <tr>\n",
              "      <th>AAACGAACAGTTGTTG-1</th>\n",
              "      <td>0.0</td>\n",
              "      <td>0.0</td>\n",
              "      <td>0.0</td>\n",
              "      <td>0.0</td>\n",
              "      <td>0.0</td>\n",
              "      <td>0.0</td>\n",
              "      <td>0.0</td>\n",
              "      <td>0.0</td>\n",
              "      <td>0.0</td>\n",
              "      <td>0.0</td>\n",
              "      <td>1.0</td>\n",
              "      <td>0.0</td>\n",
              "      <td>0.0</td>\n",
              "      <td>1.0</td>\n",
              "      <td>0.0</td>\n",
              "      <td>0.0</td>\n",
              "      <td>2.0</td>\n",
              "      <td>0.0</td>\n",
              "      <td>0.0</td>\n",
              "      <td>0.0</td>\n",
              "      <td>0.0</td>\n",
              "      <td>0.0</td>\n",
              "      <td>0.0</td>\n",
              "      <td>0.0</td>\n",
              "      <td>0.0</td>\n",
              "      <td>0.0</td>\n",
              "      <td>0.0</td>\n",
              "      <td>0.0</td>\n",
              "      <td>0.0</td>\n",
              "      <td>1.0</td>\n",
              "      <td>0.0</td>\n",
              "      <td>0.0</td>\n",
              "      <td>0.0</td>\n",
              "      <td>0.0</td>\n",
              "      <td>0.0</td>\n",
              "      <td>0.0</td>\n",
              "      <td>0.0</td>\n",
              "      <td>0.0</td>\n",
              "      <td>0.0</td>\n",
              "      <td>0.0</td>\n",
              "      <td>...</td>\n",
              "      <td>0.0</td>\n",
              "      <td>0.0</td>\n",
              "      <td>0.0</td>\n",
              "      <td>0.0</td>\n",
              "      <td>0.0</td>\n",
              "      <td>0.0</td>\n",
              "      <td>0.0</td>\n",
              "      <td>0.0</td>\n",
              "      <td>0.0</td>\n",
              "      <td>0.0</td>\n",
              "      <td>0.0</td>\n",
              "      <td>0.0</td>\n",
              "      <td>0.0</td>\n",
              "      <td>0.0</td>\n",
              "      <td>0.0</td>\n",
              "      <td>0.0</td>\n",
              "      <td>0.0</td>\n",
              "      <td>0.0</td>\n",
              "      <td>0.0</td>\n",
              "      <td>0.0</td>\n",
              "      <td>0.0</td>\n",
              "      <td>0.0</td>\n",
              "      <td>0.0</td>\n",
              "      <td>0.0</td>\n",
              "      <td>0.0</td>\n",
              "      <td>0.0</td>\n",
              "      <td>0.0</td>\n",
              "      <td>0.0</td>\n",
              "      <td>0.0</td>\n",
              "      <td>0.0</td>\n",
              "      <td>0.0</td>\n",
              "      <td>0.0</td>\n",
              "      <td>0.0</td>\n",
              "      <td>0.0</td>\n",
              "      <td>0.0</td>\n",
              "      <td>0.0</td>\n",
              "      <td>8.0</td>\n",
              "      <td>0.0</td>\n",
              "      <td>0.0</td>\n",
              "      <td>0.0</td>\n",
              "    </tr>\n",
              "  </tbody>\n",
              "</table>\n",
              "<p>5 rows × 27998 columns</p>\n",
              "</div>"
            ],
            "text/plain": [
              "                    Xkr4 (ENSMUSG00000051951)  ...  CAAA01147332.1 (ENSMUSG00000095742)\n",
              "AAACCCAAGCTAAATG-1                        0.0  ...                                  0.0\n",
              "AAACCCATCTTCTTCC-1                        0.0  ...                                  0.0\n",
              "AAACGAAAGGGAGGAC-1                        0.0  ...                                  0.0\n",
              "AAACGAAAGTTCCTGA-1                        0.0  ...                                  0.0\n",
              "AAACGAACAGTTGTTG-1                        0.0  ...                                  0.0\n",
              "\n",
              "[5 rows x 27998 columns]"
            ]
          },
          "metadata": {
            "tags": []
          },
          "execution_count": 68
        }
      ]
    },
    {
      "cell_type": "markdown",
      "metadata": {
        "colab_type": "text",
        "id": "1a2NhqZdoK0U"
      },
      "source": [
        "### Dealing with multiple data files\n",
        "\n",
        "More complex single-cell datasets will often involve more than one file, for example in time-course experiments. In this case, we will combine each of the datasets in a list. Give the first data file we uploaded an appropriate batch name in the cell below.\n",
        "\n",
        "If you only have one data file, skip to section 2.1."
      ]
    },
    {
      "cell_type": "code",
      "metadata": {
        "colab_type": "code",
        "id": "ruJhHpZOo8SC",
        "colab": {}
      },
      "source": [
        "# =============\n",
        "# Give your first batch an appropriate name\n",
        "first_batch_label = \"Y\" #Control # Fill in the batch name, e.g. \"Control\"\n",
        "# =============\n",
        "\n",
        "data = [data1]\n",
        "batch_labels = [first_batch_label]\n",
        "\n",
        "filtered_batches = []\n",
        "for batch in [data1, data2]: #data_time3, data_time4, data_time5]:\n",
        "    # ==================\n",
        "    # fill in your chosen `percentile` values\n",
        "    percentiles = (20, 95)\n",
        "    batch = scprep.filter.filter_library_size(batch, percentile=percentiles)\n",
        "    # ==================\n",
        "    filtered_batches.append(batch)\n",
        "del data1, data2 # removes objects from memory"
      ],
      "execution_count": 0,
      "outputs": []
    },
    {
      "cell_type": "markdown",
      "metadata": {
        "colab_type": "text",
        "id": "--gTavYEpHxl"
      },
      "source": [
        "Run the cell below once for every file in your dataset, changing the batch name each time."
      ]
    },
    {
      "cell_type": "code",
      "metadata": {
        "id": "oxBgIQ35OnHn",
        "colab_type": "code",
        "colab": {
          "base_uri": "https://localhost:8080/",
          "height": 314
        },
        "outputId": "e12e9a38-84e5-4e0a-bc29-6cf7c7460f20"
      },
      "source": [
        "scprep.plot.plot_library_size(filtered_batches[1], log=False, range=(0,30000),\n",
        "                              title='Library size after filtering')"
      ],
      "execution_count": 6,
      "outputs": [
        {
          "output_type": "execute_result",
          "data": {
            "text/plain": [
              "<matplotlib.axes._subplots.AxesSubplot at 0x7f9967233e10>"
            ]
          },
          "metadata": {
            "tags": []
          },
          "execution_count": 6
        },
        {
          "output_type": "display_data",
          "data": {
            "image/png": "[encoded data removed]",
            "text/plain": [
              "<Figure size 432x288 with 1 Axes>"
            ]
          },
          "metadata": {
            "tags": [],
            "needs_background": "light"
          }
        }
      ]
    },
    {
      "cell_type": "code",
      "metadata": {
        "id": "4a4tfIIg7y6b",
        "colab_type": "code",
        "colab": {
          "base_uri": "https://localhost:8080/",
          "height": 34
        },
        "outputId": "750d4924-a2a5-4450-d8d0-cf920d518272"
      },
      "source": [
        "len(batch_labels)"
      ],
      "execution_count": 72,
      "outputs": [
        {
          "output_type": "execute_result",
          "data": {
            "text/plain": [
              "2"
            ]
          },
          "metadata": {
            "tags": []
          },
          "execution_count": 72
        }
      ]
    },
    {
      "cell_type": "markdown",
      "metadata": {
        "colab_type": "text",
        "id": "OM872o90qGnI"
      },
      "source": [
        "Now, we can combine our datasets into a single combined data matrix. If you wish, you may first apply library size filtering to each batch individually, as described in section 2.3, but this is not strictly necessary."
      ]
    },
    {
      "cell_type": "code",
      "metadata": {
        "id": "GJJYYSjoO7dH",
        "colab_type": "code",
        "colab": {
          "base_uri": "https://localhost:8080/",
          "height": 34
        },
        "outputId": "c2eddea2-b886-46f9-b5d1-b81ea66a45d7"
      },
      "source": [
        "data, sample_labels = scprep.utils.combine_batches(\n",
        "    filtered_batches, \n",
        "    [\"Y\", \"KPY\"]\n",
        ")\n",
        "del filtered_batches # removes objects from memory\n",
        "data.shape"
      ],
      "execution_count": 7,
      "outputs": [
        {
          "output_type": "execute_result",
          "data": {
            "text/plain": [
              "(6362, 27998)"
            ]
          },
          "metadata": {
            "tags": []
          },
          "execution_count": 7
        }
      ]
    },
    {
      "cell_type": "code",
      "metadata": {
        "id": "THMX163jPHv4",
        "colab_type": "code",
        "colab": {
          "base_uri": "https://localhost:8080/",
          "height": 355
        },
        "outputId": "97125ed5-254e-4b5e-e5ac-6e2eed24bb2d"
      },
      "source": [
        "data.head()"
      ],
      "execution_count": 8,
      "outputs": [
        {
          "output_type": "execute_result",
          "data": {
            "text/html": [
              "<div>\n",
              "<style scoped>\n",
              "    .dataframe tbody tr th:only-of-type {\n",
              "        vertical-align: middle;\n",
              "    }\n",
              "\n",
              "    .dataframe tbody tr th {\n",
              "        vertical-align: top;\n",
              "    }\n",
              "\n",
              "    .dataframe thead th {\n",
              "        text-align: right;\n",
              "    }\n",
              "</style>\n",
              "<table border=\"1\" class=\"dataframe\">\n",
              "  <thead>\n",
              "    <tr style=\"text-align: right;\">\n",
              "      <th></th>\n",
              "      <th>0610007P14Rik (ENSMUSG00000021252)</th>\n",
              "      <th>0610009B22Rik (ENSMUSG00000007777)</th>\n",
              "      <th>0610009L18Rik (ENSMUSG00000043644)</th>\n",
              "      <th>0610009O20Rik (ENSMUSG00000024442)</th>\n",
              "      <th>0610010F05Rik (ENSMUSG00000042208)</th>\n",
              "      <th>0610010K14Rik (ENSMUSG00000020831)</th>\n",
              "      <th>0610011F06Rik (ENSMUSG00000025731)</th>\n",
              "      <th>0610012D04Rik (ENSMUSG00000089755)</th>\n",
              "      <th>0610012G03Rik (ENSMUSG00000107002)</th>\n",
              "      <th>0610025J13Rik (ENSMUSG00000046683)</th>\n",
              "      <th>0610030E20Rik (ENSMUSG00000058706)</th>\n",
              "      <th>0610031O16Rik (ENSMUSG00000099146)</th>\n",
              "      <th>0610033M10Rik (ENSMUSG00000108236)</th>\n",
              "      <th>0610037L13Rik (ENSMUSG00000028608)</th>\n",
              "      <th>0610038B21Rik (ENSMUSG00000097882)</th>\n",
              "      <th>0610039K10Rik (ENSMUSG00000058812)</th>\n",
              "      <th>0610040B10Rik (ENSMUSG00000089889)</th>\n",
              "      <th>0610040F04Rik (ENSMUSG00000087341)</th>\n",
              "      <th>0610040J01Rik (ENSMUSG00000060512)</th>\n",
              "      <th>0610043K17Rik (ENSMUSG00000087361)</th>\n",
              "      <th>1010001B22Rik (ENSMUSG00000097863)</th>\n",
              "      <th>1010001N08Rik (ENSMUSG00000097222)</th>\n",
              "      <th>1110001J03Rik (ENSMUSG00000019689)</th>\n",
              "      <th>1110002E22Rik (ENSMUSG00000090066)</th>\n",
              "      <th>1110002J07Rik (ENSMUSG00000097134)</th>\n",
              "      <th>1110002L01Rik (ENSMUSG00000071456)</th>\n",
              "      <th>1110002O04Rik (ENSMUSG00000102531)</th>\n",
              "      <th>1110004E09Rik (ENSMUSG00000022972)</th>\n",
              "      <th>1110004F10Rik (ENSMUSG00000030663)</th>\n",
              "      <th>1110006O24Rik (ENSMUSG00000107121)</th>\n",
              "      <th>1110008E08Rik (ENSMUSG00000046119)</th>\n",
              "      <th>1110008F13Rik (ENSMUSG00000027637)</th>\n",
              "      <th>1110008L16Rik (ENSMUSG00000021023)</th>\n",
              "      <th>1110008P14Rik (ENSMUSG00000039195)</th>\n",
              "      <th>1110012L19Rik (ENSMUSG00000045237)</th>\n",
              "      <th>1110015O18Rik (ENSMUSG00000098659)</th>\n",
              "      <th>1110017D15Rik (ENSMUSG00000028441)</th>\n",
              "      <th>1110019D14Rik (ENSMUSG00000097616)</th>\n",
              "      <th>1110020A21Rik (ENSMUSG00000097047)</th>\n",
              "      <th>1110025L11Rik (ENSMUSG00000068073)</th>\n",
              "      <th>...</th>\n",
              "      <th>Zscan4b (ENSMUSG00000095339)</th>\n",
              "      <th>Zscan4c (ENSMUSG00000054272)</th>\n",
              "      <th>Zscan4d (ENSMUSG00000090714)</th>\n",
              "      <th>Zscan4f (ENSMUSG00000070828)</th>\n",
              "      <th>Zscan5b (ENSMUSG00000058028)</th>\n",
              "      <th>Zswim1 (ENSMUSG00000017764)</th>\n",
              "      <th>Zswim2 (ENSMUSG00000034552)</th>\n",
              "      <th>Zswim3 (ENSMUSG00000045822)</th>\n",
              "      <th>Zswim4 (ENSMUSG00000035671)</th>\n",
              "      <th>Zswim5 (ENSMUSG00000033948)</th>\n",
              "      <th>Zswim6 (ENSMUSG00000032846)</th>\n",
              "      <th>Zswim7 (ENSMUSG00000014243)</th>\n",
              "      <th>Zswim8 (ENSMUSG00000021819)</th>\n",
              "      <th>Zufsp (ENSMUSG00000039531)</th>\n",
              "      <th>Zw10 (ENSMUSG00000032264)</th>\n",
              "      <th>Zwilch (ENSMUSG00000032400)</th>\n",
              "      <th>Zwint (ENSMUSG00000019923)</th>\n",
              "      <th>Zxdb (ENSMUSG00000073062)</th>\n",
              "      <th>Zxdc (ENSMUSG00000034430)</th>\n",
              "      <th>Zyg11a (ENSMUSG00000034645)</th>\n",
              "      <th>Zyg11b (ENSMUSG00000034636)</th>\n",
              "      <th>Zyx (ENSMUSG00000029860)</th>\n",
              "      <th>Zzef1 (ENSMUSG00000055670)</th>\n",
              "      <th>Zzz3 (ENSMUSG00000039068)</th>\n",
              "      <th>a (ENSMUSG00000027596)</th>\n",
              "      <th>l7Rn6 (ENSMUSG00000062797)</th>\n",
              "      <th>l7Rn6 (ENSMUSG00000108996)</th>\n",
              "      <th>mt-Atp6 (ENSMUSG00000064357)</th>\n",
              "      <th>mt-Atp8 (ENSMUSG00000064356)</th>\n",
              "      <th>mt-Co1 (ENSMUSG00000064351)</th>\n",
              "      <th>mt-Co2 (ENSMUSG00000064354)</th>\n",
              "      <th>mt-Co3 (ENSMUSG00000064358)</th>\n",
              "      <th>mt-Cytb (ENSMUSG00000064370)</th>\n",
              "      <th>mt-Nd1 (ENSMUSG00000064341)</th>\n",
              "      <th>mt-Nd2 (ENSMUSG00000064345)</th>\n",
              "      <th>mt-Nd3 (ENSMUSG00000064360)</th>\n",
              "      <th>mt-Nd4 (ENSMUSG00000064363)</th>\n",
              "      <th>mt-Nd4l (ENSMUSG00000065947)</th>\n",
              "      <th>mt-Nd5 (ENSMUSG00000064367)</th>\n",
              "      <th>mt-Nd6 (ENSMUSG00000064368)</th>\n",
              "    </tr>\n",
              "  </thead>\n",
              "  <tbody>\n",
              "    <tr>\n",
              "      <th>AAACCCACAGAGATGC-1_Y</th>\n",
              "      <td>1.0</td>\n",
              "      <td>0.0</td>\n",
              "      <td>0.0</td>\n",
              "      <td>0.0</td>\n",
              "      <td>0.0</td>\n",
              "      <td>1.0</td>\n",
              "      <td>1.0</td>\n",
              "      <td>0.0</td>\n",
              "      <td>0.0</td>\n",
              "      <td>0.0</td>\n",
              "      <td>0.0</td>\n",
              "      <td>0.0</td>\n",
              "      <td>0.0</td>\n",
              "      <td>1.0</td>\n",
              "      <td>0.0</td>\n",
              "      <td>0.0</td>\n",
              "      <td>0.0</td>\n",
              "      <td>0.0</td>\n",
              "      <td>0.0</td>\n",
              "      <td>0.0</td>\n",
              "      <td>0.0</td>\n",
              "      <td>0.0</td>\n",
              "      <td>1.0</td>\n",
              "      <td>0.0</td>\n",
              "      <td>0.0</td>\n",
              "      <td>0.0</td>\n",
              "      <td>0.0</td>\n",
              "      <td>0.0</td>\n",
              "      <td>0.0</td>\n",
              "      <td>0.0</td>\n",
              "      <td>0.0</td>\n",
              "      <td>3.0</td>\n",
              "      <td>0.0</td>\n",
              "      <td>0.0</td>\n",
              "      <td>2.0</td>\n",
              "      <td>0.0</td>\n",
              "      <td>0.0</td>\n",
              "      <td>0.0</td>\n",
              "      <td>0.0</td>\n",
              "      <td>0.0</td>\n",
              "      <td>...</td>\n",
              "      <td>0.0</td>\n",
              "      <td>0.0</td>\n",
              "      <td>0.0</td>\n",
              "      <td>0.0</td>\n",
              "      <td>0.0</td>\n",
              "      <td>0.0</td>\n",
              "      <td>0.0</td>\n",
              "      <td>0.0</td>\n",
              "      <td>0.0</td>\n",
              "      <td>0.0</td>\n",
              "      <td>0.0</td>\n",
              "      <td>0.0</td>\n",
              "      <td>0.0</td>\n",
              "      <td>0.0</td>\n",
              "      <td>1.0</td>\n",
              "      <td>0.0</td>\n",
              "      <td>1.0</td>\n",
              "      <td>0.0</td>\n",
              "      <td>0.0</td>\n",
              "      <td>0.0</td>\n",
              "      <td>0.0</td>\n",
              "      <td>0.0</td>\n",
              "      <td>0.0</td>\n",
              "      <td>1.0</td>\n",
              "      <td>0.0</td>\n",
              "      <td>0.0</td>\n",
              "      <td>0.0</td>\n",
              "      <td>346.0</td>\n",
              "      <td>6.0</td>\n",
              "      <td>353.0</td>\n",
              "      <td>243.0</td>\n",
              "      <td>336.0</td>\n",
              "      <td>176.0</td>\n",
              "      <td>84.0</td>\n",
              "      <td>117.0</td>\n",
              "      <td>74.0</td>\n",
              "      <td>177.0</td>\n",
              "      <td>16.0</td>\n",
              "      <td>22.0</td>\n",
              "      <td>0.0</td>\n",
              "    </tr>\n",
              "    <tr>\n",
              "      <th>AAACCCACAGGAATAT-1_Y</th>\n",
              "      <td>0.0</td>\n",
              "      <td>0.0</td>\n",
              "      <td>1.0</td>\n",
              "      <td>0.0</td>\n",
              "      <td>0.0</td>\n",
              "      <td>0.0</td>\n",
              "      <td>0.0</td>\n",
              "      <td>0.0</td>\n",
              "      <td>1.0</td>\n",
              "      <td>0.0</td>\n",
              "      <td>0.0</td>\n",
              "      <td>0.0</td>\n",
              "      <td>0.0</td>\n",
              "      <td>0.0</td>\n",
              "      <td>0.0</td>\n",
              "      <td>0.0</td>\n",
              "      <td>0.0</td>\n",
              "      <td>0.0</td>\n",
              "      <td>1.0</td>\n",
              "      <td>0.0</td>\n",
              "      <td>0.0</td>\n",
              "      <td>0.0</td>\n",
              "      <td>1.0</td>\n",
              "      <td>0.0</td>\n",
              "      <td>0.0</td>\n",
              "      <td>3.0</td>\n",
              "      <td>0.0</td>\n",
              "      <td>1.0</td>\n",
              "      <td>1.0</td>\n",
              "      <td>0.0</td>\n",
              "      <td>0.0</td>\n",
              "      <td>3.0</td>\n",
              "      <td>0.0</td>\n",
              "      <td>0.0</td>\n",
              "      <td>0.0</td>\n",
              "      <td>0.0</td>\n",
              "      <td>0.0</td>\n",
              "      <td>0.0</td>\n",
              "      <td>0.0</td>\n",
              "      <td>0.0</td>\n",
              "      <td>...</td>\n",
              "      <td>0.0</td>\n",
              "      <td>0.0</td>\n",
              "      <td>0.0</td>\n",
              "      <td>0.0</td>\n",
              "      <td>0.0</td>\n",
              "      <td>0.0</td>\n",
              "      <td>0.0</td>\n",
              "      <td>0.0</td>\n",
              "      <td>0.0</td>\n",
              "      <td>0.0</td>\n",
              "      <td>0.0</td>\n",
              "      <td>0.0</td>\n",
              "      <td>1.0</td>\n",
              "      <td>0.0</td>\n",
              "      <td>0.0</td>\n",
              "      <td>0.0</td>\n",
              "      <td>2.0</td>\n",
              "      <td>1.0</td>\n",
              "      <td>0.0</td>\n",
              "      <td>0.0</td>\n",
              "      <td>1.0</td>\n",
              "      <td>0.0</td>\n",
              "      <td>0.0</td>\n",
              "      <td>1.0</td>\n",
              "      <td>0.0</td>\n",
              "      <td>0.0</td>\n",
              "      <td>0.0</td>\n",
              "      <td>138.0</td>\n",
              "      <td>3.0</td>\n",
              "      <td>213.0</td>\n",
              "      <td>114.0</td>\n",
              "      <td>143.0</td>\n",
              "      <td>81.0</td>\n",
              "      <td>60.0</td>\n",
              "      <td>61.0</td>\n",
              "      <td>37.0</td>\n",
              "      <td>78.0</td>\n",
              "      <td>7.0</td>\n",
              "      <td>11.0</td>\n",
              "      <td>0.0</td>\n",
              "    </tr>\n",
              "    <tr>\n",
              "      <th>AAACGAAAGTAGAATC-1_Y</th>\n",
              "      <td>1.0</td>\n",
              "      <td>2.0</td>\n",
              "      <td>0.0</td>\n",
              "      <td>0.0</td>\n",
              "      <td>0.0</td>\n",
              "      <td>0.0</td>\n",
              "      <td>2.0</td>\n",
              "      <td>0.0</td>\n",
              "      <td>3.0</td>\n",
              "      <td>0.0</td>\n",
              "      <td>0.0</td>\n",
              "      <td>0.0</td>\n",
              "      <td>0.0</td>\n",
              "      <td>0.0</td>\n",
              "      <td>0.0</td>\n",
              "      <td>0.0</td>\n",
              "      <td>0.0</td>\n",
              "      <td>0.0</td>\n",
              "      <td>0.0</td>\n",
              "      <td>0.0</td>\n",
              "      <td>0.0</td>\n",
              "      <td>0.0</td>\n",
              "      <td>0.0</td>\n",
              "      <td>0.0</td>\n",
              "      <td>0.0</td>\n",
              "      <td>0.0</td>\n",
              "      <td>0.0</td>\n",
              "      <td>6.0</td>\n",
              "      <td>2.0</td>\n",
              "      <td>0.0</td>\n",
              "      <td>0.0</td>\n",
              "      <td>1.0</td>\n",
              "      <td>0.0</td>\n",
              "      <td>0.0</td>\n",
              "      <td>0.0</td>\n",
              "      <td>0.0</td>\n",
              "      <td>11.0</td>\n",
              "      <td>0.0</td>\n",
              "      <td>0.0</td>\n",
              "      <td>0.0</td>\n",
              "      <td>...</td>\n",
              "      <td>0.0</td>\n",
              "      <td>0.0</td>\n",
              "      <td>0.0</td>\n",
              "      <td>0.0</td>\n",
              "      <td>0.0</td>\n",
              "      <td>0.0</td>\n",
              "      <td>0.0</td>\n",
              "      <td>0.0</td>\n",
              "      <td>0.0</td>\n",
              "      <td>0.0</td>\n",
              "      <td>0.0</td>\n",
              "      <td>0.0</td>\n",
              "      <td>0.0</td>\n",
              "      <td>0.0</td>\n",
              "      <td>0.0</td>\n",
              "      <td>0.0</td>\n",
              "      <td>0.0</td>\n",
              "      <td>0.0</td>\n",
              "      <td>1.0</td>\n",
              "      <td>0.0</td>\n",
              "      <td>1.0</td>\n",
              "      <td>0.0</td>\n",
              "      <td>1.0</td>\n",
              "      <td>1.0</td>\n",
              "      <td>0.0</td>\n",
              "      <td>1.0</td>\n",
              "      <td>0.0</td>\n",
              "      <td>426.0</td>\n",
              "      <td>10.0</td>\n",
              "      <td>316.0</td>\n",
              "      <td>325.0</td>\n",
              "      <td>361.0</td>\n",
              "      <td>232.0</td>\n",
              "      <td>122.0</td>\n",
              "      <td>158.0</td>\n",
              "      <td>65.0</td>\n",
              "      <td>215.0</td>\n",
              "      <td>16.0</td>\n",
              "      <td>28.0</td>\n",
              "      <td>0.0</td>\n",
              "    </tr>\n",
              "    <tr>\n",
              "      <th>AAACGAACAATTCGTG-1_Y</th>\n",
              "      <td>0.0</td>\n",
              "      <td>0.0</td>\n",
              "      <td>0.0</td>\n",
              "      <td>0.0</td>\n",
              "      <td>0.0</td>\n",
              "      <td>0.0</td>\n",
              "      <td>1.0</td>\n",
              "      <td>0.0</td>\n",
              "      <td>0.0</td>\n",
              "      <td>0.0</td>\n",
              "      <td>0.0</td>\n",
              "      <td>0.0</td>\n",
              "      <td>0.0</td>\n",
              "      <td>0.0</td>\n",
              "      <td>0.0</td>\n",
              "      <td>0.0</td>\n",
              "      <td>0.0</td>\n",
              "      <td>0.0</td>\n",
              "      <td>0.0</td>\n",
              "      <td>0.0</td>\n",
              "      <td>0.0</td>\n",
              "      <td>0.0</td>\n",
              "      <td>0.0</td>\n",
              "      <td>0.0</td>\n",
              "      <td>0.0</td>\n",
              "      <td>0.0</td>\n",
              "      <td>0.0</td>\n",
              "      <td>0.0</td>\n",
              "      <td>1.0</td>\n",
              "      <td>0.0</td>\n",
              "      <td>0.0</td>\n",
              "      <td>0.0</td>\n",
              "      <td>0.0</td>\n",
              "      <td>0.0</td>\n",
              "      <td>0.0</td>\n",
              "      <td>0.0</td>\n",
              "      <td>0.0</td>\n",
              "      <td>0.0</td>\n",
              "      <td>0.0</td>\n",
              "      <td>0.0</td>\n",
              "      <td>...</td>\n",
              "      <td>0.0</td>\n",
              "      <td>0.0</td>\n",
              "      <td>0.0</td>\n",
              "      <td>0.0</td>\n",
              "      <td>0.0</td>\n",
              "      <td>0.0</td>\n",
              "      <td>0.0</td>\n",
              "      <td>0.0</td>\n",
              "      <td>0.0</td>\n",
              "      <td>0.0</td>\n",
              "      <td>0.0</td>\n",
              "      <td>0.0</td>\n",
              "      <td>0.0</td>\n",
              "      <td>0.0</td>\n",
              "      <td>0.0</td>\n",
              "      <td>0.0</td>\n",
              "      <td>0.0</td>\n",
              "      <td>0.0</td>\n",
              "      <td>0.0</td>\n",
              "      <td>0.0</td>\n",
              "      <td>0.0</td>\n",
              "      <td>0.0</td>\n",
              "      <td>1.0</td>\n",
              "      <td>0.0</td>\n",
              "      <td>0.0</td>\n",
              "      <td>0.0</td>\n",
              "      <td>0.0</td>\n",
              "      <td>185.0</td>\n",
              "      <td>3.0</td>\n",
              "      <td>143.0</td>\n",
              "      <td>111.0</td>\n",
              "      <td>172.0</td>\n",
              "      <td>135.0</td>\n",
              "      <td>43.0</td>\n",
              "      <td>65.0</td>\n",
              "      <td>28.0</td>\n",
              "      <td>72.0</td>\n",
              "      <td>11.0</td>\n",
              "      <td>16.0</td>\n",
              "      <td>1.0</td>\n",
              "    </tr>\n",
              "    <tr>\n",
              "      <th>AAACGAAGTATGATCC-1_Y</th>\n",
              "      <td>0.0</td>\n",
              "      <td>1.0</td>\n",
              "      <td>0.0</td>\n",
              "      <td>0.0</td>\n",
              "      <td>0.0</td>\n",
              "      <td>0.0</td>\n",
              "      <td>1.0</td>\n",
              "      <td>0.0</td>\n",
              "      <td>0.0</td>\n",
              "      <td>0.0</td>\n",
              "      <td>0.0</td>\n",
              "      <td>0.0</td>\n",
              "      <td>0.0</td>\n",
              "      <td>0.0</td>\n",
              "      <td>0.0</td>\n",
              "      <td>0.0</td>\n",
              "      <td>0.0</td>\n",
              "      <td>0.0</td>\n",
              "      <td>0.0</td>\n",
              "      <td>0.0</td>\n",
              "      <td>0.0</td>\n",
              "      <td>0.0</td>\n",
              "      <td>0.0</td>\n",
              "      <td>0.0</td>\n",
              "      <td>0.0</td>\n",
              "      <td>1.0</td>\n",
              "      <td>0.0</td>\n",
              "      <td>0.0</td>\n",
              "      <td>0.0</td>\n",
              "      <td>0.0</td>\n",
              "      <td>0.0</td>\n",
              "      <td>1.0</td>\n",
              "      <td>0.0</td>\n",
              "      <td>2.0</td>\n",
              "      <td>0.0</td>\n",
              "      <td>0.0</td>\n",
              "      <td>0.0</td>\n",
              "      <td>0.0</td>\n",
              "      <td>0.0</td>\n",
              "      <td>0.0</td>\n",
              "      <td>...</td>\n",
              "      <td>0.0</td>\n",
              "      <td>0.0</td>\n",
              "      <td>0.0</td>\n",
              "      <td>0.0</td>\n",
              "      <td>0.0</td>\n",
              "      <td>0.0</td>\n",
              "      <td>0.0</td>\n",
              "      <td>0.0</td>\n",
              "      <td>0.0</td>\n",
              "      <td>0.0</td>\n",
              "      <td>1.0</td>\n",
              "      <td>0.0</td>\n",
              "      <td>0.0</td>\n",
              "      <td>0.0</td>\n",
              "      <td>0.0</td>\n",
              "      <td>0.0</td>\n",
              "      <td>0.0</td>\n",
              "      <td>0.0</td>\n",
              "      <td>0.0</td>\n",
              "      <td>0.0</td>\n",
              "      <td>0.0</td>\n",
              "      <td>0.0</td>\n",
              "      <td>2.0</td>\n",
              "      <td>1.0</td>\n",
              "      <td>0.0</td>\n",
              "      <td>0.0</td>\n",
              "      <td>0.0</td>\n",
              "      <td>106.0</td>\n",
              "      <td>3.0</td>\n",
              "      <td>108.0</td>\n",
              "      <td>80.0</td>\n",
              "      <td>97.0</td>\n",
              "      <td>73.0</td>\n",
              "      <td>32.0</td>\n",
              "      <td>51.0</td>\n",
              "      <td>33.0</td>\n",
              "      <td>57.0</td>\n",
              "      <td>5.0</td>\n",
              "      <td>13.0</td>\n",
              "      <td>0.0</td>\n",
              "    </tr>\n",
              "  </tbody>\n",
              "</table>\n",
              "<p>5 rows × 27998 columns</p>\n",
              "</div>"
            ],
            "text/plain": [
              "                      0610007P14Rik (ENSMUSG00000021252)  ...  mt-Nd6 (ENSMUSG00000064368)\n",
              "AAACCCACAGAGATGC-1_Y                                 1.0  ...                          0.0\n",
              "AAACCCACAGGAATAT-1_Y                                 0.0  ...                          0.0\n",
              "AAACGAAAGTAGAATC-1_Y                                 1.0  ...                          0.0\n",
              "AAACGAACAATTCGTG-1_Y                                 0.0  ...                          1.0\n",
              "AAACGAAGTATGATCC-1_Y                                 0.0  ...                          0.0\n",
              "\n",
              "[5 rows x 27998 columns]"
            ]
          },
          "metadata": {
            "tags": []
          },
          "execution_count": 8
        }
      ]
    },
    {
      "cell_type": "code",
      "metadata": {
        "id": "3vpECcC9PN1t",
        "colab_type": "code",
        "colab": {
          "base_uri": "https://localhost:8080/",
          "height": 221
        },
        "outputId": "3e5b846c-c659-4eca-c679-0e1ee296440a"
      },
      "source": [
        "sample_labels"
      ],
      "execution_count": 9,
      "outputs": [
        {
          "output_type": "execute_result",
          "data": {
            "text/plain": [
              "AAACCCACAGAGATGC-1_Y        Y\n",
              "AAACCCACAGGAATAT-1_Y        Y\n",
              "AAACGAAAGTAGAATC-1_Y        Y\n",
              "AAACGAACAATTCGTG-1_Y        Y\n",
              "AAACGAAGTATGATCC-1_Y        Y\n",
              "                         ... \n",
              "TTTGGTTGTCCTGGGT-1_KPY    KPY\n",
              "TTTGTTGCAAACTGCT-1_KPY    KPY\n",
              "TTTGTTGCACAAAGCG-1_KPY    KPY\n",
              "TTTGTTGCACATGGTT-1_KPY    KPY\n",
              "TTTGTTGTCTCGGTAA-1_KPY    KPY\n",
              "Name: sample_labels, Length: 6362, dtype: object"
            ]
          },
          "metadata": {
            "tags": []
          },
          "execution_count": 9
        }
      ]
    },
    {
      "cell_type": "code",
      "metadata": {
        "colab_type": "code",
        "id": "A4xtHCf_qF_V",
        "colab": {}
      },
      "source": [
        "#data, sample_labels = scprep.utils.combine_batches(data, batch_labels)"
      ],
      "execution_count": 0,
      "outputs": []
    },
    {
      "cell_type": "markdown",
      "metadata": {
        "colab_type": "text",
        "id": "8UwGtjtSacWx"
      },
      "source": [
        "### 2.1. Standard imports\n",
        "\n",
        "We'll import these few packages at the beginning of nearly every session."
      ]
    },
    {
      "cell_type": "code",
      "metadata": {
        "colab_type": "code",
        "id": "xHNATT38acWz",
        "colab": {}
      },
      "source": [
        "import pandas as pd\n",
        "import numpy as np\n",
        "import scprep\n",
        "\n",
        "import matplotlib.pyplot as plt\n",
        "\n",
        "# matplotlib settings for Jupyter notebooks only\n",
        "%matplotlib inline"
      ],
      "execution_count": 0,
      "outputs": []
    },
    {
      "cell_type": "markdown",
      "metadata": {
        "colab_type": "text",
        "id": "nHLnCfKri74E"
      },
      "source": [
        "#### Understanding the data matrix\n",
        "\n",
        "How big is our matrix? We can find out with `data.shape`."
      ]
    },
    {
      "cell_type": "code",
      "metadata": {
        "colab_type": "code",
        "id": "Z40ZJK9Ri74F",
        "colab": {
          "base_uri": "https://localhost:8080/",
          "height": 153
        },
        "outputId": "1ce3f84b-eb1a-4917-bee3-deeab8ded056"
      },
      "source": [
        "#data.describe\n",
        "#data.index\n",
        "#data.dtypes\n",
        "#data.values\n",
        "#data.axes\n",
        "#data.ndim\n",
        "#data.keys\n",
        "#filter_col = [col for col in data if col.startswith('mt-')]\n",
        "mt=data[data.columns[pd.Series(data.columns).str.startswith('mt-')]]\n",
        "mt.axes[1]\n",
        "#data.to_excel(\"output.xlsx\") "
      ],
      "execution_count": 11,
      "outputs": [
        {
          "output_type": "execute_result",
          "data": {
            "text/plain": [
              "Index(['mt-Atp6 (ENSMUSG00000064357)', 'mt-Atp8 (ENSMUSG00000064356)',\n",
              "       'mt-Co1 (ENSMUSG00000064351)', 'mt-Co2 (ENSMUSG00000064354)',\n",
              "       'mt-Co3 (ENSMUSG00000064358)', 'mt-Cytb (ENSMUSG00000064370)',\n",
              "       'mt-Nd1 (ENSMUSG00000064341)', 'mt-Nd2 (ENSMUSG00000064345)',\n",
              "       'mt-Nd3 (ENSMUSG00000064360)', 'mt-Nd4 (ENSMUSG00000064363)',\n",
              "       'mt-Nd4l (ENSMUSG00000065947)', 'mt-Nd5 (ENSMUSG00000064367)',\n",
              "       'mt-Nd6 (ENSMUSG00000064368)'],\n",
              "      dtype='object')"
            ]
          },
          "metadata": {
            "tags": []
          },
          "execution_count": 11
        }
      ]
    },
    {
      "cell_type": "markdown",
      "metadata": {
        "id": "nAZZCpnJJv4l",
        "colab_type": "text"
      },
      "source": [
        "We define the library size as the total sum of counts across all genes for each cell, the expected value of which is assumed to scale with any cell-specific biases."
      ]
    },
    {
      "cell_type": "code",
      "metadata": {
        "id": "hezIsPTeH-oJ",
        "colab_type": "code",
        "colab": {}
      },
      "source": [
        ""
      ],
      "execution_count": 0,
      "outputs": []
    },
    {
      "cell_type": "code",
      "metadata": {
        "id": "6ZIeowgbE1U0",
        "colab_type": "code",
        "outputId": "6a7a40bd-035d-4a70-e131-b5cea82a82fe",
        "colab": {
          "base_uri": "https://localhost:8080/",
          "height": 34
        }
      },
      "source": [
        "import seaborn as sns; sns.set()\n",
        "metadata = pd.concat([sample_labels], axis=1)\n",
        "metadata['library_size'] = np.log10(scprep.measure.library_size(data))\n",
        "metadata['mito_expression'] = scprep.measure.gene_set_expression(data, library_size_normalize=True, starts_with=\"mt-\") # or 'mt-', or whatever works for your gene set\n",
        "#metadata = pd. concat([sample_labels, library_size])\n",
        "#scprep.plot.scatter2d(metadata['library_size'], metadata['mito_expression'])\n",
        "# store library size and put it into a metadata dataframe\n",
        "#libsize = np.log10(scprep.measure.library_size(data))\n",
        "#metadata = pd.concat([sample_labels, library_size], axis=1)\n",
        "#metadata['library_size'] = np.log10(scprep.measure.library_size(data))\n",
        "#metadata['mito_expression'] = scprep.measure.gene_set_expression(data, library_size_normalize=True, starts_with=\"mt-\") # or 'mt-', or whatever works for your gene set\n",
        "#scprep.plot.scatter2d(metadata['library_size'], metadata['mito_expression'])\n",
        "metadata['library_size'].shape\n",
        "metadata['mito_expression'].shape\n",
        "#ax = sns.scatterplot(x=metadata['library_size'], y=['mito_expression'])\n",
        "\n",
        "#x=pd.DataFrame([mt.iloc[0].index,mt.iloc[0].values]).T\n",
        "#x.plot()\n",
        "#plt.show() \n",
        "#mt.plot.scatter(x=mt[:,0],y='width',c='DarkBlue')\n",
        "                     "
      ],
      "execution_count": 75,
      "outputs": [
        {
          "output_type": "execute_result",
          "data": {
            "text/plain": [
              "(8488,)"
            ]
          },
          "metadata": {
            "tags": []
          },
          "execution_count": 75
        }
      ]
    },
    {
      "cell_type": "code",
      "metadata": {
        "id": "eJ4mcaEfAumt",
        "colab_type": "code",
        "outputId": "304b3c4f-0041-4f81-e41a-dd49b2c183f6",
        "colab": {
          "base_uri": "https://localhost:8080/",
          "height": 285
        }
      },
      "source": [
        "import seaborn as sns\n",
        "import matplotlib.pyplot as plt\n",
        "ax = sns.scatterplot(x=\"library_size\", y=\"mito_expression\", data=metadata)\n",
        "ax.set_yscale('log')\n",
        "#scprep.plot.scatter2d(metadata['library_size'], metadata['mito_expression'])"
      ],
      "execution_count": 76,
      "outputs": [
        {
          "output_type": "display_data",
          "data": {
            "image/png": "[encoded data removed]",
            "text/plain": [
              "<Figure size 432x288 with 1 Axes>"
            ]
          },
          "metadata": {
            "tags": []
          }
        }
      ]
    },
    {
      "cell_type": "code",
      "metadata": {
        "id": "xJD-KXFMIFYW",
        "colab_type": "code",
        "colab": {}
      },
      "source": [
        "del(metadata)"
      ],
      "execution_count": 0,
      "outputs": []
    },
    {
      "cell_type": "code",
      "metadata": {
        "id": "O7HO3fctzIYH",
        "colab_type": "code",
        "colab": {
          "base_uri": "https://localhost:8080/",
          "height": 361
        },
        "outputId": "9782d833-74c4-4026-c09e-799a33d152af"
      },
      "source": [
        "scprep.plot.scatter2d(np.log10(metadata['library_size']), metadata['mito_expression'])"
      ],
      "execution_count": 77,
      "outputs": [
        {
          "output_type": "error",
          "ename": "AttributeError",
          "evalue": "ignored",
          "traceback": [
            "\u001b[0;31m---------------------------------------------------------------------------\u001b[0m",
            "\u001b[0;31mAttributeError\u001b[0m                            Traceback (most recent call last)",
            "\u001b[0;32m<ipython-input-77-d731e0618e35>\u001b[0m in \u001b[0;36m<module>\u001b[0;34m()\u001b[0m\n\u001b[0;32m----> 1\u001b[0;31m \u001b[0mscprep\u001b[0m\u001b[0;34m.\u001b[0m\u001b[0mplot\u001b[0m\u001b[0;34m.\u001b[0m\u001b[0mscatter2d\u001b[0m\u001b[0;34m(\u001b[0m\u001b[0mnp\u001b[0m\u001b[0;34m.\u001b[0m\u001b[0mlog10\u001b[0m\u001b[0;34m(\u001b[0m\u001b[0mmetadata\u001b[0m\u001b[0;34m[\u001b[0m\u001b[0;34m'library_size'\u001b[0m\u001b[0;34m]\u001b[0m\u001b[0;34m)\u001b[0m\u001b[0;34m,\u001b[0m \u001b[0mmetadata\u001b[0m\u001b[0;34m[\u001b[0m\u001b[0;34m'mito_expression'\u001b[0m\u001b[0;34m]\u001b[0m\u001b[0;34m)\u001b[0m\u001b[0;34m\u001b[0m\u001b[0;34m\u001b[0m\u001b[0m\n\u001b[0m",
            "\u001b[0;32m<decorator-gen-139>\u001b[0m in \u001b[0;36mscatter2d\u001b[0;34m(data, c, cmap, cmap_scale, s, mask, discrete, ax, legend, colorbar, shuffle, figsize, ticks, xticks, yticks, ticklabels, xticklabels, yticklabels, label_prefix, xlabel, ylabel, title, fontsize, legend_title, legend_loc, legend_anchor, legend_ncol, filename, dpi, **plot_kwargs)\u001b[0m\n",
            "\u001b[0;32m/usr/local/lib/python3.6/dist-packages/scprep/utils.py\u001b[0m in \u001b[0;36m_with_pkg\u001b[0;34m(fun, pkg, min_version, *args, **kwargs)\u001b[0m\n\u001b[1;32m     81\u001b[0m         \u001b[0mcheck_version\u001b[0m\u001b[0;34m(\u001b[0m\u001b[0mpkg\u001b[0m\u001b[0;34m,\u001b[0m \u001b[0mmin_version\u001b[0m\u001b[0;34m=\u001b[0m\u001b[0mmin_version\u001b[0m\u001b[0;34m)\u001b[0m\u001b[0;34m\u001b[0m\u001b[0;34m\u001b[0m\u001b[0m\n\u001b[1;32m     82\u001b[0m         \u001b[0m__imported_pkgs\u001b[0m\u001b[0;34m.\u001b[0m\u001b[0madd\u001b[0m\u001b[0;34m(\u001b[0m\u001b[0;34m(\u001b[0m\u001b[0mpkg\u001b[0m\u001b[0;34m,\u001b[0m \u001b[0mmin_version\u001b[0m\u001b[0;34m)\u001b[0m\u001b[0;34m)\u001b[0m\u001b[0;34m\u001b[0m\u001b[0;34m\u001b[0m\u001b[0m\n\u001b[0;32m---> 83\u001b[0;31m     \u001b[0;32mreturn\u001b[0m \u001b[0mfun\u001b[0m\u001b[0;34m(\u001b[0m\u001b[0;34m*\u001b[0m\u001b[0margs\u001b[0m\u001b[0;34m,\u001b[0m \u001b[0;34m**\u001b[0m\u001b[0mkwargs\u001b[0m\u001b[0;34m)\u001b[0m\u001b[0;34m\u001b[0m\u001b[0;34m\u001b[0m\u001b[0m\n\u001b[0m\u001b[1;32m     84\u001b[0m \u001b[0;34m\u001b[0m\u001b[0m\n\u001b[1;32m     85\u001b[0m \u001b[0;34m\u001b[0m\u001b[0m\n",
            "\u001b[0;32m/usr/local/lib/python3.6/dist-packages/scprep/plot/scatter.py\u001b[0m in \u001b[0;36mscatter2d\u001b[0;34m(data, c, cmap, cmap_scale, s, mask, discrete, ax, legend, colorbar, shuffle, figsize, ticks, xticks, yticks, ticklabels, xticklabels, yticklabels, label_prefix, xlabel, ylabel, title, fontsize, legend_title, legend_loc, legend_anchor, legend_ncol, filename, dpi, **plot_kwargs)\u001b[0m\n\u001b[1;32m    954\u001b[0m         \u001b[0mdata\u001b[0m \u001b[0;34m=\u001b[0m \u001b[0mnp\u001b[0m\u001b[0;34m.\u001b[0m\u001b[0matleast_2d\u001b[0m\u001b[0;34m(\u001b[0m\u001b[0mdata\u001b[0m\u001b[0;34m)\u001b[0m\u001b[0;34m\u001b[0m\u001b[0;34m\u001b[0m\u001b[0m\n\u001b[1;32m    955\u001b[0m     return scatter(\n\u001b[0;32m--> 956\u001b[0;31m         \u001b[0mx\u001b[0m\u001b[0;34m=\u001b[0m\u001b[0mselect\u001b[0m\u001b[0;34m.\u001b[0m\u001b[0mselect_cols\u001b[0m\u001b[0;34m(\u001b[0m\u001b[0mdata\u001b[0m\u001b[0;34m,\u001b[0m \u001b[0midx\u001b[0m\u001b[0;34m=\u001b[0m\u001b[0;36m0\u001b[0m\u001b[0;34m)\u001b[0m\u001b[0;34m,\u001b[0m\u001b[0;34m\u001b[0m\u001b[0;34m\u001b[0m\u001b[0m\n\u001b[0m\u001b[1;32m    957\u001b[0m         \u001b[0my\u001b[0m\u001b[0;34m=\u001b[0m\u001b[0mselect\u001b[0m\u001b[0;34m.\u001b[0m\u001b[0mselect_cols\u001b[0m\u001b[0;34m(\u001b[0m\u001b[0mdata\u001b[0m\u001b[0;34m,\u001b[0m \u001b[0midx\u001b[0m\u001b[0;34m=\u001b[0m\u001b[0;36m1\u001b[0m\u001b[0;34m)\u001b[0m\u001b[0;34m,\u001b[0m\u001b[0;34m\u001b[0m\u001b[0;34m\u001b[0m\u001b[0m\n\u001b[1;32m    958\u001b[0m         \u001b[0mc\u001b[0m\u001b[0;34m=\u001b[0m\u001b[0mc\u001b[0m\u001b[0;34m,\u001b[0m\u001b[0;34m\u001b[0m\u001b[0;34m\u001b[0m\u001b[0m\n",
            "\u001b[0;32m/usr/local/lib/python3.6/dist-packages/scprep/select.py\u001b[0m in \u001b[0;36mselect_cols\u001b[0;34m(data, idx, starts_with, ends_with, exact_word, regex, *extra_data)\u001b[0m\n\u001b[1;32m    409\u001b[0m     \u001b[0;32melif\u001b[0m \u001b[0misinstance\u001b[0m\u001b[0;34m(\u001b[0m\u001b[0mdata\u001b[0m\u001b[0;34m,\u001b[0m \u001b[0mpd\u001b[0m\u001b[0;34m.\u001b[0m\u001b[0mSeries\u001b[0m\u001b[0;34m)\u001b[0m\u001b[0;34m:\u001b[0m\u001b[0;34m\u001b[0m\u001b[0;34m\u001b[0m\u001b[0m\n\u001b[1;32m    410\u001b[0m         \u001b[0;32mtry\u001b[0m\u001b[0;34m:\u001b[0m\u001b[0;34m\u001b[0m\u001b[0;34m\u001b[0m\u001b[0m\n\u001b[0;32m--> 411\u001b[0;31m             \u001b[0;32mif\u001b[0m \u001b[0mnp\u001b[0m\u001b[0;34m.\u001b[0m\u001b[0missubdtype\u001b[0m\u001b[0;34m(\u001b[0m\u001b[0midx\u001b[0m\u001b[0;34m.\u001b[0m\u001b[0mdtype\u001b[0m\u001b[0;34m,\u001b[0m \u001b[0mnp\u001b[0m\u001b[0;34m.\u001b[0m\u001b[0mdtype\u001b[0m\u001b[0;34m(\u001b[0m\u001b[0mbool\u001b[0m\u001b[0;34m)\u001b[0m\u001b[0;34m.\u001b[0m\u001b[0mtype\u001b[0m\u001b[0;34m)\u001b[0m\u001b[0;34m:\u001b[0m\u001b[0;34m\u001b[0m\u001b[0;34m\u001b[0m\u001b[0m\n\u001b[0m\u001b[1;32m    412\u001b[0m                 \u001b[0;31m# temporary workaround for pandas error\u001b[0m\u001b[0;34m\u001b[0m\u001b[0;34m\u001b[0m\u001b[0;34m\u001b[0m\u001b[0m\n\u001b[1;32m    413\u001b[0m                 \u001b[0;32mraise\u001b[0m \u001b[0mTypeError\u001b[0m\u001b[0;34m\u001b[0m\u001b[0;34m\u001b[0m\u001b[0m\n",
            "\u001b[0;31mAttributeError\u001b[0m: 'int' object has no attribute 'dtype'"
          ]
        }
      ]
    },
    {
      "cell_type": "markdown",
      "metadata": {
        "colab_type": "text",
        "id": "b42rRXFLi74L"
      },
      "source": [
        "Most Python data analysis techniques handle a single data matrix with rows (cells) and columns (genes). In Pandas DataFrames, each row and column has a name associated with it."
      ]
    },
    {
      "cell_type": "markdown",
      "metadata": {
        "colab_type": "text",
        "id": "FPAy3eBOi74M"
      },
      "source": [
        "The _columns_ refer to the genes, of features of the data. `data.columns` gives these as a list."
      ]
    },
    {
      "cell_type": "code",
      "metadata": {
        "colab_type": "code",
        "id": "p5mr720Pi74O",
        "colab": {
          "base_uri": "https://localhost:8080/",
          "height": 306
        },
        "outputId": "76f736ad-57c8-4736-8e9e-e8c6d76e7504"
      },
      "source": [
        "data.columns"
      ],
      "execution_count": 12,
      "outputs": [
        {
          "output_type": "execute_result",
          "data": {
            "text/plain": [
              "Index(['0610007P14Rik (ENSMUSG00000021252)',\n",
              "       '0610009B22Rik (ENSMUSG00000007777)',\n",
              "       '0610009L18Rik (ENSMUSG00000043644)',\n",
              "       '0610009O20Rik (ENSMUSG00000024442)',\n",
              "       '0610010F05Rik (ENSMUSG00000042208)',\n",
              "       '0610010K14Rik (ENSMUSG00000020831)',\n",
              "       '0610011F06Rik (ENSMUSG00000025731)',\n",
              "       '0610012D04Rik (ENSMUSG00000089755)',\n",
              "       '0610012G03Rik (ENSMUSG00000107002)',\n",
              "       '0610025J13Rik (ENSMUSG00000046683)',\n",
              "       ...\n",
              "       'mt-Co2 (ENSMUSG00000064354)', 'mt-Co3 (ENSMUSG00000064358)',\n",
              "       'mt-Cytb (ENSMUSG00000064370)', 'mt-Nd1 (ENSMUSG00000064341)',\n",
              "       'mt-Nd2 (ENSMUSG00000064345)', 'mt-Nd3 (ENSMUSG00000064360)',\n",
              "       'mt-Nd4 (ENSMUSG00000064363)', 'mt-Nd4l (ENSMUSG00000065947)',\n",
              "       'mt-Nd5 (ENSMUSG00000064367)', 'mt-Nd6 (ENSMUSG00000064368)'],\n",
              "      dtype='object', length=27998)"
            ]
          },
          "metadata": {
            "tags": []
          },
          "execution_count": 12
        }
      ]
    },
    {
      "cell_type": "markdown",
      "metadata": {
        "colab_type": "text",
        "id": "PQ7Cr9gwi74V"
      },
      "source": [
        "The _rows_ refer to the cells, of observations of the data. `data.index` gives these as a list."
      ]
    },
    {
      "cell_type": "code",
      "metadata": {
        "colab_type": "code",
        "id": "QBCkUH31i74W",
        "colab": {
          "base_uri": "https://localhost:8080/",
          "height": 204
        },
        "outputId": "ef97e2c3-d0e5-42f3-e29e-0910655e4d8f"
      },
      "source": [
        "data.index"
      ],
      "execution_count": 13,
      "outputs": [
        {
          "output_type": "execute_result",
          "data": {
            "text/plain": [
              "Index(['AAACCCACAGAGATGC-1_Y', 'AAACCCACAGGAATAT-1_Y', 'AAACGAAAGTAGAATC-1_Y',\n",
              "       'AAACGAACAATTCGTG-1_Y', 'AAACGAAGTATGATCC-1_Y', 'AAACGAATCCGCTTAC-1_Y',\n",
              "       'AAACGCTCACGTCTCT-1_Y', 'AAACGCTCAGACCATT-1_Y', 'AAACGCTGTGTTTCTT-1_Y',\n",
              "       'AAAGAACCATCGGAAG-1_Y',\n",
              "       ...\n",
              "       'TTTGGAGCACGGTGAA-1_KPY', 'TTTGGAGCAGCAGAAC-1_KPY',\n",
              "       'TTTGGAGGTACTGACT-1_KPY', 'TTTGGAGGTGTAAACA-1_KPY',\n",
              "       'TTTGGTTAGTCGAAGC-1_KPY', 'TTTGGTTGTCCTGGGT-1_KPY',\n",
              "       'TTTGTTGCAAACTGCT-1_KPY', 'TTTGTTGCACAAAGCG-1_KPY',\n",
              "       'TTTGTTGCACATGGTT-1_KPY', 'TTTGTTGTCTCGGTAA-1_KPY'],\n",
              "      dtype='object', length=6362)"
            ]
          },
          "metadata": {
            "tags": []
          },
          "execution_count": 13
        }
      ]
    },
    {
      "cell_type": "markdown",
      "metadata": {
        "colab_type": "text",
        "id": "VAnf7DOIi74c"
      },
      "source": [
        "Note that some tools expect the opposite: that genes would be on the rows and cells on the columns. This is a hold-over from bulk RNA-seq, when it made sense for each replicate (of which there were few) to be a feature and each gene (of which there were many) to be an observation; however, now that we can have as many or more cells than genes, it makes more sense for cells to be observations. Keep this difference in mind when you try new tools."
      ]
    },
    {
      "cell_type": "markdown",
      "metadata": {
        "colab_type": "text",
        "id": "PcgUh4XKi74e"
      },
      "source": [
        "Finally, we can view the actual matrix, either by simply typing the matrix name to view the whole thing, or using the `.head()` function to view the first few rows."
      ]
    },
    {
      "cell_type": "code",
      "metadata": {
        "colab_type": "code",
        "id": "Aat4dAqTi74f",
        "colab": {
          "base_uri": "https://localhost:8080/",
          "height": 595
        },
        "outputId": "e1a992d9-406f-4bdc-e7ab-6a6436ceb328"
      },
      "source": [
        "data.head(10)"
      ],
      "execution_count": 14,
      "outputs": [
        {
          "output_type": "execute_result",
          "data": {
            "text/html": [
              "<div>\n",
              "<style scoped>\n",
              "    .dataframe tbody tr th:only-of-type {\n",
              "        vertical-align: middle;\n",
              "    }\n",
              "\n",
              "    .dataframe tbody tr th {\n",
              "        vertical-align: top;\n",
              "    }\n",
              "\n",
              "    .dataframe thead th {\n",
              "        text-align: right;\n",
              "    }\n",
              "</style>\n",
              "<table border=\"1\" class=\"dataframe\">\n",
              "  <thead>\n",
              "    <tr style=\"text-align: right;\">\n",
              "      <th></th>\n",
              "      <th>0610007P14Rik (ENSMUSG00000021252)</th>\n",
              "      <th>0610009B22Rik (ENSMUSG00000007777)</th>\n",
              "      <th>0610009L18Rik (ENSMUSG00000043644)</th>\n",
              "      <th>0610009O20Rik (ENSMUSG00000024442)</th>\n",
              "      <th>0610010F05Rik (ENSMUSG00000042208)</th>\n",
              "      <th>0610010K14Rik (ENSMUSG00000020831)</th>\n",
              "      <th>0610011F06Rik (ENSMUSG00000025731)</th>\n",
              "      <th>0610012D04Rik (ENSMUSG00000089755)</th>\n",
              "      <th>0610012G03Rik (ENSMUSG00000107002)</th>\n",
              "      <th>0610025J13Rik (ENSMUSG00000046683)</th>\n",
              "      <th>0610030E20Rik (ENSMUSG00000058706)</th>\n",
              "      <th>0610031O16Rik (ENSMUSG00000099146)</th>\n",
              "      <th>0610033M10Rik (ENSMUSG00000108236)</th>\n",
              "      <th>0610037L13Rik (ENSMUSG00000028608)</th>\n",
              "      <th>0610038B21Rik (ENSMUSG00000097882)</th>\n",
              "      <th>0610039K10Rik (ENSMUSG00000058812)</th>\n",
              "      <th>0610040B10Rik (ENSMUSG00000089889)</th>\n",
              "      <th>0610040F04Rik (ENSMUSG00000087341)</th>\n",
              "      <th>0610040J01Rik (ENSMUSG00000060512)</th>\n",
              "      <th>0610043K17Rik (ENSMUSG00000087361)</th>\n",
              "      <th>1010001B22Rik (ENSMUSG00000097863)</th>\n",
              "      <th>1010001N08Rik (ENSMUSG00000097222)</th>\n",
              "      <th>1110001J03Rik (ENSMUSG00000019689)</th>\n",
              "      <th>1110002E22Rik (ENSMUSG00000090066)</th>\n",
              "      <th>1110002J07Rik (ENSMUSG00000097134)</th>\n",
              "      <th>1110002L01Rik (ENSMUSG00000071456)</th>\n",
              "      <th>1110002O04Rik (ENSMUSG00000102531)</th>\n",
              "      <th>1110004E09Rik (ENSMUSG00000022972)</th>\n",
              "      <th>1110004F10Rik (ENSMUSG00000030663)</th>\n",
              "      <th>1110006O24Rik (ENSMUSG00000107121)</th>\n",
              "      <th>1110008E08Rik (ENSMUSG00000046119)</th>\n",
              "      <th>1110008F13Rik (ENSMUSG00000027637)</th>\n",
              "      <th>1110008L16Rik (ENSMUSG00000021023)</th>\n",
              "      <th>1110008P14Rik (ENSMUSG00000039195)</th>\n",
              "      <th>1110012L19Rik (ENSMUSG00000045237)</th>\n",
              "      <th>1110015O18Rik (ENSMUSG00000098659)</th>\n",
              "      <th>1110017D15Rik (ENSMUSG00000028441)</th>\n",
              "      <th>1110019D14Rik (ENSMUSG00000097616)</th>\n",
              "      <th>1110020A21Rik (ENSMUSG00000097047)</th>\n",
              "      <th>1110025L11Rik (ENSMUSG00000068073)</th>\n",
              "      <th>...</th>\n",
              "      <th>Zscan4b (ENSMUSG00000095339)</th>\n",
              "      <th>Zscan4c (ENSMUSG00000054272)</th>\n",
              "      <th>Zscan4d (ENSMUSG00000090714)</th>\n",
              "      <th>Zscan4f (ENSMUSG00000070828)</th>\n",
              "      <th>Zscan5b (ENSMUSG00000058028)</th>\n",
              "      <th>Zswim1 (ENSMUSG00000017764)</th>\n",
              "      <th>Zswim2 (ENSMUSG00000034552)</th>\n",
              "      <th>Zswim3 (ENSMUSG00000045822)</th>\n",
              "      <th>Zswim4 (ENSMUSG00000035671)</th>\n",
              "      <th>Zswim5 (ENSMUSG00000033948)</th>\n",
              "      <th>Zswim6 (ENSMUSG00000032846)</th>\n",
              "      <th>Zswim7 (ENSMUSG00000014243)</th>\n",
              "      <th>Zswim8 (ENSMUSG00000021819)</th>\n",
              "      <th>Zufsp (ENSMUSG00000039531)</th>\n",
              "      <th>Zw10 (ENSMUSG00000032264)</th>\n",
              "      <th>Zwilch (ENSMUSG00000032400)</th>\n",
              "      <th>Zwint (ENSMUSG00000019923)</th>\n",
              "      <th>Zxdb (ENSMUSG00000073062)</th>\n",
              "      <th>Zxdc (ENSMUSG00000034430)</th>\n",
              "      <th>Zyg11a (ENSMUSG00000034645)</th>\n",
              "      <th>Zyg11b (ENSMUSG00000034636)</th>\n",
              "      <th>Zyx (ENSMUSG00000029860)</th>\n",
              "      <th>Zzef1 (ENSMUSG00000055670)</th>\n",
              "      <th>Zzz3 (ENSMUSG00000039068)</th>\n",
              "      <th>a (ENSMUSG00000027596)</th>\n",
              "      <th>l7Rn6 (ENSMUSG00000062797)</th>\n",
              "      <th>l7Rn6 (ENSMUSG00000108996)</th>\n",
              "      <th>mt-Atp6 (ENSMUSG00000064357)</th>\n",
              "      <th>mt-Atp8 (ENSMUSG00000064356)</th>\n",
              "      <th>mt-Co1 (ENSMUSG00000064351)</th>\n",
              "      <th>mt-Co2 (ENSMUSG00000064354)</th>\n",
              "      <th>mt-Co3 (ENSMUSG00000064358)</th>\n",
              "      <th>mt-Cytb (ENSMUSG00000064370)</th>\n",
              "      <th>mt-Nd1 (ENSMUSG00000064341)</th>\n",
              "      <th>mt-Nd2 (ENSMUSG00000064345)</th>\n",
              "      <th>mt-Nd3 (ENSMUSG00000064360)</th>\n",
              "      <th>mt-Nd4 (ENSMUSG00000064363)</th>\n",
              "      <th>mt-Nd4l (ENSMUSG00000065947)</th>\n",
              "      <th>mt-Nd5 (ENSMUSG00000064367)</th>\n",
              "      <th>mt-Nd6 (ENSMUSG00000064368)</th>\n",
              "    </tr>\n",
              "  </thead>\n",
              "  <tbody>\n",
              "    <tr>\n",
              "      <th>AAACCCACAGAGATGC-1_Y</th>\n",
              "      <td>1.0</td>\n",
              "      <td>0.0</td>\n",
              "      <td>0.0</td>\n",
              "      <td>0.0</td>\n",
              "      <td>0.0</td>\n",
              "      <td>1.0</td>\n",
              "      <td>1.0</td>\n",
              "      <td>0.0</td>\n",
              "      <td>0.0</td>\n",
              "      <td>0.0</td>\n",
              "      <td>0.0</td>\n",
              "      <td>0.0</td>\n",
              "      <td>0.0</td>\n",
              "      <td>1.0</td>\n",
              "      <td>0.0</td>\n",
              "      <td>0.0</td>\n",
              "      <td>0.0</td>\n",
              "      <td>0.0</td>\n",
              "      <td>0.0</td>\n",
              "      <td>0.0</td>\n",
              "      <td>0.0</td>\n",
              "      <td>0.0</td>\n",
              "      <td>1.0</td>\n",
              "      <td>0.0</td>\n",
              "      <td>0.0</td>\n",
              "      <td>0.0</td>\n",
              "      <td>0.0</td>\n",
              "      <td>0.0</td>\n",
              "      <td>0.0</td>\n",
              "      <td>0.0</td>\n",
              "      <td>0.0</td>\n",
              "      <td>3.0</td>\n",
              "      <td>0.0</td>\n",
              "      <td>0.0</td>\n",
              "      <td>2.0</td>\n",
              "      <td>0.0</td>\n",
              "      <td>0.0</td>\n",
              "      <td>0.0</td>\n",
              "      <td>0.0</td>\n",
              "      <td>0.0</td>\n",
              "      <td>...</td>\n",
              "      <td>0.0</td>\n",
              "      <td>0.0</td>\n",
              "      <td>0.0</td>\n",
              "      <td>0.0</td>\n",
              "      <td>0.0</td>\n",
              "      <td>0.0</td>\n",
              "      <td>0.0</td>\n",
              "      <td>0.0</td>\n",
              "      <td>0.0</td>\n",
              "      <td>0.0</td>\n",
              "      <td>0.0</td>\n",
              "      <td>0.0</td>\n",
              "      <td>0.0</td>\n",
              "      <td>0.0</td>\n",
              "      <td>1.0</td>\n",
              "      <td>0.0</td>\n",
              "      <td>1.0</td>\n",
              "      <td>0.0</td>\n",
              "      <td>0.0</td>\n",
              "      <td>0.0</td>\n",
              "      <td>0.0</td>\n",
              "      <td>0.0</td>\n",
              "      <td>0.0</td>\n",
              "      <td>1.0</td>\n",
              "      <td>0.0</td>\n",
              "      <td>0.0</td>\n",
              "      <td>0.0</td>\n",
              "      <td>346.0</td>\n",
              "      <td>6.0</td>\n",
              "      <td>353.0</td>\n",
              "      <td>243.0</td>\n",
              "      <td>336.0</td>\n",
              "      <td>176.0</td>\n",
              "      <td>84.0</td>\n",
              "      <td>117.0</td>\n",
              "      <td>74.0</td>\n",
              "      <td>177.0</td>\n",
              "      <td>16.0</td>\n",
              "      <td>22.0</td>\n",
              "      <td>0.0</td>\n",
              "    </tr>\n",
              "    <tr>\n",
              "      <th>AAACCCACAGGAATAT-1_Y</th>\n",
              "      <td>0.0</td>\n",
              "      <td>0.0</td>\n",
              "      <td>1.0</td>\n",
              "      <td>0.0</td>\n",
              "      <td>0.0</td>\n",
              "      <td>0.0</td>\n",
              "      <td>0.0</td>\n",
              "      <td>0.0</td>\n",
              "      <td>1.0</td>\n",
              "      <td>0.0</td>\n",
              "      <td>0.0</td>\n",
              "      <td>0.0</td>\n",
              "      <td>0.0</td>\n",
              "      <td>0.0</td>\n",
              "      <td>0.0</td>\n",
              "      <td>0.0</td>\n",
              "      <td>0.0</td>\n",
              "      <td>0.0</td>\n",
              "      <td>1.0</td>\n",
              "      <td>0.0</td>\n",
              "      <td>0.0</td>\n",
              "      <td>0.0</td>\n",
              "      <td>1.0</td>\n",
              "      <td>0.0</td>\n",
              "      <td>0.0</td>\n",
              "      <td>3.0</td>\n",
              "      <td>0.0</td>\n",
              "      <td>1.0</td>\n",
              "      <td>1.0</td>\n",
              "      <td>0.0</td>\n",
              "      <td>0.0</td>\n",
              "      <td>3.0</td>\n",
              "      <td>0.0</td>\n",
              "      <td>0.0</td>\n",
              "      <td>0.0</td>\n",
              "      <td>0.0</td>\n",
              "      <td>0.0</td>\n",
              "      <td>0.0</td>\n",
              "      <td>0.0</td>\n",
              "      <td>0.0</td>\n",
              "      <td>...</td>\n",
              "      <td>0.0</td>\n",
              "      <td>0.0</td>\n",
              "      <td>0.0</td>\n",
              "      <td>0.0</td>\n",
              "      <td>0.0</td>\n",
              "      <td>0.0</td>\n",
              "      <td>0.0</td>\n",
              "      <td>0.0</td>\n",
              "      <td>0.0</td>\n",
              "      <td>0.0</td>\n",
              "      <td>0.0</td>\n",
              "      <td>0.0</td>\n",
              "      <td>1.0</td>\n",
              "      <td>0.0</td>\n",
              "      <td>0.0</td>\n",
              "      <td>0.0</td>\n",
              "      <td>2.0</td>\n",
              "      <td>1.0</td>\n",
              "      <td>0.0</td>\n",
              "      <td>0.0</td>\n",
              "      <td>1.0</td>\n",
              "      <td>0.0</td>\n",
              "      <td>0.0</td>\n",
              "      <td>1.0</td>\n",
              "      <td>0.0</td>\n",
              "      <td>0.0</td>\n",
              "      <td>0.0</td>\n",
              "      <td>138.0</td>\n",
              "      <td>3.0</td>\n",
              "      <td>213.0</td>\n",
              "      <td>114.0</td>\n",
              "      <td>143.0</td>\n",
              "      <td>81.0</td>\n",
              "      <td>60.0</td>\n",
              "      <td>61.0</td>\n",
              "      <td>37.0</td>\n",
              "      <td>78.0</td>\n",
              "      <td>7.0</td>\n",
              "      <td>11.0</td>\n",
              "      <td>0.0</td>\n",
              "    </tr>\n",
              "    <tr>\n",
              "      <th>AAACGAAAGTAGAATC-1_Y</th>\n",
              "      <td>1.0</td>\n",
              "      <td>2.0</td>\n",
              "      <td>0.0</td>\n",
              "      <td>0.0</td>\n",
              "      <td>0.0</td>\n",
              "      <td>0.0</td>\n",
              "      <td>2.0</td>\n",
              "      <td>0.0</td>\n",
              "      <td>3.0</td>\n",
              "      <td>0.0</td>\n",
              "      <td>0.0</td>\n",
              "      <td>0.0</td>\n",
              "      <td>0.0</td>\n",
              "      <td>0.0</td>\n",
              "      <td>0.0</td>\n",
              "      <td>0.0</td>\n",
              "      <td>0.0</td>\n",
              "      <td>0.0</td>\n",
              "      <td>0.0</td>\n",
              "      <td>0.0</td>\n",
              "      <td>0.0</td>\n",
              "      <td>0.0</td>\n",
              "      <td>0.0</td>\n",
              "      <td>0.0</td>\n",
              "      <td>0.0</td>\n",
              "      <td>0.0</td>\n",
              "      <td>0.0</td>\n",
              "      <td>6.0</td>\n",
              "      <td>2.0</td>\n",
              "      <td>0.0</td>\n",
              "      <td>0.0</td>\n",
              "      <td>1.0</td>\n",
              "      <td>0.0</td>\n",
              "      <td>0.0</td>\n",
              "      <td>0.0</td>\n",
              "      <td>0.0</td>\n",
              "      <td>11.0</td>\n",
              "      <td>0.0</td>\n",
              "      <td>0.0</td>\n",
              "      <td>0.0</td>\n",
              "      <td>...</td>\n",
              "      <td>0.0</td>\n",
              "      <td>0.0</td>\n",
              "      <td>0.0</td>\n",
              "      <td>0.0</td>\n",
              "      <td>0.0</td>\n",
              "      <td>0.0</td>\n",
              "      <td>0.0</td>\n",
              "      <td>0.0</td>\n",
              "      <td>0.0</td>\n",
              "      <td>0.0</td>\n",
              "      <td>0.0</td>\n",
              "      <td>0.0</td>\n",
              "      <td>0.0</td>\n",
              "      <td>0.0</td>\n",
              "      <td>0.0</td>\n",
              "      <td>0.0</td>\n",
              "      <td>0.0</td>\n",
              "      <td>0.0</td>\n",
              "      <td>1.0</td>\n",
              "      <td>0.0</td>\n",
              "      <td>1.0</td>\n",
              "      <td>0.0</td>\n",
              "      <td>1.0</td>\n",
              "      <td>1.0</td>\n",
              "      <td>0.0</td>\n",
              "      <td>1.0</td>\n",
              "      <td>0.0</td>\n",
              "      <td>426.0</td>\n",
              "      <td>10.0</td>\n",
              "      <td>316.0</td>\n",
              "      <td>325.0</td>\n",
              "      <td>361.0</td>\n",
              "      <td>232.0</td>\n",
              "      <td>122.0</td>\n",
              "      <td>158.0</td>\n",
              "      <td>65.0</td>\n",
              "      <td>215.0</td>\n",
              "      <td>16.0</td>\n",
              "      <td>28.0</td>\n",
              "      <td>0.0</td>\n",
              "    </tr>\n",
              "    <tr>\n",
              "      <th>AAACGAACAATTCGTG-1_Y</th>\n",
              "      <td>0.0</td>\n",
              "      <td>0.0</td>\n",
              "      <td>0.0</td>\n",
              "      <td>0.0</td>\n",
              "      <td>0.0</td>\n",
              "      <td>0.0</td>\n",
              "      <td>1.0</td>\n",
              "      <td>0.0</td>\n",
              "      <td>0.0</td>\n",
              "      <td>0.0</td>\n",
              "      <td>0.0</td>\n",
              "      <td>0.0</td>\n",
              "      <td>0.0</td>\n",
              "      <td>0.0</td>\n",
              "      <td>0.0</td>\n",
              "      <td>0.0</td>\n",
              "      <td>0.0</td>\n",
              "      <td>0.0</td>\n",
              "      <td>0.0</td>\n",
              "      <td>0.0</td>\n",
              "      <td>0.0</td>\n",
              "      <td>0.0</td>\n",
              "      <td>0.0</td>\n",
              "      <td>0.0</td>\n",
              "      <td>0.0</td>\n",
              "      <td>0.0</td>\n",
              "      <td>0.0</td>\n",
              "      <td>0.0</td>\n",
              "      <td>1.0</td>\n",
              "      <td>0.0</td>\n",
              "      <td>0.0</td>\n",
              "      <td>0.0</td>\n",
              "      <td>0.0</td>\n",
              "      <td>0.0</td>\n",
              "      <td>0.0</td>\n",
              "      <td>0.0</td>\n",
              "      <td>0.0</td>\n",
              "      <td>0.0</td>\n",
              "      <td>0.0</td>\n",
              "      <td>0.0</td>\n",
              "      <td>...</td>\n",
              "      <td>0.0</td>\n",
              "      <td>0.0</td>\n",
              "      <td>0.0</td>\n",
              "      <td>0.0</td>\n",
              "      <td>0.0</td>\n",
              "      <td>0.0</td>\n",
              "      <td>0.0</td>\n",
              "      <td>0.0</td>\n",
              "      <td>0.0</td>\n",
              "      <td>0.0</td>\n",
              "      <td>0.0</td>\n",
              "      <td>0.0</td>\n",
              "      <td>0.0</td>\n",
              "      <td>0.0</td>\n",
              "      <td>0.0</td>\n",
              "      <td>0.0</td>\n",
              "      <td>0.0</td>\n",
              "      <td>0.0</td>\n",
              "      <td>0.0</td>\n",
              "      <td>0.0</td>\n",
              "      <td>0.0</td>\n",
              "      <td>0.0</td>\n",
              "      <td>1.0</td>\n",
              "      <td>0.0</td>\n",
              "      <td>0.0</td>\n",
              "      <td>0.0</td>\n",
              "      <td>0.0</td>\n",
              "      <td>185.0</td>\n",
              "      <td>3.0</td>\n",
              "      <td>143.0</td>\n",
              "      <td>111.0</td>\n",
              "      <td>172.0</td>\n",
              "      <td>135.0</td>\n",
              "      <td>43.0</td>\n",
              "      <td>65.0</td>\n",
              "      <td>28.0</td>\n",
              "      <td>72.0</td>\n",
              "      <td>11.0</td>\n",
              "      <td>16.0</td>\n",
              "      <td>1.0</td>\n",
              "    </tr>\n",
              "    <tr>\n",
              "      <th>AAACGAAGTATGATCC-1_Y</th>\n",
              "      <td>0.0</td>\n",
              "      <td>1.0</td>\n",
              "      <td>0.0</td>\n",
              "      <td>0.0</td>\n",
              "      <td>0.0</td>\n",
              "      <td>0.0</td>\n",
              "      <td>1.0</td>\n",
              "      <td>0.0</td>\n",
              "      <td>0.0</td>\n",
              "      <td>0.0</td>\n",
              "      <td>0.0</td>\n",
              "      <td>0.0</td>\n",
              "      <td>0.0</td>\n",
              "      <td>0.0</td>\n",
              "      <td>0.0</td>\n",
              "      <td>0.0</td>\n",
              "      <td>0.0</td>\n",
              "      <td>0.0</td>\n",
              "      <td>0.0</td>\n",
              "      <td>0.0</td>\n",
              "      <td>0.0</td>\n",
              "      <td>0.0</td>\n",
              "      <td>0.0</td>\n",
              "      <td>0.0</td>\n",
              "      <td>0.0</td>\n",
              "      <td>1.0</td>\n",
              "      <td>0.0</td>\n",
              "      <td>0.0</td>\n",
              "      <td>0.0</td>\n",
              "      <td>0.0</td>\n",
              "      <td>0.0</td>\n",
              "      <td>1.0</td>\n",
              "      <td>0.0</td>\n",
              "      <td>2.0</td>\n",
              "      <td>0.0</td>\n",
              "      <td>0.0</td>\n",
              "      <td>0.0</td>\n",
              "      <td>0.0</td>\n",
              "      <td>0.0</td>\n",
              "      <td>0.0</td>\n",
              "      <td>...</td>\n",
              "      <td>0.0</td>\n",
              "      <td>0.0</td>\n",
              "      <td>0.0</td>\n",
              "      <td>0.0</td>\n",
              "      <td>0.0</td>\n",
              "      <td>0.0</td>\n",
              "      <td>0.0</td>\n",
              "      <td>0.0</td>\n",
              "      <td>0.0</td>\n",
              "      <td>0.0</td>\n",
              "      <td>1.0</td>\n",
              "      <td>0.0</td>\n",
              "      <td>0.0</td>\n",
              "      <td>0.0</td>\n",
              "      <td>0.0</td>\n",
              "      <td>0.0</td>\n",
              "      <td>0.0</td>\n",
              "      <td>0.0</td>\n",
              "      <td>0.0</td>\n",
              "      <td>0.0</td>\n",
              "      <td>0.0</td>\n",
              "      <td>0.0</td>\n",
              "      <td>2.0</td>\n",
              "      <td>1.0</td>\n",
              "      <td>0.0</td>\n",
              "      <td>0.0</td>\n",
              "      <td>0.0</td>\n",
              "      <td>106.0</td>\n",
              "      <td>3.0</td>\n",
              "      <td>108.0</td>\n",
              "      <td>80.0</td>\n",
              "      <td>97.0</td>\n",
              "      <td>73.0</td>\n",
              "      <td>32.0</td>\n",
              "      <td>51.0</td>\n",
              "      <td>33.0</td>\n",
              "      <td>57.0</td>\n",
              "      <td>5.0</td>\n",
              "      <td>13.0</td>\n",
              "      <td>0.0</td>\n",
              "    </tr>\n",
              "    <tr>\n",
              "      <th>AAACGAATCCGCTTAC-1_Y</th>\n",
              "      <td>0.0</td>\n",
              "      <td>0.0</td>\n",
              "      <td>0.0</td>\n",
              "      <td>0.0</td>\n",
              "      <td>0.0</td>\n",
              "      <td>0.0</td>\n",
              "      <td>2.0</td>\n",
              "      <td>0.0</td>\n",
              "      <td>0.0</td>\n",
              "      <td>0.0</td>\n",
              "      <td>0.0</td>\n",
              "      <td>0.0</td>\n",
              "      <td>0.0</td>\n",
              "      <td>0.0</td>\n",
              "      <td>0.0</td>\n",
              "      <td>0.0</td>\n",
              "      <td>0.0</td>\n",
              "      <td>0.0</td>\n",
              "      <td>0.0</td>\n",
              "      <td>0.0</td>\n",
              "      <td>0.0</td>\n",
              "      <td>0.0</td>\n",
              "      <td>0.0</td>\n",
              "      <td>0.0</td>\n",
              "      <td>0.0</td>\n",
              "      <td>0.0</td>\n",
              "      <td>0.0</td>\n",
              "      <td>0.0</td>\n",
              "      <td>0.0</td>\n",
              "      <td>0.0</td>\n",
              "      <td>0.0</td>\n",
              "      <td>0.0</td>\n",
              "      <td>0.0</td>\n",
              "      <td>0.0</td>\n",
              "      <td>0.0</td>\n",
              "      <td>0.0</td>\n",
              "      <td>0.0</td>\n",
              "      <td>0.0</td>\n",
              "      <td>0.0</td>\n",
              "      <td>0.0</td>\n",
              "      <td>...</td>\n",
              "      <td>0.0</td>\n",
              "      <td>0.0</td>\n",
              "      <td>0.0</td>\n",
              "      <td>0.0</td>\n",
              "      <td>0.0</td>\n",
              "      <td>0.0</td>\n",
              "      <td>0.0</td>\n",
              "      <td>0.0</td>\n",
              "      <td>0.0</td>\n",
              "      <td>0.0</td>\n",
              "      <td>0.0</td>\n",
              "      <td>0.0</td>\n",
              "      <td>0.0</td>\n",
              "      <td>0.0</td>\n",
              "      <td>0.0</td>\n",
              "      <td>0.0</td>\n",
              "      <td>0.0</td>\n",
              "      <td>0.0</td>\n",
              "      <td>0.0</td>\n",
              "      <td>0.0</td>\n",
              "      <td>1.0</td>\n",
              "      <td>0.0</td>\n",
              "      <td>0.0</td>\n",
              "      <td>0.0</td>\n",
              "      <td>0.0</td>\n",
              "      <td>0.0</td>\n",
              "      <td>0.0</td>\n",
              "      <td>176.0</td>\n",
              "      <td>1.0</td>\n",
              "      <td>170.0</td>\n",
              "      <td>105.0</td>\n",
              "      <td>149.0</td>\n",
              "      <td>87.0</td>\n",
              "      <td>48.0</td>\n",
              "      <td>64.0</td>\n",
              "      <td>29.0</td>\n",
              "      <td>87.0</td>\n",
              "      <td>4.0</td>\n",
              "      <td>20.0</td>\n",
              "      <td>1.0</td>\n",
              "    </tr>\n",
              "    <tr>\n",
              "      <th>AAACGCTCACGTCTCT-1_Y</th>\n",
              "      <td>0.0</td>\n",
              "      <td>0.0</td>\n",
              "      <td>0.0</td>\n",
              "      <td>0.0</td>\n",
              "      <td>0.0</td>\n",
              "      <td>1.0</td>\n",
              "      <td>2.0</td>\n",
              "      <td>0.0</td>\n",
              "      <td>1.0</td>\n",
              "      <td>0.0</td>\n",
              "      <td>2.0</td>\n",
              "      <td>0.0</td>\n",
              "      <td>0.0</td>\n",
              "      <td>0.0</td>\n",
              "      <td>0.0</td>\n",
              "      <td>0.0</td>\n",
              "      <td>0.0</td>\n",
              "      <td>0.0</td>\n",
              "      <td>0.0</td>\n",
              "      <td>0.0</td>\n",
              "      <td>0.0</td>\n",
              "      <td>0.0</td>\n",
              "      <td>0.0</td>\n",
              "      <td>0.0</td>\n",
              "      <td>0.0</td>\n",
              "      <td>0.0</td>\n",
              "      <td>0.0</td>\n",
              "      <td>0.0</td>\n",
              "      <td>1.0</td>\n",
              "      <td>0.0</td>\n",
              "      <td>0.0</td>\n",
              "      <td>3.0</td>\n",
              "      <td>0.0</td>\n",
              "      <td>1.0</td>\n",
              "      <td>0.0</td>\n",
              "      <td>0.0</td>\n",
              "      <td>0.0</td>\n",
              "      <td>0.0</td>\n",
              "      <td>0.0</td>\n",
              "      <td>0.0</td>\n",
              "      <td>...</td>\n",
              "      <td>0.0</td>\n",
              "      <td>0.0</td>\n",
              "      <td>0.0</td>\n",
              "      <td>0.0</td>\n",
              "      <td>0.0</td>\n",
              "      <td>0.0</td>\n",
              "      <td>0.0</td>\n",
              "      <td>0.0</td>\n",
              "      <td>0.0</td>\n",
              "      <td>0.0</td>\n",
              "      <td>1.0</td>\n",
              "      <td>0.0</td>\n",
              "      <td>0.0</td>\n",
              "      <td>0.0</td>\n",
              "      <td>1.0</td>\n",
              "      <td>0.0</td>\n",
              "      <td>1.0</td>\n",
              "      <td>0.0</td>\n",
              "      <td>0.0</td>\n",
              "      <td>0.0</td>\n",
              "      <td>0.0</td>\n",
              "      <td>0.0</td>\n",
              "      <td>0.0</td>\n",
              "      <td>0.0</td>\n",
              "      <td>0.0</td>\n",
              "      <td>0.0</td>\n",
              "      <td>0.0</td>\n",
              "      <td>165.0</td>\n",
              "      <td>3.0</td>\n",
              "      <td>140.0</td>\n",
              "      <td>107.0</td>\n",
              "      <td>147.0</td>\n",
              "      <td>84.0</td>\n",
              "      <td>38.0</td>\n",
              "      <td>54.0</td>\n",
              "      <td>28.0</td>\n",
              "      <td>76.0</td>\n",
              "      <td>7.0</td>\n",
              "      <td>9.0</td>\n",
              "      <td>0.0</td>\n",
              "    </tr>\n",
              "    <tr>\n",
              "      <th>AAACGCTCAGACCATT-1_Y</th>\n",
              "      <td>0.0</td>\n",
              "      <td>0.0</td>\n",
              "      <td>0.0</td>\n",
              "      <td>0.0</td>\n",
              "      <td>1.0</td>\n",
              "      <td>0.0</td>\n",
              "      <td>0.0</td>\n",
              "      <td>0.0</td>\n",
              "      <td>1.0</td>\n",
              "      <td>0.0</td>\n",
              "      <td>0.0</td>\n",
              "      <td>0.0</td>\n",
              "      <td>0.0</td>\n",
              "      <td>0.0</td>\n",
              "      <td>0.0</td>\n",
              "      <td>0.0</td>\n",
              "      <td>0.0</td>\n",
              "      <td>0.0</td>\n",
              "      <td>0.0</td>\n",
              "      <td>0.0</td>\n",
              "      <td>0.0</td>\n",
              "      <td>0.0</td>\n",
              "      <td>0.0</td>\n",
              "      <td>0.0</td>\n",
              "      <td>0.0</td>\n",
              "      <td>0.0</td>\n",
              "      <td>0.0</td>\n",
              "      <td>1.0</td>\n",
              "      <td>1.0</td>\n",
              "      <td>0.0</td>\n",
              "      <td>0.0</td>\n",
              "      <td>0.0</td>\n",
              "      <td>1.0</td>\n",
              "      <td>0.0</td>\n",
              "      <td>1.0</td>\n",
              "      <td>0.0</td>\n",
              "      <td>0.0</td>\n",
              "      <td>0.0</td>\n",
              "      <td>1.0</td>\n",
              "      <td>0.0</td>\n",
              "      <td>...</td>\n",
              "      <td>0.0</td>\n",
              "      <td>0.0</td>\n",
              "      <td>0.0</td>\n",
              "      <td>0.0</td>\n",
              "      <td>0.0</td>\n",
              "      <td>0.0</td>\n",
              "      <td>0.0</td>\n",
              "      <td>0.0</td>\n",
              "      <td>0.0</td>\n",
              "      <td>0.0</td>\n",
              "      <td>0.0</td>\n",
              "      <td>0.0</td>\n",
              "      <td>0.0</td>\n",
              "      <td>1.0</td>\n",
              "      <td>1.0</td>\n",
              "      <td>0.0</td>\n",
              "      <td>1.0</td>\n",
              "      <td>0.0</td>\n",
              "      <td>0.0</td>\n",
              "      <td>0.0</td>\n",
              "      <td>1.0</td>\n",
              "      <td>1.0</td>\n",
              "      <td>0.0</td>\n",
              "      <td>0.0</td>\n",
              "      <td>0.0</td>\n",
              "      <td>0.0</td>\n",
              "      <td>0.0</td>\n",
              "      <td>137.0</td>\n",
              "      <td>6.0</td>\n",
              "      <td>219.0</td>\n",
              "      <td>110.0</td>\n",
              "      <td>180.0</td>\n",
              "      <td>94.0</td>\n",
              "      <td>51.0</td>\n",
              "      <td>77.0</td>\n",
              "      <td>35.0</td>\n",
              "      <td>104.0</td>\n",
              "      <td>14.0</td>\n",
              "      <td>15.0</td>\n",
              "      <td>0.0</td>\n",
              "    </tr>\n",
              "    <tr>\n",
              "      <th>AAACGCTGTGTTTCTT-1_Y</th>\n",
              "      <td>0.0</td>\n",
              "      <td>0.0</td>\n",
              "      <td>0.0</td>\n",
              "      <td>0.0</td>\n",
              "      <td>0.0</td>\n",
              "      <td>0.0</td>\n",
              "      <td>0.0</td>\n",
              "      <td>0.0</td>\n",
              "      <td>0.0</td>\n",
              "      <td>0.0</td>\n",
              "      <td>1.0</td>\n",
              "      <td>0.0</td>\n",
              "      <td>0.0</td>\n",
              "      <td>0.0</td>\n",
              "      <td>0.0</td>\n",
              "      <td>0.0</td>\n",
              "      <td>0.0</td>\n",
              "      <td>0.0</td>\n",
              "      <td>0.0</td>\n",
              "      <td>0.0</td>\n",
              "      <td>0.0</td>\n",
              "      <td>0.0</td>\n",
              "      <td>0.0</td>\n",
              "      <td>0.0</td>\n",
              "      <td>0.0</td>\n",
              "      <td>0.0</td>\n",
              "      <td>0.0</td>\n",
              "      <td>1.0</td>\n",
              "      <td>0.0</td>\n",
              "      <td>0.0</td>\n",
              "      <td>0.0</td>\n",
              "      <td>0.0</td>\n",
              "      <td>0.0</td>\n",
              "      <td>0.0</td>\n",
              "      <td>0.0</td>\n",
              "      <td>0.0</td>\n",
              "      <td>0.0</td>\n",
              "      <td>0.0</td>\n",
              "      <td>0.0</td>\n",
              "      <td>0.0</td>\n",
              "      <td>...</td>\n",
              "      <td>0.0</td>\n",
              "      <td>0.0</td>\n",
              "      <td>0.0</td>\n",
              "      <td>0.0</td>\n",
              "      <td>0.0</td>\n",
              "      <td>0.0</td>\n",
              "      <td>0.0</td>\n",
              "      <td>0.0</td>\n",
              "      <td>0.0</td>\n",
              "      <td>0.0</td>\n",
              "      <td>0.0</td>\n",
              "      <td>0.0</td>\n",
              "      <td>0.0</td>\n",
              "      <td>0.0</td>\n",
              "      <td>0.0</td>\n",
              "      <td>0.0</td>\n",
              "      <td>0.0</td>\n",
              "      <td>0.0</td>\n",
              "      <td>0.0</td>\n",
              "      <td>0.0</td>\n",
              "      <td>0.0</td>\n",
              "      <td>0.0</td>\n",
              "      <td>0.0</td>\n",
              "      <td>0.0</td>\n",
              "      <td>0.0</td>\n",
              "      <td>0.0</td>\n",
              "      <td>0.0</td>\n",
              "      <td>231.0</td>\n",
              "      <td>3.0</td>\n",
              "      <td>215.0</td>\n",
              "      <td>151.0</td>\n",
              "      <td>238.0</td>\n",
              "      <td>128.0</td>\n",
              "      <td>58.0</td>\n",
              "      <td>67.0</td>\n",
              "      <td>29.0</td>\n",
              "      <td>126.0</td>\n",
              "      <td>14.0</td>\n",
              "      <td>21.0</td>\n",
              "      <td>1.0</td>\n",
              "    </tr>\n",
              "    <tr>\n",
              "      <th>AAAGAACCATCGGAAG-1_Y</th>\n",
              "      <td>0.0</td>\n",
              "      <td>1.0</td>\n",
              "      <td>0.0</td>\n",
              "      <td>0.0</td>\n",
              "      <td>0.0</td>\n",
              "      <td>0.0</td>\n",
              "      <td>0.0</td>\n",
              "      <td>0.0</td>\n",
              "      <td>0.0</td>\n",
              "      <td>0.0</td>\n",
              "      <td>0.0</td>\n",
              "      <td>0.0</td>\n",
              "      <td>0.0</td>\n",
              "      <td>0.0</td>\n",
              "      <td>0.0</td>\n",
              "      <td>0.0</td>\n",
              "      <td>0.0</td>\n",
              "      <td>0.0</td>\n",
              "      <td>0.0</td>\n",
              "      <td>0.0</td>\n",
              "      <td>0.0</td>\n",
              "      <td>0.0</td>\n",
              "      <td>1.0</td>\n",
              "      <td>0.0</td>\n",
              "      <td>0.0</td>\n",
              "      <td>0.0</td>\n",
              "      <td>0.0</td>\n",
              "      <td>0.0</td>\n",
              "      <td>0.0</td>\n",
              "      <td>0.0</td>\n",
              "      <td>0.0</td>\n",
              "      <td>0.0</td>\n",
              "      <td>0.0</td>\n",
              "      <td>0.0</td>\n",
              "      <td>0.0</td>\n",
              "      <td>0.0</td>\n",
              "      <td>0.0</td>\n",
              "      <td>0.0</td>\n",
              "      <td>0.0</td>\n",
              "      <td>0.0</td>\n",
              "      <td>...</td>\n",
              "      <td>0.0</td>\n",
              "      <td>0.0</td>\n",
              "      <td>0.0</td>\n",
              "      <td>0.0</td>\n",
              "      <td>0.0</td>\n",
              "      <td>0.0</td>\n",
              "      <td>0.0</td>\n",
              "      <td>0.0</td>\n",
              "      <td>0.0</td>\n",
              "      <td>0.0</td>\n",
              "      <td>0.0</td>\n",
              "      <td>0.0</td>\n",
              "      <td>0.0</td>\n",
              "      <td>0.0</td>\n",
              "      <td>0.0</td>\n",
              "      <td>0.0</td>\n",
              "      <td>0.0</td>\n",
              "      <td>0.0</td>\n",
              "      <td>0.0</td>\n",
              "      <td>0.0</td>\n",
              "      <td>0.0</td>\n",
              "      <td>0.0</td>\n",
              "      <td>0.0</td>\n",
              "      <td>0.0</td>\n",
              "      <td>0.0</td>\n",
              "      <td>0.0</td>\n",
              "      <td>0.0</td>\n",
              "      <td>116.0</td>\n",
              "      <td>7.0</td>\n",
              "      <td>106.0</td>\n",
              "      <td>70.0</td>\n",
              "      <td>107.0</td>\n",
              "      <td>62.0</td>\n",
              "      <td>17.0</td>\n",
              "      <td>28.0</td>\n",
              "      <td>14.0</td>\n",
              "      <td>55.0</td>\n",
              "      <td>9.0</td>\n",
              "      <td>9.0</td>\n",
              "      <td>0.0</td>\n",
              "    </tr>\n",
              "  </tbody>\n",
              "</table>\n",
              "<p>10 rows × 27998 columns</p>\n",
              "</div>"
            ],
            "text/plain": [
              "                      0610007P14Rik (ENSMUSG00000021252)  ...  mt-Nd6 (ENSMUSG00000064368)\n",
              "AAACCCACAGAGATGC-1_Y                                 1.0  ...                          0.0\n",
              "AAACCCACAGGAATAT-1_Y                                 0.0  ...                          0.0\n",
              "AAACGAAAGTAGAATC-1_Y                                 1.0  ...                          0.0\n",
              "AAACGAACAATTCGTG-1_Y                                 0.0  ...                          1.0\n",
              "AAACGAAGTATGATCC-1_Y                                 0.0  ...                          0.0\n",
              "AAACGAATCCGCTTAC-1_Y                                 0.0  ...                          1.0\n",
              "AAACGCTCACGTCTCT-1_Y                                 0.0  ...                          0.0\n",
              "AAACGCTCAGACCATT-1_Y                                 0.0  ...                          0.0\n",
              "AAACGCTGTGTTTCTT-1_Y                                 0.0  ...                          1.0\n",
              "AAAGAACCATCGGAAG-1_Y                                 0.0  ...                          0.0\n",
              "\n",
              "[10 rows x 27998 columns]"
            ]
          },
          "metadata": {
            "tags": []
          },
          "execution_count": 14
        }
      ]
    },
    {
      "cell_type": "markdown",
      "metadata": {
        "colab_type": "text",
        "id": "814_Tlfqsd-p"
      },
      "source": [
        "### 2.2 Creating the metadata matrix\n",
        "\n",
        "Often, there is additional information associated with our cells which we want to retain (e.g. batch, library size, cluster number, etc.) Here we create a metadata DataFrame to store this information."
      ]
    },
    {
      "cell_type": "markdown",
      "metadata": {
        "colab_type": "text",
        "id": "ZySaqqdes6JE"
      },
      "source": [
        "If you combined multiple datasets to create your data matrix, we can add the sample labels to the metadata."
      ]
    },
    {
      "cell_type": "markdown",
      "metadata": {
        "colab_type": "text",
        "id": "77XS07XVacXH"
      },
      "source": [
        "### 2.3. Library size filtering\n",
        "\n",
        "#### Why we filter cells by library size\n",
        "In scRNA-seq the library size of a cell is the number of unique mRNA molecules detected in that cell. These unique molecules are identified using a random barcode incorporated during the first round of reverse transcription. This barcode is called a <b>U</b>nique <b>M</b>olecule <b>I</b>dentifier, and often we refer to the number unique mRNAs in a cell as the number of UMIs. To read more about UMIs, [Smith *et al.* (2017)](https://www.ncbi.nlm.nih.gov/pmc/articles/PMC5340976/) write about how sequencing errors and PCR amplification errors lead to innaccurate quantification of UMIs/cell.\n",
        "\n",
        "Depending on the method of scRNA-seq, the amount of library size filtering done can vary. The 10X Genomics CellRanger tool, the DropSeq and InDrops pipelines, and the Umitools package each have their own method and cutoff for determining real cells from empty droplets. Additional methods exist for trying to detect the difference between droplets containing one cell and droplets containing two cells (\"doublets\"). You can take these methods at face value or set some manual cutoffs based on your data.\n",
        "\n",
        "#### Visualing the library size distribution using `scprep`\n",
        "\n",
        "There is a helper function for plotting library size from a gene expression matrix in scprep called [`scprep.plot.plot_library_size()`](https://scprep.readthedocs.io/en/stable/reference.html#scprep.plot.plot_library_size).\n",
        "\n",
        "Let's have a look at the library size for the first time point. In this sample we see that there is a small number of cells with very small library sizes and a long tail of cells that have very high library sizes."
      ]
    },
    {
      "cell_type": "code",
      "metadata": {
        "colab_type": "code",
        "id": "lg6jXB-IacXI",
        "scrolled": true,
        "colab": {
          "base_uri": "https://localhost:8080/",
          "height": 314
        },
        "outputId": "fa6b0018-7c19-48fe-d726-3bdb893c281e"
      },
      "source": [
        "scprep.plot.plot_library_size(data,\n",
        "                              log=False, title='Library Size Before Filtering')"
      ],
      "execution_count": 15,
      "outputs": [
        {
          "output_type": "execute_result",
          "data": {
            "text/plain": [
              "<matplotlib.axes._subplots.AxesSubplot at 0x7f9969d70860>"
            ]
          },
          "metadata": {
            "tags": []
          },
          "execution_count": 15
        },
        {
          "output_type": "display_data",
          "data": {
            "image/png": "[encoded data removed]",
            "text/plain": [
              "<Figure size 432x288 with 1 Axes>"
            ]
          },
          "metadata": {
            "tags": [],
            "needs_background": "light"
          }
        }
      ]
    },
    {
      "cell_type": "markdown",
      "metadata": {
        "colab_type": "text",
        "id": "oZoeKZYEi741"
      },
      "source": [
        "Choose cutoffs above and below the main bulk of cells, removing cells that are both significantly smaller than average and significantly larger than average. You can plot the result by running `scprep.plot.plot_library_size` with `cutoff=(low, high)` or `percentile=(low, high)` where low and high are values or percentiles that you choose."
      ]
    },
    {
      "cell_type": "code",
      "metadata": {
        "colab_type": "code",
        "id": "il3fSe26i742",
        "colab": {
          "base_uri": "https://localhost:8080/",
          "height": 314
        },
        "outputId": "47ba3988-8b1f-446c-bccc-9ae1bc55686b"
      },
      "source": [
        "# =============\n",
        "# Select appropriate percentiles (percentile=(low, high))\n",
        "# for filtering and plot the result\n",
        "#scprep.plot.plot_library_size(data, cutoff=(10000,22000))\n",
        "scprep.plot.plot_library_size(data, percentile=(50,95))\n",
        " # e.g., scprep.plot.plot_library_size(data, percentile=(10, 95))\n",
        "# ============="
      ],
      "execution_count": 16,
      "outputs": [
        {
          "output_type": "execute_result",
          "data": {
            "text/plain": [
              "<matplotlib.axes._subplots.AxesSubplot at 0x7f9969dfd588>"
            ]
          },
          "metadata": {
            "tags": []
          },
          "execution_count": 16
        },
        {
          "output_type": "display_data",
          "data": {
            "image/png": "[encoded data removed]",
            "text/plain": [
              "<Figure size 432x288 with 1 Axes>"
            ]
          },
          "metadata": {
            "tags": [],
            "needs_background": "light"
          }
        }
      ]
    },
    {
      "cell_type": "markdown",
      "metadata": {
        "colab_type": "text",
        "id": "YG4_xhXt7RQb"
      },
      "source": [
        "#### Selecting a cutoff\n",
        "\n",
        "Several papers describe strategies for picking a maximum and minimum threshold that can be found with a quick google search for \"library size threshold single cell RNA seq\".\n",
        "\n",
        "Most of these pick an arbitrary measure such as a certain number of deviations below or above the mean or median library size. We find that spending too much time worrying about the exact threshold is inefficient, as results tend to be robust to filtering beyond some minimum threshold.\n",
        "\n",
        "For the above dataset, I would remove all cells with more than 12,000 UMI / cell in fear they might represent doublets of cells. I will generally also remove all cells with fewer than 1000 reads per cell.\n",
        "\n",
        "### Exercise 1 - Filtering cells by library size\n",
        "\n",
        "You can do this using [`scprep.filter.filter_library_size()`](https://scprep.readthedocs.io/en/stable/reference.html#scprep.filter.filter_library_size)."
      ]
    },
    {
      "cell_type": "code",
      "metadata": {
        "colab_type": "code",
        "id": "o_ucsSK9acXO",
        "colab": {}
      },
      "source": [
        "# ==================\n",
        "# fill in your chosen `percentile` values\n",
        "percentiles = (50,95)# e.g. (50, 95)\n",
        "data, sample_labels = scprep.filter.filter_library_size(data, sample_labels, percentile=percentiles)\n",
        "# =================="
      ],
      "execution_count": 0,
      "outputs": []
    },
    {
      "cell_type": "code",
      "metadata": {
        "colab_type": "code",
        "id": "w9GKIljH4S05",
        "colab": {
          "base_uri": "https://localhost:8080/",
          "height": 310
        },
        "outputId": "006706eb-0331-4ca0-85b4-43b443676883"
      },
      "source": [
        "scprep.plot.plot_library_size(data, log=False, title='Library size after filtering')"
      ],
      "execution_count": 86,
      "outputs": [
        {
          "output_type": "execute_result",
          "data": {
            "text/plain": [
              "<matplotlib.axes._subplots.AxesSubplot at 0x7f23f27bb080>"
            ]
          },
          "metadata": {
            "tags": []
          },
          "execution_count": 86
        },
        {
          "output_type": "display_data",
          "data": {
            "image/png": "[encoded data removed]",
            "text/plain": [
              "<Figure size 432x288 with 1 Axes>"
            ]
          },
          "metadata": {
            "tags": []
          }
        }
      ]
    },
    {
      "cell_type": "code",
      "metadata": {
        "id": "I4Le1SEuLoSK",
        "colab_type": "code",
        "colab": {
          "base_uri": "https://localhost:8080/",
          "height": 355
        },
        "outputId": "ec840bb9-db5a-418b-bd29-9baecde09b19"
      },
      "source": [
        "data.head()"
      ],
      "execution_count": 87,
      "outputs": [
        {
          "output_type": "execute_result",
          "data": {
            "text/html": [
              "<div>\n",
              "<style scoped>\n",
              "    .dataframe tbody tr th:only-of-type {\n",
              "        vertical-align: middle;\n",
              "    }\n",
              "\n",
              "    .dataframe tbody tr th {\n",
              "        vertical-align: top;\n",
              "    }\n",
              "\n",
              "    .dataframe thead th {\n",
              "        text-align: right;\n",
              "    }\n",
              "</style>\n",
              "<table border=\"1\" class=\"dataframe\">\n",
              "  <thead>\n",
              "    <tr style=\"text-align: right;\">\n",
              "      <th></th>\n",
              "      <th>0610007P14Rik (ENSMUSG00000021252)</th>\n",
              "      <th>0610009B22Rik (ENSMUSG00000007777)</th>\n",
              "      <th>0610009L18Rik (ENSMUSG00000043644)</th>\n",
              "      <th>0610009O20Rik (ENSMUSG00000024442)</th>\n",
              "      <th>0610010F05Rik (ENSMUSG00000042208)</th>\n",
              "      <th>0610010K14Rik (ENSMUSG00000020831)</th>\n",
              "      <th>0610011F06Rik (ENSMUSG00000025731)</th>\n",
              "      <th>0610012D04Rik (ENSMUSG00000089755)</th>\n",
              "      <th>0610012G03Rik (ENSMUSG00000107002)</th>\n",
              "      <th>0610025J13Rik (ENSMUSG00000046683)</th>\n",
              "      <th>0610030E20Rik (ENSMUSG00000058706)</th>\n",
              "      <th>0610031O16Rik (ENSMUSG00000099146)</th>\n",
              "      <th>0610033M10Rik (ENSMUSG00000108236)</th>\n",
              "      <th>0610037L13Rik (ENSMUSG00000028608)</th>\n",
              "      <th>0610038B21Rik (ENSMUSG00000097882)</th>\n",
              "      <th>0610039K10Rik (ENSMUSG00000058812)</th>\n",
              "      <th>0610040B10Rik (ENSMUSG00000089889)</th>\n",
              "      <th>0610040F04Rik (ENSMUSG00000087341)</th>\n",
              "      <th>0610040J01Rik (ENSMUSG00000060512)</th>\n",
              "      <th>0610043K17Rik (ENSMUSG00000087361)</th>\n",
              "      <th>1010001B22Rik (ENSMUSG00000097863)</th>\n",
              "      <th>1010001N08Rik (ENSMUSG00000097222)</th>\n",
              "      <th>1110001J03Rik (ENSMUSG00000019689)</th>\n",
              "      <th>1110002E22Rik (ENSMUSG00000090066)</th>\n",
              "      <th>1110002J07Rik (ENSMUSG00000097134)</th>\n",
              "      <th>1110002L01Rik (ENSMUSG00000071456)</th>\n",
              "      <th>1110002O04Rik (ENSMUSG00000102531)</th>\n",
              "      <th>1110004E09Rik (ENSMUSG00000022972)</th>\n",
              "      <th>1110004F10Rik (ENSMUSG00000030663)</th>\n",
              "      <th>1110006O24Rik (ENSMUSG00000107121)</th>\n",
              "      <th>1110008E08Rik (ENSMUSG00000046119)</th>\n",
              "      <th>1110008F13Rik (ENSMUSG00000027637)</th>\n",
              "      <th>1110008L16Rik (ENSMUSG00000021023)</th>\n",
              "      <th>1110008P14Rik (ENSMUSG00000039195)</th>\n",
              "      <th>1110012L19Rik (ENSMUSG00000045237)</th>\n",
              "      <th>1110015O18Rik (ENSMUSG00000098659)</th>\n",
              "      <th>1110017D15Rik (ENSMUSG00000028441)</th>\n",
              "      <th>1110019D14Rik (ENSMUSG00000097616)</th>\n",
              "      <th>1110020A21Rik (ENSMUSG00000097047)</th>\n",
              "      <th>1110025L11Rik (ENSMUSG00000068073)</th>\n",
              "      <th>...</th>\n",
              "      <th>Zscan4b (ENSMUSG00000095339)</th>\n",
              "      <th>Zscan4c (ENSMUSG00000054272)</th>\n",
              "      <th>Zscan4d (ENSMUSG00000090714)</th>\n",
              "      <th>Zscan4f (ENSMUSG00000070828)</th>\n",
              "      <th>Zscan5b (ENSMUSG00000058028)</th>\n",
              "      <th>Zswim1 (ENSMUSG00000017764)</th>\n",
              "      <th>Zswim2 (ENSMUSG00000034552)</th>\n",
              "      <th>Zswim3 (ENSMUSG00000045822)</th>\n",
              "      <th>Zswim4 (ENSMUSG00000035671)</th>\n",
              "      <th>Zswim5 (ENSMUSG00000033948)</th>\n",
              "      <th>Zswim6 (ENSMUSG00000032846)</th>\n",
              "      <th>Zswim7 (ENSMUSG00000014243)</th>\n",
              "      <th>Zswim8 (ENSMUSG00000021819)</th>\n",
              "      <th>Zufsp (ENSMUSG00000039531)</th>\n",
              "      <th>Zw10 (ENSMUSG00000032264)</th>\n",
              "      <th>Zwilch (ENSMUSG00000032400)</th>\n",
              "      <th>Zwint (ENSMUSG00000019923)</th>\n",
              "      <th>Zxdb (ENSMUSG00000073062)</th>\n",
              "      <th>Zxdc (ENSMUSG00000034430)</th>\n",
              "      <th>Zyg11a (ENSMUSG00000034645)</th>\n",
              "      <th>Zyg11b (ENSMUSG00000034636)</th>\n",
              "      <th>Zyx (ENSMUSG00000029860)</th>\n",
              "      <th>Zzef1 (ENSMUSG00000055670)</th>\n",
              "      <th>Zzz3 (ENSMUSG00000039068)</th>\n",
              "      <th>a (ENSMUSG00000027596)</th>\n",
              "      <th>l7Rn6 (ENSMUSG00000062797)</th>\n",
              "      <th>l7Rn6 (ENSMUSG00000108996)</th>\n",
              "      <th>mt-Atp6 (ENSMUSG00000064357)</th>\n",
              "      <th>mt-Atp8 (ENSMUSG00000064356)</th>\n",
              "      <th>mt-Co1 (ENSMUSG00000064351)</th>\n",
              "      <th>mt-Co2 (ENSMUSG00000064354)</th>\n",
              "      <th>mt-Co3 (ENSMUSG00000064358)</th>\n",
              "      <th>mt-Cytb (ENSMUSG00000064370)</th>\n",
              "      <th>mt-Nd1 (ENSMUSG00000064341)</th>\n",
              "      <th>mt-Nd2 (ENSMUSG00000064345)</th>\n",
              "      <th>mt-Nd3 (ENSMUSG00000064360)</th>\n",
              "      <th>mt-Nd4 (ENSMUSG00000064363)</th>\n",
              "      <th>mt-Nd4l (ENSMUSG00000065947)</th>\n",
              "      <th>mt-Nd5 (ENSMUSG00000064367)</th>\n",
              "      <th>mt-Nd6 (ENSMUSG00000064368)</th>\n",
              "    </tr>\n",
              "  </thead>\n",
              "  <tbody>\n",
              "    <tr>\n",
              "      <th>AAACCCACAGAGATGC-1_Y</th>\n",
              "      <td>1.0</td>\n",
              "      <td>0.0</td>\n",
              "      <td>0.0</td>\n",
              "      <td>0.0</td>\n",
              "      <td>0.0</td>\n",
              "      <td>1.0</td>\n",
              "      <td>1.0</td>\n",
              "      <td>0.0</td>\n",
              "      <td>0.0</td>\n",
              "      <td>0.0</td>\n",
              "      <td>0.0</td>\n",
              "      <td>0.0</td>\n",
              "      <td>0.0</td>\n",
              "      <td>1.0</td>\n",
              "      <td>0.0</td>\n",
              "      <td>0.0</td>\n",
              "      <td>0.0</td>\n",
              "      <td>0.0</td>\n",
              "      <td>0.0</td>\n",
              "      <td>0.0</td>\n",
              "      <td>0.0</td>\n",
              "      <td>0.0</td>\n",
              "      <td>1.0</td>\n",
              "      <td>0.0</td>\n",
              "      <td>0.0</td>\n",
              "      <td>0.0</td>\n",
              "      <td>0.0</td>\n",
              "      <td>0.0</td>\n",
              "      <td>0.0</td>\n",
              "      <td>0.0</td>\n",
              "      <td>0.0</td>\n",
              "      <td>3.0</td>\n",
              "      <td>0.0</td>\n",
              "      <td>0.0</td>\n",
              "      <td>2.0</td>\n",
              "      <td>0.0</td>\n",
              "      <td>0.0</td>\n",
              "      <td>0.0</td>\n",
              "      <td>0.0</td>\n",
              "      <td>0.0</td>\n",
              "      <td>...</td>\n",
              "      <td>0.0</td>\n",
              "      <td>0.0</td>\n",
              "      <td>0.0</td>\n",
              "      <td>0.0</td>\n",
              "      <td>0.0</td>\n",
              "      <td>0.0</td>\n",
              "      <td>0.0</td>\n",
              "      <td>0.0</td>\n",
              "      <td>0.0</td>\n",
              "      <td>0.0</td>\n",
              "      <td>0.0</td>\n",
              "      <td>0.0</td>\n",
              "      <td>0.0</td>\n",
              "      <td>0.0</td>\n",
              "      <td>1.0</td>\n",
              "      <td>0.0</td>\n",
              "      <td>1.0</td>\n",
              "      <td>0.0</td>\n",
              "      <td>0.0</td>\n",
              "      <td>0.0</td>\n",
              "      <td>0.0</td>\n",
              "      <td>0.0</td>\n",
              "      <td>0.0</td>\n",
              "      <td>1.0</td>\n",
              "      <td>0.0</td>\n",
              "      <td>0.0</td>\n",
              "      <td>0.0</td>\n",
              "      <td>346.0</td>\n",
              "      <td>6.0</td>\n",
              "      <td>353.0</td>\n",
              "      <td>243.0</td>\n",
              "      <td>336.0</td>\n",
              "      <td>176.0</td>\n",
              "      <td>84.0</td>\n",
              "      <td>117.0</td>\n",
              "      <td>74.0</td>\n",
              "      <td>177.0</td>\n",
              "      <td>16.0</td>\n",
              "      <td>22.0</td>\n",
              "      <td>0.0</td>\n",
              "    </tr>\n",
              "    <tr>\n",
              "      <th>AAACCCACAGGAATAT-1_Y</th>\n",
              "      <td>0.0</td>\n",
              "      <td>0.0</td>\n",
              "      <td>1.0</td>\n",
              "      <td>0.0</td>\n",
              "      <td>0.0</td>\n",
              "      <td>0.0</td>\n",
              "      <td>0.0</td>\n",
              "      <td>0.0</td>\n",
              "      <td>1.0</td>\n",
              "      <td>0.0</td>\n",
              "      <td>0.0</td>\n",
              "      <td>0.0</td>\n",
              "      <td>0.0</td>\n",
              "      <td>0.0</td>\n",
              "      <td>0.0</td>\n",
              "      <td>0.0</td>\n",
              "      <td>0.0</td>\n",
              "      <td>0.0</td>\n",
              "      <td>1.0</td>\n",
              "      <td>0.0</td>\n",
              "      <td>0.0</td>\n",
              "      <td>0.0</td>\n",
              "      <td>1.0</td>\n",
              "      <td>0.0</td>\n",
              "      <td>0.0</td>\n",
              "      <td>3.0</td>\n",
              "      <td>0.0</td>\n",
              "      <td>1.0</td>\n",
              "      <td>1.0</td>\n",
              "      <td>0.0</td>\n",
              "      <td>0.0</td>\n",
              "      <td>3.0</td>\n",
              "      <td>0.0</td>\n",
              "      <td>0.0</td>\n",
              "      <td>0.0</td>\n",
              "      <td>0.0</td>\n",
              "      <td>0.0</td>\n",
              "      <td>0.0</td>\n",
              "      <td>0.0</td>\n",
              "      <td>0.0</td>\n",
              "      <td>...</td>\n",
              "      <td>0.0</td>\n",
              "      <td>0.0</td>\n",
              "      <td>0.0</td>\n",
              "      <td>0.0</td>\n",
              "      <td>0.0</td>\n",
              "      <td>0.0</td>\n",
              "      <td>0.0</td>\n",
              "      <td>0.0</td>\n",
              "      <td>0.0</td>\n",
              "      <td>0.0</td>\n",
              "      <td>0.0</td>\n",
              "      <td>0.0</td>\n",
              "      <td>1.0</td>\n",
              "      <td>0.0</td>\n",
              "      <td>0.0</td>\n",
              "      <td>0.0</td>\n",
              "      <td>2.0</td>\n",
              "      <td>1.0</td>\n",
              "      <td>0.0</td>\n",
              "      <td>0.0</td>\n",
              "      <td>1.0</td>\n",
              "      <td>0.0</td>\n",
              "      <td>0.0</td>\n",
              "      <td>1.0</td>\n",
              "      <td>0.0</td>\n",
              "      <td>0.0</td>\n",
              "      <td>0.0</td>\n",
              "      <td>138.0</td>\n",
              "      <td>3.0</td>\n",
              "      <td>213.0</td>\n",
              "      <td>114.0</td>\n",
              "      <td>143.0</td>\n",
              "      <td>81.0</td>\n",
              "      <td>60.0</td>\n",
              "      <td>61.0</td>\n",
              "      <td>37.0</td>\n",
              "      <td>78.0</td>\n",
              "      <td>7.0</td>\n",
              "      <td>11.0</td>\n",
              "      <td>0.0</td>\n",
              "    </tr>\n",
              "    <tr>\n",
              "      <th>AAACGAAAGTAGAATC-1_Y</th>\n",
              "      <td>1.0</td>\n",
              "      <td>2.0</td>\n",
              "      <td>0.0</td>\n",
              "      <td>0.0</td>\n",
              "      <td>0.0</td>\n",
              "      <td>0.0</td>\n",
              "      <td>2.0</td>\n",
              "      <td>0.0</td>\n",
              "      <td>3.0</td>\n",
              "      <td>0.0</td>\n",
              "      <td>0.0</td>\n",
              "      <td>0.0</td>\n",
              "      <td>0.0</td>\n",
              "      <td>0.0</td>\n",
              "      <td>0.0</td>\n",
              "      <td>0.0</td>\n",
              "      <td>0.0</td>\n",
              "      <td>0.0</td>\n",
              "      <td>0.0</td>\n",
              "      <td>0.0</td>\n",
              "      <td>0.0</td>\n",
              "      <td>0.0</td>\n",
              "      <td>0.0</td>\n",
              "      <td>0.0</td>\n",
              "      <td>0.0</td>\n",
              "      <td>0.0</td>\n",
              "      <td>0.0</td>\n",
              "      <td>6.0</td>\n",
              "      <td>2.0</td>\n",
              "      <td>0.0</td>\n",
              "      <td>0.0</td>\n",
              "      <td>1.0</td>\n",
              "      <td>0.0</td>\n",
              "      <td>0.0</td>\n",
              "      <td>0.0</td>\n",
              "      <td>0.0</td>\n",
              "      <td>11.0</td>\n",
              "      <td>0.0</td>\n",
              "      <td>0.0</td>\n",
              "      <td>0.0</td>\n",
              "      <td>...</td>\n",
              "      <td>0.0</td>\n",
              "      <td>0.0</td>\n",
              "      <td>0.0</td>\n",
              "      <td>0.0</td>\n",
              "      <td>0.0</td>\n",
              "      <td>0.0</td>\n",
              "      <td>0.0</td>\n",
              "      <td>0.0</td>\n",
              "      <td>0.0</td>\n",
              "      <td>0.0</td>\n",
              "      <td>0.0</td>\n",
              "      <td>0.0</td>\n",
              "      <td>0.0</td>\n",
              "      <td>0.0</td>\n",
              "      <td>0.0</td>\n",
              "      <td>0.0</td>\n",
              "      <td>0.0</td>\n",
              "      <td>0.0</td>\n",
              "      <td>1.0</td>\n",
              "      <td>0.0</td>\n",
              "      <td>1.0</td>\n",
              "      <td>0.0</td>\n",
              "      <td>1.0</td>\n",
              "      <td>1.0</td>\n",
              "      <td>0.0</td>\n",
              "      <td>1.0</td>\n",
              "      <td>0.0</td>\n",
              "      <td>426.0</td>\n",
              "      <td>10.0</td>\n",
              "      <td>316.0</td>\n",
              "      <td>325.0</td>\n",
              "      <td>361.0</td>\n",
              "      <td>232.0</td>\n",
              "      <td>122.0</td>\n",
              "      <td>158.0</td>\n",
              "      <td>65.0</td>\n",
              "      <td>215.0</td>\n",
              "      <td>16.0</td>\n",
              "      <td>28.0</td>\n",
              "      <td>0.0</td>\n",
              "    </tr>\n",
              "    <tr>\n",
              "      <th>AAACGAAGTATGATCC-1_Y</th>\n",
              "      <td>0.0</td>\n",
              "      <td>1.0</td>\n",
              "      <td>0.0</td>\n",
              "      <td>0.0</td>\n",
              "      <td>0.0</td>\n",
              "      <td>0.0</td>\n",
              "      <td>1.0</td>\n",
              "      <td>0.0</td>\n",
              "      <td>0.0</td>\n",
              "      <td>0.0</td>\n",
              "      <td>0.0</td>\n",
              "      <td>0.0</td>\n",
              "      <td>0.0</td>\n",
              "      <td>0.0</td>\n",
              "      <td>0.0</td>\n",
              "      <td>0.0</td>\n",
              "      <td>0.0</td>\n",
              "      <td>0.0</td>\n",
              "      <td>0.0</td>\n",
              "      <td>0.0</td>\n",
              "      <td>0.0</td>\n",
              "      <td>0.0</td>\n",
              "      <td>0.0</td>\n",
              "      <td>0.0</td>\n",
              "      <td>0.0</td>\n",
              "      <td>1.0</td>\n",
              "      <td>0.0</td>\n",
              "      <td>0.0</td>\n",
              "      <td>0.0</td>\n",
              "      <td>0.0</td>\n",
              "      <td>0.0</td>\n",
              "      <td>1.0</td>\n",
              "      <td>0.0</td>\n",
              "      <td>2.0</td>\n",
              "      <td>0.0</td>\n",
              "      <td>0.0</td>\n",
              "      <td>0.0</td>\n",
              "      <td>0.0</td>\n",
              "      <td>0.0</td>\n",
              "      <td>0.0</td>\n",
              "      <td>...</td>\n",
              "      <td>0.0</td>\n",
              "      <td>0.0</td>\n",
              "      <td>0.0</td>\n",
              "      <td>0.0</td>\n",
              "      <td>0.0</td>\n",
              "      <td>0.0</td>\n",
              "      <td>0.0</td>\n",
              "      <td>0.0</td>\n",
              "      <td>0.0</td>\n",
              "      <td>0.0</td>\n",
              "      <td>1.0</td>\n",
              "      <td>0.0</td>\n",
              "      <td>0.0</td>\n",
              "      <td>0.0</td>\n",
              "      <td>0.0</td>\n",
              "      <td>0.0</td>\n",
              "      <td>0.0</td>\n",
              "      <td>0.0</td>\n",
              "      <td>0.0</td>\n",
              "      <td>0.0</td>\n",
              "      <td>0.0</td>\n",
              "      <td>0.0</td>\n",
              "      <td>2.0</td>\n",
              "      <td>1.0</td>\n",
              "      <td>0.0</td>\n",
              "      <td>0.0</td>\n",
              "      <td>0.0</td>\n",
              "      <td>106.0</td>\n",
              "      <td>3.0</td>\n",
              "      <td>108.0</td>\n",
              "      <td>80.0</td>\n",
              "      <td>97.0</td>\n",
              "      <td>73.0</td>\n",
              "      <td>32.0</td>\n",
              "      <td>51.0</td>\n",
              "      <td>33.0</td>\n",
              "      <td>57.0</td>\n",
              "      <td>5.0</td>\n",
              "      <td>13.0</td>\n",
              "      <td>0.0</td>\n",
              "    </tr>\n",
              "    <tr>\n",
              "      <th>AAACGCTCACGTCTCT-1_Y</th>\n",
              "      <td>0.0</td>\n",
              "      <td>0.0</td>\n",
              "      <td>0.0</td>\n",
              "      <td>0.0</td>\n",
              "      <td>0.0</td>\n",
              "      <td>1.0</td>\n",
              "      <td>2.0</td>\n",
              "      <td>0.0</td>\n",
              "      <td>1.0</td>\n",
              "      <td>0.0</td>\n",
              "      <td>2.0</td>\n",
              "      <td>0.0</td>\n",
              "      <td>0.0</td>\n",
              "      <td>0.0</td>\n",
              "      <td>0.0</td>\n",
              "      <td>0.0</td>\n",
              "      <td>0.0</td>\n",
              "      <td>0.0</td>\n",
              "      <td>0.0</td>\n",
              "      <td>0.0</td>\n",
              "      <td>0.0</td>\n",
              "      <td>0.0</td>\n",
              "      <td>0.0</td>\n",
              "      <td>0.0</td>\n",
              "      <td>0.0</td>\n",
              "      <td>0.0</td>\n",
              "      <td>0.0</td>\n",
              "      <td>0.0</td>\n",
              "      <td>1.0</td>\n",
              "      <td>0.0</td>\n",
              "      <td>0.0</td>\n",
              "      <td>3.0</td>\n",
              "      <td>0.0</td>\n",
              "      <td>1.0</td>\n",
              "      <td>0.0</td>\n",
              "      <td>0.0</td>\n",
              "      <td>0.0</td>\n",
              "      <td>0.0</td>\n",
              "      <td>0.0</td>\n",
              "      <td>0.0</td>\n",
              "      <td>...</td>\n",
              "      <td>0.0</td>\n",
              "      <td>0.0</td>\n",
              "      <td>0.0</td>\n",
              "      <td>0.0</td>\n",
              "      <td>0.0</td>\n",
              "      <td>0.0</td>\n",
              "      <td>0.0</td>\n",
              "      <td>0.0</td>\n",
              "      <td>0.0</td>\n",
              "      <td>0.0</td>\n",
              "      <td>1.0</td>\n",
              "      <td>0.0</td>\n",
              "      <td>0.0</td>\n",
              "      <td>0.0</td>\n",
              "      <td>1.0</td>\n",
              "      <td>0.0</td>\n",
              "      <td>1.0</td>\n",
              "      <td>0.0</td>\n",
              "      <td>0.0</td>\n",
              "      <td>0.0</td>\n",
              "      <td>0.0</td>\n",
              "      <td>0.0</td>\n",
              "      <td>0.0</td>\n",
              "      <td>0.0</td>\n",
              "      <td>0.0</td>\n",
              "      <td>0.0</td>\n",
              "      <td>0.0</td>\n",
              "      <td>165.0</td>\n",
              "      <td>3.0</td>\n",
              "      <td>140.0</td>\n",
              "      <td>107.0</td>\n",
              "      <td>147.0</td>\n",
              "      <td>84.0</td>\n",
              "      <td>38.0</td>\n",
              "      <td>54.0</td>\n",
              "      <td>28.0</td>\n",
              "      <td>76.0</td>\n",
              "      <td>7.0</td>\n",
              "      <td>9.0</td>\n",
              "      <td>0.0</td>\n",
              "    </tr>\n",
              "  </tbody>\n",
              "</table>\n",
              "<p>5 rows × 27998 columns</p>\n",
              "</div>"
            ],
            "text/plain": [
              "                      0610007P14Rik (ENSMUSG00000021252)  ...  mt-Nd6 (ENSMUSG00000064368)\n",
              "AAACCCACAGAGATGC-1_Y                                 1.0  ...                          0.0\n",
              "AAACCCACAGGAATAT-1_Y                                 0.0  ...                          0.0\n",
              "AAACGAAAGTAGAATC-1_Y                                 1.0  ...                          0.0\n",
              "AAACGAAGTATGATCC-1_Y                                 0.0  ...                          0.0\n",
              "AAACGCTCACGTCTCT-1_Y                                 0.0  ...                          0.0\n",
              "\n",
              "[5 rows x 27998 columns]"
            ]
          },
          "metadata": {
            "tags": []
          },
          "execution_count": 87
        }
      ]
    },
    {
      "cell_type": "code",
      "metadata": {
        "id": "D8tfPOPlN4T3",
        "colab_type": "code",
        "colab": {
          "base_uri": "https://localhost:8080/",
          "height": 221
        },
        "outputId": "422fae9f-1de2-4184-fef3-eb6c78514239"
      },
      "source": [
        "scprep.measure.library_size(data)"
      ],
      "execution_count": 19,
      "outputs": [
        {
          "output_type": "execute_result",
          "data": {
            "text/plain": [
              "AAACCCACAGGAATAT-1_Y      14858.0\n",
              "AAACGAAAGTAGAATC-1_Y      16520.0\n",
              "AAACGAAGTATGATCC-1_Y      13694.0\n",
              "AAACGCTCACGTCTCT-1_Y      14821.0\n",
              "AAACGCTCAGACCATT-1_Y      15369.0\n",
              "                           ...   \n",
              "TTTGGAGCACGGTGAA-1_KPY    12697.0\n",
              "TTTGGAGCAGCAGAAC-1_KPY    12523.0\n",
              "TTTGGTTAGTCGAAGC-1_KPY    14307.0\n",
              "TTTGTTGCACAAAGCG-1_KPY    11119.0\n",
              "TTTGTTGTCTCGGTAA-1_KPY    12606.0\n",
              "Name: library_size, Length: 2862, dtype: float64"
            ]
          },
          "metadata": {
            "tags": []
          },
          "execution_count": 19
        }
      ]
    },
    {
      "cell_type": "code",
      "metadata": {
        "id": "-MhULk5NTCz7",
        "colab_type": "code",
        "colab": {
          "base_uri": "https://localhost:8080/",
          "height": 34
        },
        "outputId": "1fc71f09-1bc6-4817-f3dc-2c4bf03e8249"
      },
      "source": [
        "type(data)"
      ],
      "execution_count": 20,
      "outputs": [
        {
          "output_type": "execute_result",
          "data": {
            "text/plain": [
              "pandas.core.frame.DataFrame"
            ]
          },
          "metadata": {
            "tags": []
          },
          "execution_count": 20
        }
      ]
    },
    {
      "cell_type": "code",
      "metadata": {
        "id": "krg9-M4OTuNV",
        "colab_type": "code",
        "colab": {
          "base_uri": "https://localhost:8080/",
          "height": 238
        },
        "outputId": "554a5e10-ad82-438d-9734-6b2c2c3975fb"
      },
      "source": [
        "import scprep\n",
        "print(scprep.__file__)\n",
        "import numpy as np\n",
        "import numbers\n",
        "import scipy.signal\n",
        "from scipy import sparse\n",
        "from scprep import utils, select\n",
        "print(utils.__file__)\n",
        "library_size = utils.matrix_sum(data, axis=1)\n",
        "library_size\n",
        "data.index"
      ],
      "execution_count": 21,
      "outputs": [
        {
          "output_type": "stream",
          "text": [
            "/usr/local/lib/python3.6/dist-packages/scprep/__init__.py\n",
            "/usr/local/lib/python3.6/dist-packages/scprep/utils.py\n"
          ],
          "name": "stdout"
        },
        {
          "output_type": "execute_result",
          "data": {
            "text/plain": [
              "Index(['AAACCCACAGGAATAT-1_Y', 'AAACGAAAGTAGAATC-1_Y', 'AAACGAAGTATGATCC-1_Y',\n",
              "       'AAACGCTCACGTCTCT-1_Y', 'AAACGCTCAGACCATT-1_Y', 'AAAGAACGTTGCGAAG-1_Y',\n",
              "       'AAAGAACTCATGTCTT-1_Y', 'AAAGAACTCGGCTTCT-1_Y', 'AAAGAACTCTACTGCC-1_Y',\n",
              "       'AAAGAACTCTGCCCTA-1_Y',\n",
              "       ...\n",
              "       'TTTCAGTTCGGCTGTG-1_KPY', 'TTTCCTCTCCGAGCTG-1_KPY',\n",
              "       'TTTCGATAGGATACAT-1_KPY', 'TTTGATCTCACCTTGC-1_KPY',\n",
              "       'TTTGATCTCATTCACT-1_KPY', 'TTTGGAGCACGGTGAA-1_KPY',\n",
              "       'TTTGGAGCAGCAGAAC-1_KPY', 'TTTGGTTAGTCGAAGC-1_KPY',\n",
              "       'TTTGTTGCACAAAGCG-1_KPY', 'TTTGTTGTCTCGGTAA-1_KPY'],\n",
              "      dtype='object', length=2862)"
            ]
          },
          "metadata": {
            "tags": []
          },
          "execution_count": 21
        }
      ]
    },
    {
      "cell_type": "code",
      "metadata": {
        "id": "fS1E1jBHXpdz",
        "colab_type": "code",
        "colab": {}
      },
      "source": [
        ""
      ],
      "execution_count": 0,
      "outputs": []
    },
    {
      "cell_type": "code",
      "metadata": {
        "id": "15sYoSt8ODSw",
        "colab_type": "code",
        "colab": {}
      },
      "source": [
        "df1=scprep.select.get_gene_set(data, starts_with=\"mt-\")\n",
        "df2=scprep.measure.library_size(data)"
      ],
      "execution_count": 0,
      "outputs": []
    },
    {
      "cell_type": "markdown",
      "metadata": {
        "id": "1ikc26RJLUL-",
        "colab_type": "text"
      },
      "source": [
        "scprep.plot.scatter2d(data,starts_with=\"mt-\", title=\"Mitochondrial reads vs libraray size\")"
      ]
    },
    {
      "cell_type": "code",
      "metadata": {
        "id": "MwzXebJLYmVn",
        "colab_type": "code",
        "colab": {}
      },
      "source": [
        ""
      ],
      "execution_count": 0,
      "outputs": []
    },
    {
      "cell_type": "markdown",
      "metadata": {
        "colab_type": "text",
        "id": "SpmUlonui75U"
      },
      "source": [
        "The library size distribution is now much more constrained, which will reduce the effects of differences in library size (which can affect your results, even after normalization)."
      ]
    },
    {
      "cell_type": "markdown",
      "metadata": {
        "colab_type": "text",
        "id": "A5xc_Dxmi75t"
      },
      "source": [
        "### 2.4 Subsampling data\n",
        "\n",
        "Finally, because the Google Colab client is not the most powerful client, we'll subsample this dataset to allow you to run the preprocessing steps a little more quickly."
      ]
    },
    {
      "cell_type": "code",
      "metadata": {
        "colab_type": "code",
        "id": "sbJ6jxRti75u",
        "colab": {}
      },
      "source": [
        "data, metadata = scprep.select.subsample(data, metadata, n=10000)"
      ],
      "execution_count": 0,
      "outputs": []
    },
    {
      "cell_type": "code",
      "metadata": {
        "colab_type": "code",
        "id": "nB849v2Hi750",
        "colab": {
          "base_uri": "https://localhost:8080/",
          "height": 34
        },
        "outputId": "71b088bb-bae0-4205-a41a-a119a433e2f0"
      },
      "source": [
        "data.shape, metadata.shape"
      ],
      "execution_count": 88,
      "outputs": [
        {
          "output_type": "execute_result",
          "data": {
            "text/plain": [
              "((3819, 27998), (3819,))"
            ]
          },
          "metadata": {
            "tags": []
          },
          "execution_count": 88
        }
      ]
    },
    {
      "cell_type": "markdown",
      "metadata": {
        "colab_type": "text",
        "id": "7-4emCXei756"
      },
      "source": [
        "#### Batch effects\n",
        "\n",
        "It's worth noting here that if you have combined different experiments into one data matrix here, you are potentially exposed yourself to a \"batch effect\". A batch effect is a difference (technical or biological) between two batches of an experiment. This can be caused by systematic error (e.g. a difference in temperature during library preparation) or a genuine biological effect of interest (e.g. in this case each batch is sampled at a different time of development.)\n",
        "\n",
        "Correcting for technical / systematic batch effects is a topic will we cover in detail later in the workshop; however it's worth noting that any time we combine multiple experiments, we should check to see if they are substantially different and compare this to our expectations. If the effect is large and unexpected, we can either a) attempt to correct it / account for it using computational methods, or b) modify our analysis to avoid combining the datasets."
      ]
    },
    {
      "cell_type": "markdown",
      "metadata": {
        "colab_type": "text",
        "collapsed": true,
        "id": "pGrC9YiEacXc"
      },
      "source": [
        "<a id='preprocessing'></a>\n",
        "## 3. Preprocessing: Filtering, Normalizing, and Transforming\n",
        "\n",
        "### Filtering\n",
        "\n",
        "We filter the data by: \n",
        "1. Removing dead cells  \n",
        "2. Filtering by library size (if we did not do this prior to combining batches)\n",
        "3. Removing genes that are expressed in relatively few cells."
      ]
    },
    {
      "cell_type": "markdown",
      "metadata": {
        "colab_type": "text",
        "collapsed": true,
        "id": "3e3m5x8LacXd"
      },
      "source": [
        "### 3.1 Dead cell removal\n",
        "\n",
        "#### What does high mitochondrial gene expression indicate?\n",
        "\n",
        "Generally, we assume that cells with high detection of mitochondrial RNAs have undergone degradation of the mitochondrial membrane as a result of apoptosis. This may be from stress during dissociation, culture, or really anywhere in the experimental pipeline. As with the high and low library size cells, we want to remove the long tail from the distribution. In a successful experiment, it's typical for 5-10% of the cells to have this apoptotic signature.\n",
        "\n",
        "#### Plotting mitochondrial expression\n",
        "\n",
        "Let's look at the mitochondrial expression. You can do this using [`scprep.plot.plot_gene_set_expression()`](https://scprep.readthedocs.io/en/stable/reference.html#scprep.plot.plot_gene_set_expression), which conveniently gets you the list of mitochrondrial genes by name using the helper function [`scprep.select.get_gene_set()`](https://scprep.readthedocs.io/en/stable/reference.html#scprep.select.get_gene_set)."
      ]
    },
    {
      "cell_type": "code",
      "metadata": {
        "id": "6YJbjF_9x1tl",
        "colab_type": "code",
        "colab": {}
      },
      "source": [
        ""
      ],
      "execution_count": 0,
      "outputs": []
    },
    {
      "cell_type": "code",
      "metadata": {
        "colab_type": "code",
        "id": "1ZKa468GacXe",
        "scrolled": true,
        "colab": {
          "base_uri": "https://localhost:8080/",
          "height": 314
        },
        "outputId": "acfb562a-df84-41f7-bf4a-db20675626b5"
      },
      "source": [
        "# Plot all mitochondrial genes. There are 14, FYI.\n",
        "scprep.plot.plot_gene_set_expression(data, starts_with=\"mt-\",\n",
        "                                     library_size_normalize=True,\n",
        "                                     title=\"Mitochrondrial expression before filtering\")"
      ],
      "execution_count": 22,
      "outputs": [
        {
          "output_type": "execute_result",
          "data": {
            "text/plain": [
              "<matplotlib.axes._subplots.AxesSubplot at 0x7f9956ce2f60>"
            ]
          },
          "metadata": {
            "tags": []
          },
          "execution_count": 22
        },
        {
          "output_type": "display_data",
          "data": {
            "image/png": "[encoded data removed]",
            "text/plain": [
              "<Figure size 432x288 with 1 Axes>"
            ]
          },
          "metadata": {
            "tags": [],
            "needs_background": "light"
          }
        }
      ]
    },
    {
      "cell_type": "markdown",
      "metadata": {
        "colab_type": "text",
        "id": "3PBCeKuPacXh"
      },
      "source": [
        "Here we see that above some threshold, there is a steep increase in expression of mitochondrial RNAs. We'll remove these cells from further analysis. Choose a cut-off based on the histogram above and plot your chosen value on a new histogram.\n",
        "\n",
        "### Exercise 2 - filtering dead cells by mitochondrial expression"
      ]
    },
    {
      "cell_type": "code",
      "metadata": {
        "colab_type": "code",
        "id": "9VLut_AAi76F",
        "colab": {
          "base_uri": "https://localhost:8080/",
          "height": 314
        },
        "outputId": "7f5a076e-7000-432c-8ace-322ce55a0782"
      },
      "source": [
        "# ================\n",
        "# choose a cutoff at which to plot a red line such that you\n",
        "# remove cells with aberrant mitochondrial expression\n",
        "scprep.plot.plot_gene_set_expression(\n",
        "    data, starts_with=\"mt-\",\n",
        "    library_size_normalize=True,\n",
        "    cutoff = (1200,4000)\n",
        ")\n",
        "# ================"
      ],
      "execution_count": 23,
      "outputs": [
        {
          "output_type": "execute_result",
          "data": {
            "text/plain": [
              "<matplotlib.axes._subplots.AxesSubplot at 0x7f99570820b8>"
            ]
          },
          "metadata": {
            "tags": []
          },
          "execution_count": 23
        },
        {
          "output_type": "display_data",
          "data": {
            "image/png": "[encoded data removed]",
            "text/plain": [
              "<Figure size 432x288 with 1 Axes>"
            ]
          },
          "metadata": {
            "tags": [],
            "needs_background": "light"
          }
        }
      ]
    },
    {
      "cell_type": "markdown",
      "metadata": {
        "colab_type": "text",
        "id": "pZ7YEYfNi76L"
      },
      "source": [
        "Now we can remove those cells."
      ]
    },
    {
      "cell_type": "code",
      "metadata": {
        "colab_type": "code",
        "id": "IYhfs7y9acXi",
        "colab": {
          "base_uri": "https://localhost:8080/",
          "height": 34
        },
        "outputId": "9afce808-4502-4f3e-b0df-5f4ea468a58d"
      },
      "source": [
        "# ================\n",
        "# Fill in your chosen cutoff value\n",
        "cutoff = (1200)\n",
        "# ================\n",
        "data_filt, sample_labels = scprep.filter.filter_gene_set_expression(\n",
        "    data, sample_labels, starts_with=\"mt-\",\n",
        "    cutoff=cutoff, keep_cells='below', library_size_normalize=True)\n",
        "data_filt.shape"
      ],
      "execution_count": 25,
      "outputs": [
        {
          "output_type": "execute_result",
          "data": {
            "text/plain": [
              "(2799, 27998)"
            ]
          },
          "metadata": {
            "tags": []
          },
          "execution_count": 25
        }
      ]
    },
    {
      "cell_type": "markdown",
      "metadata": {
        "colab_type": "text",
        "id": "bSB0nhtNi76P"
      },
      "source": [
        "Let's look at that histogram again."
      ]
    },
    {
      "cell_type": "code",
      "metadata": {
        "colab_type": "code",
        "id": "DKEU2xCHi76R",
        "colab": {
          "base_uri": "https://localhost:8080/",
          "height": 314
        },
        "outputId": "fae7d1d9-7f49-493c-d1a1-fb4968b3e17d"
      },
      "source": [
        "scprep.plot.plot_gene_set_expression(data_filt, starts_with=\"mt-\",\n",
        "                                     library_size_normalize=True,\n",
        "                                     title=\"Mitochrondrial expression after filtering\")"
      ],
      "execution_count": 26,
      "outputs": [
        {
          "output_type": "execute_result",
          "data": {
            "text/plain": [
              "<matplotlib.axes._subplots.AxesSubplot at 0x7f995db656a0>"
            ]
          },
          "metadata": {
            "tags": []
          },
          "execution_count": 26
        },
        {
          "output_type": "display_data",
          "data": {
            "image/png": "[encoded data removed]",
            "text/plain": [
              "<Figure size 432x288 with 1 Axes>"
            ]
          },
          "metadata": {
            "tags": [],
            "needs_background": "light"
          }
        }
      ]
    },
    {
      "cell_type": "markdown",
      "metadata": {
        "colab_type": "text",
        "id": "sfqrFY7Li76U"
      },
      "source": [
        "Much better! We have a tight distribution without a long tail, indicating that all of our cells have relatively normal mitochondrial expression."
      ]
    },
    {
      "cell_type": "markdown",
      "metadata": {
        "colab_type": "text",
        "collapsed": true,
        "id": "ZxLVx9q1acXo"
      },
      "source": [
        "### 3.2 - Filtering lowly expressed genes\n",
        "\n",
        "#### Why remove lowly expressed genes?\n",
        "\n",
        "Capturing RNA from single cells is a noisy process. The first round of reverse transcription is done in the presence of cell lysate. This results in capture of only 10-40% of the mRNA molecules in a cell leading to a phenomenon called dropout where some lowly expressed genes are not detected in cells in which they are expressed [[1](https://www.ncbi.nlm.nih.gov/pmc/articles/PMC5561556/#CR13), [2](https://www.ncbi.nlm.nih.gov/pmc/articles/PMC5561556/#CR44), [3](https://www.ncbi.nlm.nih.gov/pmc/articles/PMC5561556/#CR64), [4](https://www.ncbi.nlm.nih.gov/pmc/articles/PMC5561556/#CR65)]. As a result, some genes are so lowly expressed (or expressed not at all) that we do not have sufficient observations of that gene to make any inferences on its expression.\n",
        "\n",
        "Lowly expressed genes that may only be represented by a handful of mRNAs may not appear in a given dataset. Others might only be present in a small number of cells. Because we lack sufficient information about these genes, we remove lowly expressed genes from the gene expression matrix during preprocessing. Typically, if a gene is detected in fewer than very few cells, it gets removed.\n",
        "\n",
        "Here, we can see that in EB dataset, there are many genes that are detected in very few cells."
      ]
    },
    {
      "cell_type": "code",
      "metadata": {
        "colab_type": "code",
        "id": "NdqadKiJi76V",
        "colab": {
          "base_uri": "https://localhost:8080/",
          "height": 314
        },
        "outputId": "8f3da8c2-01d3-42e5-fb63-0ebaea85d1bc"
      },
      "source": [
        "scprep.plot.histogram(scprep.measure.gene_capture_count(data_filt), log=True,\n",
        "                      title=\"Gene capture before filtering\",\n",
        "                     xlabel='# of cells with nonzero expression',\n",
        "                     ylabel='# of genes')"
      ],
      "execution_count": 27,
      "outputs": [
        {
          "output_type": "execute_result",
          "data": {
            "text/plain": [
              "<matplotlib.axes._subplots.AxesSubplot at 0x7f9953d37908>"
            ]
          },
          "metadata": {
            "tags": []
          },
          "execution_count": 27
        },
        {
          "output_type": "display_data",
          "data": {
            "image/png": "[encoded data removed]",
            "text/plain": [
              "<Figure size 432x288 with 1 Axes>"
            ]
          },
          "metadata": {
            "tags": [],
            "needs_background": "light"
          }
        }
      ]
    },
    {
      "cell_type": "markdown",
      "metadata": {
        "colab_type": "text",
        "id": "qn1hRMG0i76Z"
      },
      "source": [
        "Again, we see a relatively clean distribution on the right (genes observed in many cells) with a heavy tail on the right (rare genes). Where would you choose to cut this off?\n",
        "\n",
        "### Exercise 3 - filtering rare genes"
      ]
    },
    {
      "cell_type": "code",
      "metadata": {
        "colab_type": "code",
        "id": "TpodU2_5i76Z",
        "colab": {
          "base_uri": "https://localhost:8080/",
          "height": 314
        },
        "outputId": "0cece15b-a5c8-4ef4-d627-6fedadafc0ba"
      },
      "source": [
        "# ================\n",
        "# choose a cutoff\n",
        "scprep.plot.histogram(scprep.measure.gene_capture_count(data_filt), \n",
        "                      cutoff =(50,2500),\n",
        "                      log=True,\n",
        "                      title=\"Gene capture before filtering\",\n",
        "                     xlabel='# of cells with nonzero expression',\n",
        "                     ylabel='# of genes')\n",
        "# ================"
      ],
      "execution_count": 32,
      "outputs": [
        {
          "output_type": "execute_result",
          "data": {
            "text/plain": [
              "<matplotlib.axes._subplots.AxesSubplot at 0x7f9951abb9b0>"
            ]
          },
          "metadata": {
            "tags": []
          },
          "execution_count": 32
        },
        {
          "output_type": "display_data",
          "data": {
            "image/png": "[encoded data removed]",
            "text/plain": [
              "<Figure size 432x288 with 1 Axes>"
            ]
          },
          "metadata": {
            "tags": [],
            "needs_background": "light"
          }
        }
      ]
    },
    {
      "cell_type": "markdown",
      "metadata": {
        "colab_type": "text",
        "id": "FPXN0SVQi76c"
      },
      "source": [
        "Let's go ahead and remove those genes."
      ]
    },
    {
      "cell_type": "code",
      "metadata": {
        "colab_type": "code",
        "id": "9pyvgVwracXq",
        "colab": {}
      },
      "source": [
        "# ================\n",
        "# choose a cutoff\n",
        "cutoff = 50\n",
        "data = scprep.filter.filter_rare_genes(data_filt, min_cells=cutoff)\n",
        "# ================"
      ],
      "execution_count": 0,
      "outputs": []
    },
    {
      "cell_type": "markdown",
      "metadata": {
        "colab_type": "text",
        "id": "BLE4lM5Vi76h"
      },
      "source": [
        "We can plot the above histogram again for good measure. As you can see, the rare genes are all gone."
      ]
    },
    {
      "cell_type": "code",
      "metadata": {
        "colab_type": "code",
        "id": "0rFicdbei76h",
        "colab": {
          "base_uri": "https://localhost:8080/",
          "height": 314
        },
        "outputId": "2cc30df0-1176-484c-fa10-6df9c30de2ac"
      },
      "source": [
        "scprep.plot.histogram(scprep.measure.gene_capture_count(data_filt), cutoff=cutoff, log=True,\n",
        "                      title=\"Gene capture after filtering\",\n",
        "                     xlabel='# of cells with nonzero expression',\n",
        "                     ylabel='# of genes')"
      ],
      "execution_count": 34,
      "outputs": [
        {
          "output_type": "execute_result",
          "data": {
            "text/plain": [
              "<matplotlib.axes._subplots.AxesSubplot at 0x7f99510f4cc0>"
            ]
          },
          "metadata": {
            "tags": []
          },
          "execution_count": 34
        },
        {
          "output_type": "display_data",
          "data": {
            "image/png": "[encoded data removed]",
            "text/plain": [
              "<Figure size 432x288 with 1 Axes>"
            ]
          },
          "metadata": {
            "tags": [],
            "needs_background": "light"
          }
        }
      ]
    },
    {
      "cell_type": "code",
      "metadata": {
        "colab_type": "code",
        "id": "TyB3I31Ai76m",
        "colab": {
          "base_uri": "https://localhost:8080/",
          "height": 34
        },
        "outputId": "435c556c-d33f-44f3-c5d3-04774156c574"
      },
      "source": [
        "data_filt.shape"
      ],
      "execution_count": 35,
      "outputs": [
        {
          "output_type": "execute_result",
          "data": {
            "text/plain": [
              "(2799, 27998)"
            ]
          },
          "metadata": {
            "tags": []
          },
          "execution_count": 35
        }
      ]
    },
    {
      "cell_type": "markdown",
      "metadata": {
        "colab_type": "text",
        "id": "pdU5EQszi76r"
      },
      "source": [
        "After filtering, we have removed many thousands of genes. This will be our last filtering step, though you can always filter out aberrant expression on an ad hoc basis. As it stands, we've quite significantly reduced our dataset from 10,000 x 33,000 that we started with. And that's not even counting the cells we removed by library size before combining time points!"
      ]
    },
    {
      "cell_type": "markdown",
      "metadata": {
        "colab_type": "text",
        "id": "zTOt3GU2acXu"
      },
      "source": [
        "### 3.3 - Normalization\n",
        "\n",
        "As you saw during filtering, the range of library sizes between cells can be quite extreme. We visualized this for one time point pre-filtering, but let's now visualize the whole dataset, post-filtering."
      ]
    },
    {
      "cell_type": "code",
      "metadata": {
        "colab_type": "code",
        "id": "F2gLalYRi76r",
        "colab": {
          "base_uri": "https://localhost:8080/",
          "height": 314
        },
        "outputId": "2c096075-90bf-42da-9fbd-d1747f340a98"
      },
      "source": [
        "scprep.plot.plot_library_size(data_filt, title='Library size before normalization')"
      ],
      "execution_count": 36,
      "outputs": [
        {
          "output_type": "execute_result",
          "data": {
            "text/plain": [
              "<matplotlib.axes._subplots.AxesSubplot at 0x7f995095ac88>"
            ]
          },
          "metadata": {
            "tags": []
          },
          "execution_count": 36
        },
        {
          "output_type": "display_data",
          "data": {
            "image/png": "[encoded data removed]",
            "text/plain": [
              "<Figure size 432x288 with 1 Axes>"
            ]
          },
          "metadata": {
            "tags": [],
            "needs_background": "light"
          }
        }
      ]
    },
    {
      "cell_type": "markdown",
      "metadata": {
        "colab_type": "text",
        "id": "N62nnl8Ri76u"
      },
      "source": [
        "To correct for differences in library sizes, we divide each cell by its library size and then rescale by the a fixed value, sometimes the median library size. The default in `scprep` is to rescale every cell to 10,000 counts to make numbers comparable across datasets.\n",
        "\n",
        "In python this is performed using the preprocessing method [`scprep.normalize.library_size_normalize()`](https://scprep.readthedocs.io/en/stable/reference.html#scprep.normalize.library_size_normalize)."
      ]
    },
    {
      "cell_type": "code",
      "metadata": {
        "colab_type": "code",
        "id": "The5qKgGacXw",
        "colab": {}
      },
      "source": [
        "data_norm, library_size = scprep.normalize.library_size_normalize(data_filt, return_library_size=True)\n",
        "#data, metadata['library_size'] = scprep.normalize.library_size_normalize(data, return_library_size=True)"
      ],
      "execution_count": 0,
      "outputs": []
    },
    {
      "cell_type": "markdown",
      "metadata": {
        "colab_type": "text",
        "id": "siINZRAYi76y"
      },
      "source": [
        "If you plot the library sizes again, you'll see they are all the same."
      ]
    },
    {
      "cell_type": "code",
      "metadata": {
        "colab_type": "code",
        "id": "7dMxlh-9i76y",
        "colab": {
          "base_uri": "https://localhost:8080/",
          "height": 314
        },
        "outputId": "ac58e248-36f0-4674-e44a-ad0780ddb69d"
      },
      "source": [
        "scprep.plot.plot_library_size(data_norm, title='Library size after normalization')"
      ],
      "execution_count": 43,
      "outputs": [
        {
          "output_type": "execute_result",
          "data": {
            "text/plain": [
              "<matplotlib.axes._subplots.AxesSubplot at 0x7f994f097e10>"
            ]
          },
          "metadata": {
            "tags": []
          },
          "execution_count": 43
        },
        {
          "output_type": "display_data",
          "data": {
            "image/png": "[encoded data removed]",
            "text/plain": [
              "<Figure size 432x288 with 1 Axes>"
            ]
          },
          "metadata": {
            "tags": [],
            "needs_background": "light"
          }
        }
      ]
    },
    {
      "cell_type": "code",
      "metadata": {
        "id": "xd39kFpNMyXv",
        "colab_type": "code",
        "colab": {}
      },
      "source": [
        "metadata1 = pd.concat([library_size, sample_labels], axis=1)"
      ],
      "execution_count": 0,
      "outputs": []
    },
    {
      "cell_type": "code",
      "metadata": {
        "id": "6sjJVvggM59t",
        "colab_type": "code",
        "colab": {
          "base_uri": "https://localhost:8080/",
          "height": 419
        },
        "outputId": "4f587a33-a621-40f7-ec56-0385cc0bff18"
      },
      "source": [
        "metadata1"
      ],
      "execution_count": 41,
      "outputs": [
        {
          "output_type": "execute_result",
          "data": {
            "text/html": [
              "<div>\n",
              "<style scoped>\n",
              "    .dataframe tbody tr th:only-of-type {\n",
              "        vertical-align: middle;\n",
              "    }\n",
              "\n",
              "    .dataframe tbody tr th {\n",
              "        vertical-align: top;\n",
              "    }\n",
              "\n",
              "    .dataframe thead th {\n",
              "        text-align: right;\n",
              "    }\n",
              "</style>\n",
              "<table border=\"1\" class=\"dataframe\">\n",
              "  <thead>\n",
              "    <tr style=\"text-align: right;\">\n",
              "      <th></th>\n",
              "      <th>library_size</th>\n",
              "      <th>sample_labels</th>\n",
              "    </tr>\n",
              "  </thead>\n",
              "  <tbody>\n",
              "    <tr>\n",
              "      <th>AAACCCACAGGAATAT-1_Y</th>\n",
              "      <td>14858.0</td>\n",
              "      <td>Y</td>\n",
              "    </tr>\n",
              "    <tr>\n",
              "      <th>AAACGAAGTATGATCC-1_Y</th>\n",
              "      <td>13694.0</td>\n",
              "      <td>Y</td>\n",
              "    </tr>\n",
              "    <tr>\n",
              "      <th>AAACGCTCACGTCTCT-1_Y</th>\n",
              "      <td>14821.0</td>\n",
              "      <td>Y</td>\n",
              "    </tr>\n",
              "    <tr>\n",
              "      <th>AAACGCTCAGACCATT-1_Y</th>\n",
              "      <td>15369.0</td>\n",
              "      <td>Y</td>\n",
              "    </tr>\n",
              "    <tr>\n",
              "      <th>AAAGAACGTTGCGAAG-1_Y</th>\n",
              "      <td>15943.0</td>\n",
              "      <td>Y</td>\n",
              "    </tr>\n",
              "    <tr>\n",
              "      <th>...</th>\n",
              "      <td>...</td>\n",
              "      <td>...</td>\n",
              "    </tr>\n",
              "    <tr>\n",
              "      <th>TTTGATCTCATTCACT-1_KPY</th>\n",
              "      <td>16448.0</td>\n",
              "      <td>KPY</td>\n",
              "    </tr>\n",
              "    <tr>\n",
              "      <th>TTTGGAGCACGGTGAA-1_KPY</th>\n",
              "      <td>12697.0</td>\n",
              "      <td>KPY</td>\n",
              "    </tr>\n",
              "    <tr>\n",
              "      <th>TTTGGAGCAGCAGAAC-1_KPY</th>\n",
              "      <td>12523.0</td>\n",
              "      <td>KPY</td>\n",
              "    </tr>\n",
              "    <tr>\n",
              "      <th>TTTGGTTAGTCGAAGC-1_KPY</th>\n",
              "      <td>14307.0</td>\n",
              "      <td>KPY</td>\n",
              "    </tr>\n",
              "    <tr>\n",
              "      <th>TTTGTTGTCTCGGTAA-1_KPY</th>\n",
              "      <td>12606.0</td>\n",
              "      <td>KPY</td>\n",
              "    </tr>\n",
              "  </tbody>\n",
              "</table>\n",
              "<p>2799 rows × 2 columns</p>\n",
              "</div>"
            ],
            "text/plain": [
              "                        library_size sample_labels\n",
              "AAACCCACAGGAATAT-1_Y         14858.0             Y\n",
              "AAACGAAGTATGATCC-1_Y         13694.0             Y\n",
              "AAACGCTCACGTCTCT-1_Y         14821.0             Y\n",
              "AAACGCTCAGACCATT-1_Y         15369.0             Y\n",
              "AAAGAACGTTGCGAAG-1_Y         15943.0             Y\n",
              "...                              ...           ...\n",
              "TTTGATCTCATTCACT-1_KPY       16448.0           KPY\n",
              "TTTGGAGCACGGTGAA-1_KPY       12697.0           KPY\n",
              "TTTGGAGCAGCAGAAC-1_KPY       12523.0           KPY\n",
              "TTTGGTTAGTCGAAGC-1_KPY       14307.0           KPY\n",
              "TTTGTTGTCTCGGTAA-1_KPY       12606.0           KPY\n",
              "\n",
              "[2799 rows x 2 columns]"
            ]
          },
          "metadata": {
            "tags": []
          },
          "execution_count": 41
        }
      ]
    },
    {
      "cell_type": "markdown",
      "metadata": {
        "colab_type": "text",
        "id": "qtpLNUB2acX4"
      },
      "source": [
        "### 3.4 - Gene Count Transformation\n",
        "\n",
        "In scRNA-seq analysis, we often see that some genes are orders of magnitude more common than others. Let's have a look at the mean expression of each gene."
      ]
    },
    {
      "cell_type": "code",
      "metadata": {
        "colab_type": "code",
        "id": "dHRfDNx0i766",
        "colab": {
          "base_uri": "https://localhost:8080/",
          "height": 314
        },
        "outputId": "8b6374c7-fb21-428b-8034-dca5cea95604"
      },
      "source": [
        "scprep.plot.histogram(data_norm.mean(axis=0), log='y',\n",
        "                      title=\"Gene counts before transformation\",\n",
        "                     xlabel='total # of gene counts',\n",
        "                     ylabel='# of genes')"
      ],
      "execution_count": 44,
      "outputs": [
        {
          "output_type": "execute_result",
          "data": {
            "text/plain": [
              "<matplotlib.axes._subplots.AxesSubplot at 0x7f994f1ab5c0>"
            ]
          },
          "metadata": {
            "tags": []
          },
          "execution_count": 44
        },
        {
          "output_type": "display_data",
          "data": {
            "image/png": "[encoded data removed]",
            "text/plain": [
              "<Figure size 432x288 with 1 Axes>"
            ]
          },
          "metadata": {
            "tags": [],
            "needs_background": "light"
          }
        }
      ]
    },
    {
      "cell_type": "markdown",
      "metadata": {
        "colab_type": "text",
        "id": "XDpPOgUai76-"
      },
      "source": [
        "In order to avoid these high-expression genes dominating the variation, the data is often $\\log$-transformed. This typically requires the addition of some small value to avoid taking $\\log(0)$. We avoid this issue entirely by instead taking the square root transform. The square root function has a similar form as the $\\log$ function with the added benefit of being stable at 0."
      ]
    },
    {
      "cell_type": "code",
      "metadata": {
        "colab_type": "code",
        "id": "gnWsT6p5acX5",
        "colab": {}
      },
      "source": [
        "data_sqrt = scprep.transform.sqrt(data_norm)"
      ],
      "execution_count": 0,
      "outputs": []
    },
    {
      "cell_type": "markdown",
      "metadata": {
        "colab_type": "text",
        "id": "ONRY2Yvvi77B"
      },
      "source": [
        "After transformation, you should see that the mean expression values are now much closer together."
      ]
    },
    {
      "cell_type": "code",
      "metadata": {
        "colab_type": "code",
        "id": "lSnzRGaMi77C",
        "colab": {
          "base_uri": "https://localhost:8080/",
          "height": 314
        },
        "outputId": "8ddb1075-a8ef-49f5-d9cc-e3bf4fa614d1"
      },
      "source": [
        "scprep.plot.histogram(data_sqrt.mean(axis=0), log='y',\n",
        "                      title=\"Gene counts after transformation\",\n",
        "                     xlabel='total # of gene counts',\n",
        "                     ylabel='# of genes')"
      ],
      "execution_count": 46,
      "outputs": [
        {
          "output_type": "execute_result",
          "data": {
            "text/plain": [
              "<matplotlib.axes._subplots.AxesSubplot at 0x7f99640af6d8>"
            ]
          },
          "metadata": {
            "tags": []
          },
          "execution_count": 46
        },
        {
          "output_type": "display_data",
          "data": {
            "image/png": "[encoded data removed]",
            "text/plain": [
              "<Figure size 432x288 with 1 Axes>"
            ]
          },
          "metadata": {
            "tags": [],
            "needs_background": "light"
          }
        }
      ]
    },
    {
      "cell_type": "code",
      "metadata": {
        "id": "sKfbqkqfSyD6",
        "colab_type": "code",
        "colab": {
          "base_uri": "https://localhost:8080/",
          "height": 314
        },
        "outputId": "070d2582-d724-431d-aae0-1b62e3279448"
      },
      "source": [
        "scprep.plot.plot_gene_variability(data_sqrt, percentile=90)"
      ],
      "execution_count": 47,
      "outputs": [
        {
          "output_type": "execute_result",
          "data": {
            "text/plain": [
              "<matplotlib.axes._subplots.AxesSubplot at 0x7f9962b95668>"
            ]
          },
          "metadata": {
            "tags": []
          },
          "execution_count": 47
        },
        {
          "output_type": "display_data",
          "data": {
            "image/png": "[encoded data removed]",
            "text/plain": [
              "<Figure size 432x288 with 1 Axes>"
            ]
          },
          "metadata": {
            "tags": [],
            "needs_background": "light"
          }
        }
      ]
    },
    {
      "cell_type": "code",
      "metadata": {
        "id": "kQFtHS6mS5p5",
        "colab_type": "code",
        "colab": {}
      },
      "source": [
        "data_hvg = scprep.select.highly_variable_genes(data_sqrt, percentile=90)"
      ],
      "execution_count": 0,
      "outputs": []
    },
    {
      "cell_type": "code",
      "metadata": {
        "id": "MzH55KNTTD1R",
        "colab_type": "code",
        "colab": {
          "base_uri": "https://localhost:8080/",
          "height": 34
        },
        "outputId": "0275f959-fb6f-492b-c53d-acbf9c1c6f30"
      },
      "source": [
        "data_hvg.shape"
      ],
      "execution_count": 49,
      "outputs": [
        {
          "output_type": "execute_result",
          "data": {
            "text/plain": [
              "(2799, 2800)"
            ]
          },
          "metadata": {
            "tags": []
          },
          "execution_count": 49
        }
      ]
    },
    {
      "cell_type": "code",
      "metadata": {
        "id": "DJIoayO96Sao",
        "colab_type": "code",
        "colab": {
          "base_uri": "https://localhost:8080/",
          "height": 419
        },
        "outputId": "bc17c957-2437-4006-a1c2-dcdecadb2028"
      },
      "source": [
        "metadata1"
      ],
      "execution_count": 51,
      "outputs": [
        {
          "output_type": "execute_result",
          "data": {
            "text/html": [
              "<div>\n",
              "<style scoped>\n",
              "    .dataframe tbody tr th:only-of-type {\n",
              "        vertical-align: middle;\n",
              "    }\n",
              "\n",
              "    .dataframe tbody tr th {\n",
              "        vertical-align: top;\n",
              "    }\n",
              "\n",
              "    .dataframe thead th {\n",
              "        text-align: right;\n",
              "    }\n",
              "</style>\n",
              "<table border=\"1\" class=\"dataframe\">\n",
              "  <thead>\n",
              "    <tr style=\"text-align: right;\">\n",
              "      <th></th>\n",
              "      <th>library_size</th>\n",
              "      <th>sample_labels</th>\n",
              "    </tr>\n",
              "  </thead>\n",
              "  <tbody>\n",
              "    <tr>\n",
              "      <th>AAACCCACAGGAATAT-1_Y</th>\n",
              "      <td>14858.0</td>\n",
              "      <td>Y</td>\n",
              "    </tr>\n",
              "    <tr>\n",
              "      <th>AAACGAAGTATGATCC-1_Y</th>\n",
              "      <td>13694.0</td>\n",
              "      <td>Y</td>\n",
              "    </tr>\n",
              "    <tr>\n",
              "      <th>AAACGCTCACGTCTCT-1_Y</th>\n",
              "      <td>14821.0</td>\n",
              "      <td>Y</td>\n",
              "    </tr>\n",
              "    <tr>\n",
              "      <th>AAACGCTCAGACCATT-1_Y</th>\n",
              "      <td>15369.0</td>\n",
              "      <td>Y</td>\n",
              "    </tr>\n",
              "    <tr>\n",
              "      <th>AAAGAACGTTGCGAAG-1_Y</th>\n",
              "      <td>15943.0</td>\n",
              "      <td>Y</td>\n",
              "    </tr>\n",
              "    <tr>\n",
              "      <th>...</th>\n",
              "      <td>...</td>\n",
              "      <td>...</td>\n",
              "    </tr>\n",
              "    <tr>\n",
              "      <th>TTTGATCTCATTCACT-1_KPY</th>\n",
              "      <td>16448.0</td>\n",
              "      <td>KPY</td>\n",
              "    </tr>\n",
              "    <tr>\n",
              "      <th>TTTGGAGCACGGTGAA-1_KPY</th>\n",
              "      <td>12697.0</td>\n",
              "      <td>KPY</td>\n",
              "    </tr>\n",
              "    <tr>\n",
              "      <th>TTTGGAGCAGCAGAAC-1_KPY</th>\n",
              "      <td>12523.0</td>\n",
              "      <td>KPY</td>\n",
              "    </tr>\n",
              "    <tr>\n",
              "      <th>TTTGGTTAGTCGAAGC-1_KPY</th>\n",
              "      <td>14307.0</td>\n",
              "      <td>KPY</td>\n",
              "    </tr>\n",
              "    <tr>\n",
              "      <th>TTTGTTGTCTCGGTAA-1_KPY</th>\n",
              "      <td>12606.0</td>\n",
              "      <td>KPY</td>\n",
              "    </tr>\n",
              "  </tbody>\n",
              "</table>\n",
              "<p>2799 rows × 2 columns</p>\n",
              "</div>"
            ],
            "text/plain": [
              "                        library_size sample_labels\n",
              "AAACCCACAGGAATAT-1_Y         14858.0             Y\n",
              "AAACGAAGTATGATCC-1_Y         13694.0             Y\n",
              "AAACGCTCACGTCTCT-1_Y         14821.0             Y\n",
              "AAACGCTCAGACCATT-1_Y         15369.0             Y\n",
              "AAAGAACGTTGCGAAG-1_Y         15943.0             Y\n",
              "...                              ...           ...\n",
              "TTTGATCTCATTCACT-1_KPY       16448.0           KPY\n",
              "TTTGGAGCACGGTGAA-1_KPY       12697.0           KPY\n",
              "TTTGGAGCAGCAGAAC-1_KPY       12523.0           KPY\n",
              "TTTGGTTAGTCGAAGC-1_KPY       14307.0           KPY\n",
              "TTTGTTGTCTCGGTAA-1_KPY       12606.0           KPY\n",
              "\n",
              "[2799 rows x 2 columns]"
            ]
          },
          "metadata": {
            "tags": []
          },
          "execution_count": 51
        }
      ]
    },
    {
      "cell_type": "markdown",
      "metadata": {
        "colab_type": "text",
        "id": "67r61LQuvEwd"
      },
      "source": [
        "### 4.0 Saving the output\n",
        "\n",
        "There are many ways to save a Pandas DataFrame, including built in `pandas` function [`DataFrame.to_csv`](https://pandas.pydata.org/pandas-docs/stable/user_guide/io.html#writing-out-data) and `scprep` function [`scprep.io.save_mtx`](https://scprep.readthedocs.io/en/stable/reference.html#scprep.io.save_mtx). For speed, we will be using [`DataFrame.to_pickle`](https://pandas.pydata.org/pandas-docs/stable/user_guide/io.html#pickling) which is extremely fast and efficient for reading and writing matrices in Python.\n",
        "\n",
        "The next cell will write the processed data matrices to disk."
      ]
    },
    {
      "cell_type": "markdown",
      "metadata": {
        "id": "Nqxy0fUi9Ye6",
        "colab_type": "text"
      },
      "source": [
        ""
      ]
    },
    {
      "cell_type": "code",
      "metadata": {
        "colab_type": "code",
        "id": "PlT1MDf2wFzF",
        "colab": {}
      },
      "source": [
        "\n",
        "data_sqrt.to_pickle(\"/content/gdrive/My Drive/TimeSeries_Machine_Learning_DAY2/Controls_AD1_AD2.pickle.gz\")\n",
        "metadata1.to_pickle(\"/content/gdrive/My Drive/TimeSeries_Machine_Learning_DAY2/metadata1_AD1_AD2.pickle.gz\")\n",
        "#os.remove(\"data_AD1_AD2.pickle.gz\")\n",
        "#os.remove(\"metadata_AD1_AD2.pickle.gz\")"
      ],
      "execution_count": 0,
      "outputs": []
    },
    {
      "cell_type": "markdown",
      "metadata": {
        "id": "eygLVBBtk_eS",
        "colab_type": "text"
      },
      "source": [
        "To see the new files in the Files pane, click \"Refresh\".\n",
        "\n",
        "![How to refresh the files pane in Colab](https://github.com/KrishnaswamyLab/SingleCellWorkshop/raw/master/exercises/Preprocessing/img/refresh.png)"
      ]
    },
    {
      "cell_type": "markdown",
      "metadata": {
        "id": "ql-FBaZbk_eS",
        "colab_type": "text"
      },
      "source": [
        "Click the three dots on `data.pickle` and select \"Download\". It may take a while to prepare the download. Repeat for `metadata.pickle`.\n",
        "\n",
        "![How to download files in Colab](https://github.com/KrishnaswamyLab/SingleCellWorkshop/raw/master/exercises/Preprocessing/img/download.png)"
      ]
    },
    {
      "cell_type": "markdown",
      "metadata": {
        "id": "mQQcxg6Sk_eT",
        "colab_type": "text"
      },
      "source": [
        "You may upload these to any of the workshop notebooks in order to use your own data in place of the provided data by uploading them to [Google Drive](https://drive.google.com) and replacing the file hash in any of the downloads with your own file hash.\n",
        "\n",
        "Upload the files to Google Drive by dragging the files you downloaded into the Google Drive browser window."
      ]
    },
    {
      "cell_type": "code",
      "metadata": {
        "id": "RlDINw70l0mk",
        "colab_type": "code",
        "colab": {}
      },
      "source": [
        "from google.colab import drive\n",
        "drive.mount('/content/drive/')\n",
        "#/content/metadata_AD1_AD2.pickle.gz\n",
        "#https://drive.google.com/open?id=1GjZp5qLoU3XZ-nkjl0fhty0lzc-lSJ3v"
      ],
      "execution_count": 0,
      "outputs": []
    },
    {
      "cell_type": "code",
      "metadata": {
        "id": "TlXydRf2109u",
        "colab_type": "code",
        "colab": {}
      },
      "source": [
        ""
      ],
      "execution_count": 0,
      "outputs": []
    },
    {
      "cell_type": "markdown",
      "metadata": {
        "id": "HMdjmfA3k_eT",
        "colab_type": "text"
      },
      "source": [
        "To find the file hash for your uploaded files, right click on the file and click \"Get Shareable Link\". \n",
        "\n",
        "![image.png](attachment:image.png)\n",
        "\n",
        "You should see something like this:\n",
        "```\n",
        "https://drive.google.com/open?id=1Xz0ONnRWp2MLC_R6r74MzNwaZ4DkQPcM\n",
        "```\n",
        "or like this:\n",
        "```\n",
        "https://drive.google.com/file/d/1Xz0ONnRWp2MLC_R6r74MzNwaZ4DkQPcM/view?usp=sharing\n",
        "```\n",
        "Either way, what we're looking for is that string of random letters and numbers, either between **`id=`** and the end, or between **`/d/`** and **`/view`**. In this case, the hash is `1Xz0ONnRWp2MLC_R6r74MzNwaZ4DkQPcM`.\n",
        "\n",
        "Once we have the hash, we can download the file using [`scprep.io.download.download_google_drive`](https://scprep.readthedocs.io/en/stable/reference.html#scprep.io.download.download_google_drive)."
      ]
    },
    {
      "cell_type": "code",
      "metadata": {
        "id": "Y3uw29K41AMK",
        "colab_type": "code",
        "colab": {}
      },
      "source": [
        "import pandas as pd\n",
        "import os, sys\n",
        "file_name=\"data_AD1_AD2.pickle.gz\"\n",
        "print(os.stat('/content/drive/My Drive/test.doc.gdoc'))"
      ],
      "execution_count": 0,
      "outputs": []
    },
    {
      "cell_type": "code",
      "metadata": {
        "id": "dFdUziQfk_eU",
        "colab_type": "code",
        "colab": {}
      },
      "source": [
        "scprep.io.download.download_google_drive(\"1hOfGYwlaToBvIuDLC1e_ZY8Faautu7l6\", \"data_AD1_AD2.pickle.gz\")\n",
        "pd.read_pickle(\"data_AD1_AD2.pickle.gz\")"
      ],
      "execution_count": 0,
      "outputs": []
    },
    {
      "cell_type": "markdown",
      "metadata": {
        "colab_type": "text",
        "id": "Rmd8OovSi77Q"
      },
      "source": [
        "## Summary\n",
        "\n",
        "To summarize, we've preprocessed our data as follows:\n",
        "\n",
        "1. Filter by library size to remove empty droplets and doublets\n",
        "2. Combine batches\n",
        "3. Filter out rarely expressed genes\n",
        "4. Filter cells with high mitochrondrial expression\n",
        "5. Normalize by library size\n",
        "6. Square root transform\n",
        "7. Save and download"
      ]
    }
  ]
}